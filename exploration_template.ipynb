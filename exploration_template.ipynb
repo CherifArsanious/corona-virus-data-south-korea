{
  "nbformat": 4,
  "nbformat_minor": 0,
  "metadata": {
    "kernelspec": {
      "display_name": "Python [default]",
      "language": "python",
      "name": "python3"
    },
    "language_info": {
      "codemirror_mode": {
        "name": "ipython",
        "version": 3
      },
      "file_extension": ".py",
      "mimetype": "text/x-python",
      "name": "python",
      "nbconvert_exporter": "python",
      "pygments_lexer": "ipython3",
      "version": "3.5.3"
    },
    "colab": {
      "name": "exploration_template.ipynb",
      "provenance": []
    }
  },
  "cells": [
    {
      "cell_type": "markdown",
      "metadata": {
        "id": "d7Zkj-tnPdhV",
        "colab_type": "text"
      },
      "source": [
        "# Covid-19 (Corona Virus) Dataset in South Korea\n",
        "## by Cherif Arsanious\n",
        "\n",
        "## Preliminary Wrangling\n",
        "\n",
        "> From World Health Organization - On 31 December 2019, WHO was alerted to several cases of pneumonia in Wuhan City, Hubei Province of China. The virus did not match any other known virus. This raised concern because when a virus is new, we do not know how it affects people.\n",
        "\n",
        "So daily level information on the affected people can give some interesting insights when it is made available to the broader data science community.\n",
        "\n",
        "2019 Novel Coronavirus (2019-nCoV) is a virus (more specifically, a coronavirus) identified as the cause of an outbreak of respiratory illness first detected in Wuhan, China. Early on, many of the patients in the outbreak in Wuhan, China reportedly had some link to a large seafood and animal market, suggesting animal-to-person spread. However, a growing number of patients reportedly have not had exposure to animal markets, indicating person-to-person spread is occurring. At this time, it’s unclear how easily or sustainably this virus is spreading between people - CDC\n",
        "\n",
        "COVID-19 has infected more than 8000 people in South Korea.\n",
        "KCDC (Korea Centers for Disease Control & Prevention) announces the information of COVID-19 quickly and transparently.\n",
        "Kaggle website made a structured dataset based on the report materials of KCDC and local governments.\n",
        "Also, we analyze and visualize the data using various data mining or visualization techniques.\n",
        "\n",
        "link to Kaggle dataset https://www.kaggle.com/kimjihoo/coronavirusdataset\n"
      ]
    },
    {
      "cell_type": "code",
      "metadata": {
        "id": "R8eiFr9yPdhf",
        "colab_type": "code",
        "colab": {}
      },
      "source": [
        "# import all packages and set plots to be embedded inline\n",
        "import numpy as np\n",
        "import pandas as pd\n",
        "import matplotlib.pyplot as plt\n",
        "import seaborn as sb\n",
        "\n",
        "%matplotlib inline"
      ],
      "execution_count": 0,
      "outputs": []
    },
    {
      "cell_type": "code",
      "metadata": {
        "id": "sRFaTdXfQSBP",
        "colab_type": "code",
        "colab": {
          "base_uri": "https://localhost:8080/",
          "height": 119
        },
        "outputId": "faf8f6f3-3be4-44c4-9546-16933034e6fb"
      },
      "source": [
        "! git clone https://github.com/CherifArsanious/corona-virus-data-south-korea.git"
      ],
      "execution_count": 2,
      "outputs": [
        {
          "output_type": "stream",
          "text": [
            "Cloning into 'corona-virus-data-south-korea'...\n",
            "remote: Enumerating objects: 17, done.\u001b[K\n",
            "remote: Counting objects: 100% (17/17), done.\u001b[K\n",
            "remote: Compressing objects: 100% (17/17), done.\u001b[K\n",
            "remote: Total 17 (delta 0), reused 0 (delta 0), pack-reused 0\u001b[K\n",
            "Unpacking objects: 100% (17/17), done.\n"
          ],
          "name": "stdout"
        }
      ]
    },
    {
      "cell_type": "markdown",
      "metadata": {
        "id": "7dae3G4ZPdht",
        "colab_type": "text"
      },
      "source": [
        "> Load in your dataset and describe its properties through the questions below.\n",
        "Try and motivate your exploration goals through this section."
      ]
    },
    {
      "cell_type": "code",
      "metadata": {
        "id": "O-eKmrLoPdhw",
        "colab_type": "code",
        "colab": {
          "base_uri": "https://localhost:8080/",
          "height": 292
        },
        "outputId": "b3a3107b-bf7f-4240-db3f-76ab7c7a4092"
      },
      "source": [
        "df=pd.read_csv('PatientInfo.csv')\n",
        "df.head()"
      ],
      "execution_count": 4,
      "outputs": [
        {
          "output_type": "execute_result",
          "data": {
            "text/html": [
              "<div>\n",
              "<style scoped>\n",
              "    .dataframe tbody tr th:only-of-type {\n",
              "        vertical-align: middle;\n",
              "    }\n",
              "\n",
              "    .dataframe tbody tr th {\n",
              "        vertical-align: top;\n",
              "    }\n",
              "\n",
              "    .dataframe thead th {\n",
              "        text-align: right;\n",
              "    }\n",
              "</style>\n",
              "<table border=\"1\" class=\"dataframe\">\n",
              "  <thead>\n",
              "    <tr style=\"text-align: right;\">\n",
              "      <th></th>\n",
              "      <th>patient_id</th>\n",
              "      <th>global_num</th>\n",
              "      <th>sex</th>\n",
              "      <th>birth_year</th>\n",
              "      <th>age</th>\n",
              "      <th>country</th>\n",
              "      <th>province</th>\n",
              "      <th>city</th>\n",
              "      <th>disease</th>\n",
              "      <th>infection_case</th>\n",
              "      <th>infection_order</th>\n",
              "      <th>infected_by</th>\n",
              "      <th>contact_number</th>\n",
              "      <th>symptom_onset_date</th>\n",
              "      <th>confirmed_date</th>\n",
              "      <th>released_date</th>\n",
              "      <th>deceased_date</th>\n",
              "      <th>state</th>\n",
              "    </tr>\n",
              "  </thead>\n",
              "  <tbody>\n",
              "    <tr>\n",
              "      <th>0</th>\n",
              "      <td>1000000001</td>\n",
              "      <td>2.0</td>\n",
              "      <td>male</td>\n",
              "      <td>1964.0</td>\n",
              "      <td>50s</td>\n",
              "      <td>Korea</td>\n",
              "      <td>Seoul</td>\n",
              "      <td>Gangseo-gu</td>\n",
              "      <td>NaN</td>\n",
              "      <td>overseas inflow</td>\n",
              "      <td>1.0</td>\n",
              "      <td>NaN</td>\n",
              "      <td>75.0</td>\n",
              "      <td>2020-01-22</td>\n",
              "      <td>2020-01-23</td>\n",
              "      <td>2020-02-05</td>\n",
              "      <td>NaN</td>\n",
              "      <td>released</td>\n",
              "    </tr>\n",
              "    <tr>\n",
              "      <th>1</th>\n",
              "      <td>1000000002</td>\n",
              "      <td>5.0</td>\n",
              "      <td>male</td>\n",
              "      <td>1987.0</td>\n",
              "      <td>30s</td>\n",
              "      <td>Korea</td>\n",
              "      <td>Seoul</td>\n",
              "      <td>Jungnang-gu</td>\n",
              "      <td>NaN</td>\n",
              "      <td>overseas inflow</td>\n",
              "      <td>1.0</td>\n",
              "      <td>NaN</td>\n",
              "      <td>31.0</td>\n",
              "      <td>NaN</td>\n",
              "      <td>2020-01-30</td>\n",
              "      <td>2020-03-02</td>\n",
              "      <td>NaN</td>\n",
              "      <td>released</td>\n",
              "    </tr>\n",
              "    <tr>\n",
              "      <th>2</th>\n",
              "      <td>1000000003</td>\n",
              "      <td>6.0</td>\n",
              "      <td>male</td>\n",
              "      <td>1964.0</td>\n",
              "      <td>50s</td>\n",
              "      <td>Korea</td>\n",
              "      <td>Seoul</td>\n",
              "      <td>Jongno-gu</td>\n",
              "      <td>NaN</td>\n",
              "      <td>contact with patient</td>\n",
              "      <td>2.0</td>\n",
              "      <td>2.002000e+09</td>\n",
              "      <td>17.0</td>\n",
              "      <td>NaN</td>\n",
              "      <td>2020-01-30</td>\n",
              "      <td>2020-02-19</td>\n",
              "      <td>NaN</td>\n",
              "      <td>released</td>\n",
              "    </tr>\n",
              "    <tr>\n",
              "      <th>3</th>\n",
              "      <td>1000000004</td>\n",
              "      <td>7.0</td>\n",
              "      <td>male</td>\n",
              "      <td>1991.0</td>\n",
              "      <td>20s</td>\n",
              "      <td>Korea</td>\n",
              "      <td>Seoul</td>\n",
              "      <td>Mapo-gu</td>\n",
              "      <td>NaN</td>\n",
              "      <td>overseas inflow</td>\n",
              "      <td>1.0</td>\n",
              "      <td>NaN</td>\n",
              "      <td>9.0</td>\n",
              "      <td>2020-01-26</td>\n",
              "      <td>2020-01-30</td>\n",
              "      <td>2020-02-15</td>\n",
              "      <td>NaN</td>\n",
              "      <td>released</td>\n",
              "    </tr>\n",
              "    <tr>\n",
              "      <th>4</th>\n",
              "      <td>1000000005</td>\n",
              "      <td>9.0</td>\n",
              "      <td>female</td>\n",
              "      <td>1992.0</td>\n",
              "      <td>20s</td>\n",
              "      <td>Korea</td>\n",
              "      <td>Seoul</td>\n",
              "      <td>Seongbuk-gu</td>\n",
              "      <td>NaN</td>\n",
              "      <td>contact with patient</td>\n",
              "      <td>2.0</td>\n",
              "      <td>1.000000e+09</td>\n",
              "      <td>2.0</td>\n",
              "      <td>NaN</td>\n",
              "      <td>2020-01-31</td>\n",
              "      <td>2020-02-24</td>\n",
              "      <td>NaN</td>\n",
              "      <td>released</td>\n",
              "    </tr>\n",
              "  </tbody>\n",
              "</table>\n",
              "</div>"
            ],
            "text/plain": [
              "   patient_id  global_num     sex  ...  released_date deceased_date     state\n",
              "0  1000000001         2.0    male  ...     2020-02-05           NaN  released\n",
              "1  1000000002         5.0    male  ...     2020-03-02           NaN  released\n",
              "2  1000000003         6.0    male  ...     2020-02-19           NaN  released\n",
              "3  1000000004         7.0    male  ...     2020-02-15           NaN  released\n",
              "4  1000000005         9.0  female  ...     2020-02-24           NaN  released\n",
              "\n",
              "[5 rows x 18 columns]"
            ]
          },
          "metadata": {
            "tags": []
          },
          "execution_count": 4
        }
      ]
    },
    {
      "cell_type": "code",
      "metadata": {
        "id": "wgcqECspWgm4",
        "colab_type": "code",
        "colab": {
          "base_uri": "https://localhost:8080/",
          "height": 241
        },
        "outputId": "e9123200-7101-4271-aefe-1e45a77d8955"
      },
      "source": [
        "df.tail()"
      ],
      "execution_count": 5,
      "outputs": [
        {
          "output_type": "execute_result",
          "data": {
            "text/html": [
              "<div>\n",
              "<style scoped>\n",
              "    .dataframe tbody tr th:only-of-type {\n",
              "        vertical-align: middle;\n",
              "    }\n",
              "\n",
              "    .dataframe tbody tr th {\n",
              "        vertical-align: top;\n",
              "    }\n",
              "\n",
              "    .dataframe thead th {\n",
              "        text-align: right;\n",
              "    }\n",
              "</style>\n",
              "<table border=\"1\" class=\"dataframe\">\n",
              "  <thead>\n",
              "    <tr style=\"text-align: right;\">\n",
              "      <th></th>\n",
              "      <th>patient_id</th>\n",
              "      <th>global_num</th>\n",
              "      <th>sex</th>\n",
              "      <th>birth_year</th>\n",
              "      <th>age</th>\n",
              "      <th>country</th>\n",
              "      <th>province</th>\n",
              "      <th>city</th>\n",
              "      <th>disease</th>\n",
              "      <th>infection_case</th>\n",
              "      <th>infection_order</th>\n",
              "      <th>infected_by</th>\n",
              "      <th>contact_number</th>\n",
              "      <th>symptom_onset_date</th>\n",
              "      <th>confirmed_date</th>\n",
              "      <th>released_date</th>\n",
              "      <th>deceased_date</th>\n",
              "      <th>state</th>\n",
              "    </tr>\n",
              "  </thead>\n",
              "  <tbody>\n",
              "    <tr>\n",
              "      <th>2238</th>\n",
              "      <td>6100000085</td>\n",
              "      <td>NaN</td>\n",
              "      <td>male</td>\n",
              "      <td>1990.0</td>\n",
              "      <td>30s</td>\n",
              "      <td>Korea</td>\n",
              "      <td>Gyeongsangnam-do</td>\n",
              "      <td>Changwon-si</td>\n",
              "      <td>NaN</td>\n",
              "      <td>NaN</td>\n",
              "      <td>NaN</td>\n",
              "      <td>NaN</td>\n",
              "      <td>NaN</td>\n",
              "      <td>NaN</td>\n",
              "      <td>2020-03-16</td>\n",
              "      <td>NaN</td>\n",
              "      <td>NaN</td>\n",
              "      <td>NaN</td>\n",
              "    </tr>\n",
              "    <tr>\n",
              "      <th>2239</th>\n",
              "      <td>7000000001</td>\n",
              "      <td>139.0</td>\n",
              "      <td>male</td>\n",
              "      <td>1998.0</td>\n",
              "      <td>20s</td>\n",
              "      <td>Korea</td>\n",
              "      <td>Jeju-do</td>\n",
              "      <td>Jeju-do</td>\n",
              "      <td>NaN</td>\n",
              "      <td>etc</td>\n",
              "      <td>NaN</td>\n",
              "      <td>NaN</td>\n",
              "      <td>87.0</td>\n",
              "      <td>NaN</td>\n",
              "      <td>2020-02-20</td>\n",
              "      <td>NaN</td>\n",
              "      <td>NaN</td>\n",
              "      <td>isolated</td>\n",
              "    </tr>\n",
              "    <tr>\n",
              "      <th>2240</th>\n",
              "      <td>7000000002</td>\n",
              "      <td>222.0</td>\n",
              "      <td>female</td>\n",
              "      <td>1998.0</td>\n",
              "      <td>20s</td>\n",
              "      <td>Korea</td>\n",
              "      <td>Jeju-do</td>\n",
              "      <td>Jeju-do</td>\n",
              "      <td>NaN</td>\n",
              "      <td>etc</td>\n",
              "      <td>NaN</td>\n",
              "      <td>NaN</td>\n",
              "      <td>84.0</td>\n",
              "      <td>NaN</td>\n",
              "      <td>2020-02-22</td>\n",
              "      <td>2020-03-07</td>\n",
              "      <td>NaN</td>\n",
              "      <td>released</td>\n",
              "    </tr>\n",
              "    <tr>\n",
              "      <th>2241</th>\n",
              "      <td>7000000003</td>\n",
              "      <td>4345.0</td>\n",
              "      <td>female</td>\n",
              "      <td>1972.0</td>\n",
              "      <td>40s</td>\n",
              "      <td>Korea</td>\n",
              "      <td>Jeju-do</td>\n",
              "      <td>etc</td>\n",
              "      <td>NaN</td>\n",
              "      <td>etc</td>\n",
              "      <td>NaN</td>\n",
              "      <td>NaN</td>\n",
              "      <td>21.0</td>\n",
              "      <td>NaN</td>\n",
              "      <td>2020-03-02</td>\n",
              "      <td>2020-03-15</td>\n",
              "      <td>NaN</td>\n",
              "      <td>released</td>\n",
              "    </tr>\n",
              "    <tr>\n",
              "      <th>2242</th>\n",
              "      <td>7000000004</td>\n",
              "      <td>5534.0</td>\n",
              "      <td>male</td>\n",
              "      <td>1974.0</td>\n",
              "      <td>40s</td>\n",
              "      <td>Korea</td>\n",
              "      <td>Jeju-do</td>\n",
              "      <td>Jeju-do</td>\n",
              "      <td>NaN</td>\n",
              "      <td>etc</td>\n",
              "      <td>NaN</td>\n",
              "      <td>NaN</td>\n",
              "      <td>74.0</td>\n",
              "      <td>NaN</td>\n",
              "      <td>2020-03-04</td>\n",
              "      <td>NaN</td>\n",
              "      <td>NaN</td>\n",
              "      <td>isolated</td>\n",
              "    </tr>\n",
              "  </tbody>\n",
              "</table>\n",
              "</div>"
            ],
            "text/plain": [
              "      patient_id  global_num     sex  ...  released_date deceased_date     state\n",
              "2238  6100000085         NaN    male  ...            NaN           NaN       NaN\n",
              "2239  7000000001       139.0    male  ...            NaN           NaN  isolated\n",
              "2240  7000000002       222.0  female  ...     2020-03-07           NaN  released\n",
              "2241  7000000003      4345.0  female  ...     2020-03-15           NaN  released\n",
              "2242  7000000004      5534.0    male  ...            NaN           NaN  isolated\n",
              "\n",
              "[5 rows x 18 columns]"
            ]
          },
          "metadata": {
            "tags": []
          },
          "execution_count": 5
        }
      ]
    },
    {
      "cell_type": "code",
      "metadata": {
        "id": "1Qg00HdkWsyU",
        "colab_type": "code",
        "colab": {
          "base_uri": "https://localhost:8080/",
          "height": 34
        },
        "outputId": "36d8bdac-6548-4c58-91cd-21ff4a988316"
      },
      "source": [
        "df.shape"
      ],
      "execution_count": 6,
      "outputs": [
        {
          "output_type": "execute_result",
          "data": {
            "text/plain": [
              "(2243, 18)"
            ]
          },
          "metadata": {
            "tags": []
          },
          "execution_count": 6
        }
      ]
    },
    {
      "cell_type": "code",
      "metadata": {
        "id": "MSkquVhZbeEq",
        "colab_type": "code",
        "colab": {
          "base_uri": "https://localhost:8080/",
          "height": 419
        },
        "outputId": "a395c172-62f1-40c2-840c-ae78ba2d50ad"
      },
      "source": [
        "df_2=df.groupby(['city'])['patient_id'].count()\n",
        "\n",
        "df_2=pd.DataFrame(df_2)\n",
        "df_2=df_2.reset_index()\n",
        "df_2=df_2.rename(columns={'patient_id':'nb_of_patients'})\n",
        "df_2"
      ],
      "execution_count": 35,
      "outputs": [
        {
          "output_type": "execute_result",
          "data": {
            "text/html": [
              "<div>\n",
              "<style scoped>\n",
              "    .dataframe tbody tr th:only-of-type {\n",
              "        vertical-align: middle;\n",
              "    }\n",
              "\n",
              "    .dataframe tbody tr th {\n",
              "        vertical-align: top;\n",
              "    }\n",
              "\n",
              "    .dataframe thead th {\n",
              "        text-align: right;\n",
              "    }\n",
              "</style>\n",
              "<table border=\"1\" class=\"dataframe\">\n",
              "  <thead>\n",
              "    <tr style=\"text-align: right;\">\n",
              "      <th></th>\n",
              "      <th>city</th>\n",
              "      <th>nb_of_patients</th>\n",
              "    </tr>\n",
              "  </thead>\n",
              "  <tbody>\n",
              "    <tr>\n",
              "      <th>0</th>\n",
              "      <td>Andong-si</td>\n",
              "      <td>47</td>\n",
              "    </tr>\n",
              "    <tr>\n",
              "      <th>1</th>\n",
              "      <td>Ansan-si</td>\n",
              "      <td>5</td>\n",
              "    </tr>\n",
              "    <tr>\n",
              "      <th>2</th>\n",
              "      <td>Anseong-si</td>\n",
              "      <td>1</td>\n",
              "    </tr>\n",
              "    <tr>\n",
              "      <th>3</th>\n",
              "      <td>Anyang-si</td>\n",
              "      <td>14</td>\n",
              "    </tr>\n",
              "    <tr>\n",
              "      <th>4</th>\n",
              "      <td>Asan-si</td>\n",
              "      <td>9</td>\n",
              "    </tr>\n",
              "    <tr>\n",
              "      <th>...</th>\n",
              "      <td>...</td>\n",
              "      <td>...</td>\n",
              "    </tr>\n",
              "    <tr>\n",
              "      <th>129</th>\n",
              "      <td>Yongin-si</td>\n",
              "      <td>24</td>\n",
              "    </tr>\n",
              "    <tr>\n",
              "      <th>130</th>\n",
              "      <td>Yongsan-gu</td>\n",
              "      <td>5</td>\n",
              "    </tr>\n",
              "    <tr>\n",
              "      <th>131</th>\n",
              "      <td>Yuseong-gu</td>\n",
              "      <td>11</td>\n",
              "    </tr>\n",
              "    <tr>\n",
              "      <th>132</th>\n",
              "      <td>etc</td>\n",
              "      <td>26</td>\n",
              "    </tr>\n",
              "    <tr>\n",
              "      <th>133</th>\n",
              "      <td>pocheon-si</td>\n",
              "      <td>1</td>\n",
              "    </tr>\n",
              "  </tbody>\n",
              "</table>\n",
              "<p>134 rows × 2 columns</p>\n",
              "</div>"
            ],
            "text/plain": [
              "           city  nb_of_patients\n",
              "0     Andong-si              47\n",
              "1      Ansan-si               5\n",
              "2    Anseong-si               1\n",
              "3     Anyang-si              14\n",
              "4       Asan-si               9\n",
              "..          ...             ...\n",
              "129   Yongin-si              24\n",
              "130  Yongsan-gu               5\n",
              "131  Yuseong-gu              11\n",
              "132         etc              26\n",
              "133  pocheon-si               1\n",
              "\n",
              "[134 rows x 2 columns]"
            ]
          },
          "metadata": {
            "tags": []
          },
          "execution_count": 35
        }
      ]
    },
    {
      "cell_type": "code",
      "metadata": {
        "id": "KuRRPapSh2Gv",
        "colab_type": "code",
        "colab": {
          "base_uri": "https://localhost:8080/",
          "height": 607
        },
        "outputId": "75da0b77-10c1-4b76-cf89-db6952fd9e05"
      },
      "source": [
        "region_df = pd.read_csv('Region.csv')\n",
        "region_df.head()\n",
        "region_df2= region_df.groupby(['province'])[['elementary_school_count','kindergarten_count','university_count','academy_ratio','elderly_population_ratio','nursing_home_count']].sum()\n",
        "region_df2= region_df2.reset_index()\n",
        "region_df2"
      ],
      "execution_count": 40,
      "outputs": [
        {
          "output_type": "execute_result",
          "data": {
            "text/html": [
              "<div>\n",
              "<style scoped>\n",
              "    .dataframe tbody tr th:only-of-type {\n",
              "        vertical-align: middle;\n",
              "    }\n",
              "\n",
              "    .dataframe tbody tr th {\n",
              "        vertical-align: top;\n",
              "    }\n",
              "\n",
              "    .dataframe thead th {\n",
              "        text-align: right;\n",
              "    }\n",
              "</style>\n",
              "<table border=\"1\" class=\"dataframe\">\n",
              "  <thead>\n",
              "    <tr style=\"text-align: right;\">\n",
              "      <th></th>\n",
              "      <th>province</th>\n",
              "      <th>elementary_school_count</th>\n",
              "      <th>kindergarten_count</th>\n",
              "      <th>university_count</th>\n",
              "      <th>academy_ratio</th>\n",
              "      <th>elderly_population_ratio</th>\n",
              "      <th>nursing_home_count</th>\n",
              "    </tr>\n",
              "  </thead>\n",
              "  <tbody>\n",
              "    <tr>\n",
              "      <th>0</th>\n",
              "      <td>Busan</td>\n",
              "      <td>608</td>\n",
              "      <td>816</td>\n",
              "      <td>44</td>\n",
              "      <td>22.57</td>\n",
              "      <td>329.08</td>\n",
              "      <td>13504</td>\n",
              "    </tr>\n",
              "    <tr>\n",
              "      <th>1</th>\n",
              "      <td>Chungcheongbuk-do</td>\n",
              "      <td>518</td>\n",
              "      <td>656</td>\n",
              "      <td>34</td>\n",
              "      <td>12.28</td>\n",
              "      <td>278.31</td>\n",
              "      <td>5538</td>\n",
              "    </tr>\n",
              "    <tr>\n",
              "      <th>2</th>\n",
              "      <td>Chungcheongnam-do</td>\n",
              "      <td>818</td>\n",
              "      <td>998</td>\n",
              "      <td>42</td>\n",
              "      <td>17.96</td>\n",
              "      <td>381.51</td>\n",
              "      <td>7282</td>\n",
              "    </tr>\n",
              "    <tr>\n",
              "      <th>3</th>\n",
              "      <td>Daegu</td>\n",
              "      <td>458</td>\n",
              "      <td>710</td>\n",
              "      <td>22</td>\n",
              "      <td>15.42</td>\n",
              "      <td>153.28</td>\n",
              "      <td>10166</td>\n",
              "    </tr>\n",
              "    <tr>\n",
              "      <th>4</th>\n",
              "      <td>Daejeon</td>\n",
              "      <td>296</td>\n",
              "      <td>520</td>\n",
              "      <td>30</td>\n",
              "      <td>8.55</td>\n",
              "      <td>86.26</td>\n",
              "      <td>5968</td>\n",
              "    </tr>\n",
              "    <tr>\n",
              "      <th>5</th>\n",
              "      <td>Gangwon-do</td>\n",
              "      <td>698</td>\n",
              "      <td>736</td>\n",
              "      <td>36</td>\n",
              "      <td>21.22</td>\n",
              "      <td>434.92</td>\n",
              "      <td>5038</td>\n",
              "    </tr>\n",
              "    <tr>\n",
              "      <th>6</th>\n",
              "      <td>Gwangju</td>\n",
              "      <td>310</td>\n",
              "      <td>624</td>\n",
              "      <td>34</td>\n",
              "      <td>14.84</td>\n",
              "      <td>88.89</td>\n",
              "      <td>5704</td>\n",
              "    </tr>\n",
              "    <tr>\n",
              "      <th>7</th>\n",
              "      <td>Gyeonggi-do</td>\n",
              "      <td>2554</td>\n",
              "      <td>4474</td>\n",
              "      <td>122</td>\n",
              "      <td>45.46</td>\n",
              "      <td>461.75</td>\n",
              "      <td>40982</td>\n",
              "    </tr>\n",
              "    <tr>\n",
              "      <th>8</th>\n",
              "      <td>Gyeongsangbuk-do</td>\n",
              "      <td>942</td>\n",
              "      <td>1414</td>\n",
              "      <td>66</td>\n",
              "      <td>22.77</td>\n",
              "      <td>661.35</td>\n",
              "      <td>8948</td>\n",
              "    </tr>\n",
              "    <tr>\n",
              "      <th>9</th>\n",
              "      <td>Gyeongsangnam-do</td>\n",
              "      <td>1002</td>\n",
              "      <td>1372</td>\n",
              "      <td>42</td>\n",
              "      <td>25.90</td>\n",
              "      <td>470.24</td>\n",
              "      <td>10728</td>\n",
              "    </tr>\n",
              "    <tr>\n",
              "      <th>10</th>\n",
              "      <td>Incheon</td>\n",
              "      <td>500</td>\n",
              "      <td>806</td>\n",
              "      <td>14</td>\n",
              "      <td>11.60</td>\n",
              "      <td>180.39</td>\n",
              "      <td>8994</td>\n",
              "    </tr>\n",
              "    <tr>\n",
              "      <th>11</th>\n",
              "      <td>Jeju-do</td>\n",
              "      <td>113</td>\n",
              "      <td>123</td>\n",
              "      <td>4</td>\n",
              "      <td>1.53</td>\n",
              "      <td>15.10</td>\n",
              "      <td>1245</td>\n",
              "    </tr>\n",
              "    <tr>\n",
              "      <th>12</th>\n",
              "      <td>Jeollabuk-do</td>\n",
              "      <td>838</td>\n",
              "      <td>1038</td>\n",
              "      <td>38</td>\n",
              "      <td>19.95</td>\n",
              "      <td>412.06</td>\n",
              "      <td>7548</td>\n",
              "    </tr>\n",
              "    <tr>\n",
              "      <th>13</th>\n",
              "      <td>Jeollanam-do</td>\n",
              "      <td>858</td>\n",
              "      <td>1084</td>\n",
              "      <td>38</td>\n",
              "      <td>24.50</td>\n",
              "      <td>647.27</td>\n",
              "      <td>6778</td>\n",
              "    </tr>\n",
              "    <tr>\n",
              "      <th>14</th>\n",
              "      <td>Korea</td>\n",
              "      <td>6087</td>\n",
              "      <td>8837</td>\n",
              "      <td>340</td>\n",
              "      <td>1.56</td>\n",
              "      <td>15.67</td>\n",
              "      <td>94865</td>\n",
              "    </tr>\n",
              "    <tr>\n",
              "      <th>15</th>\n",
              "      <td>Sejong</td>\n",
              "      <td>48</td>\n",
              "      <td>60</td>\n",
              "      <td>3</td>\n",
              "      <td>1.78</td>\n",
              "      <td>9.48</td>\n",
              "      <td>491</td>\n",
              "    </tr>\n",
              "    <tr>\n",
              "      <th>16</th>\n",
              "      <td>Seoul</td>\n",
              "      <td>1214</td>\n",
              "      <td>1660</td>\n",
              "      <td>96</td>\n",
              "      <td>35.36</td>\n",
              "      <td>409.19</td>\n",
              "      <td>45478</td>\n",
              "    </tr>\n",
              "    <tr>\n",
              "      <th>17</th>\n",
              "      <td>Ulsan</td>\n",
              "      <td>238</td>\n",
              "      <td>400</td>\n",
              "      <td>8</td>\n",
              "      <td>12.67</td>\n",
              "      <td>70.64</td>\n",
              "      <td>3602</td>\n",
              "    </tr>\n",
              "  </tbody>\n",
              "</table>\n",
              "</div>"
            ],
            "text/plain": [
              "             province  ...  nursing_home_count\n",
              "0               Busan  ...               13504\n",
              "1   Chungcheongbuk-do  ...                5538\n",
              "2   Chungcheongnam-do  ...                7282\n",
              "3               Daegu  ...               10166\n",
              "4             Daejeon  ...                5968\n",
              "5          Gangwon-do  ...                5038\n",
              "6             Gwangju  ...                5704\n",
              "7         Gyeonggi-do  ...               40982\n",
              "8    Gyeongsangbuk-do  ...                8948\n",
              "9    Gyeongsangnam-do  ...               10728\n",
              "10            Incheon  ...                8994\n",
              "11            Jeju-do  ...                1245\n",
              "12       Jeollabuk-do  ...                7548\n",
              "13       Jeollanam-do  ...                6778\n",
              "14              Korea  ...               94865\n",
              "15             Sejong  ...                 491\n",
              "16              Seoul  ...               45478\n",
              "17              Ulsan  ...                3602\n",
              "\n",
              "[18 rows x 7 columns]"
            ]
          },
          "metadata": {
            "tags": []
          },
          "execution_count": 40
        }
      ]
    },
    {
      "cell_type": "code",
      "metadata": {
        "id": "ffQOOKGongh-",
        "colab_type": "code",
        "colab": {
          "base_uri": "https://localhost:8080/",
          "height": 204
        },
        "outputId": "94ae9a45-4dab-4b5e-f986-1edf127a1339"
      },
      "source": [
        "weather_df=pd.read_csv('Weather.csv')\n",
        "weather_df.head()"
      ],
      "execution_count": 37,
      "outputs": [
        {
          "output_type": "execute_result",
          "data": {
            "text/html": [
              "<div>\n",
              "<style scoped>\n",
              "    .dataframe tbody tr th:only-of-type {\n",
              "        vertical-align: middle;\n",
              "    }\n",
              "\n",
              "    .dataframe tbody tr th {\n",
              "        vertical-align: top;\n",
              "    }\n",
              "\n",
              "    .dataframe thead th {\n",
              "        text-align: right;\n",
              "    }\n",
              "</style>\n",
              "<table border=\"1\" class=\"dataframe\">\n",
              "  <thead>\n",
              "    <tr style=\"text-align: right;\">\n",
              "      <th></th>\n",
              "      <th>code</th>\n",
              "      <th>province</th>\n",
              "      <th>date</th>\n",
              "      <th>avg_temp</th>\n",
              "      <th>min_temp</th>\n",
              "      <th>max_temp</th>\n",
              "      <th>precipitation</th>\n",
              "      <th>max_wind_speed</th>\n",
              "      <th>most_wind_direction</th>\n",
              "      <th>avg_relative_humidity</th>\n",
              "    </tr>\n",
              "  </thead>\n",
              "  <tbody>\n",
              "    <tr>\n",
              "      <th>0</th>\n",
              "      <td>10000</td>\n",
              "      <td>Seoul</td>\n",
              "      <td>2016-03-17</td>\n",
              "      <td>9.3</td>\n",
              "      <td>2.0</td>\n",
              "      <td>14.7</td>\n",
              "      <td>0.0</td>\n",
              "      <td>3.2</td>\n",
              "      <td>70.0</td>\n",
              "      <td>40.9</td>\n",
              "    </tr>\n",
              "    <tr>\n",
              "      <th>1</th>\n",
              "      <td>10000</td>\n",
              "      <td>Seoul</td>\n",
              "      <td>2016-03-18</td>\n",
              "      <td>13.4</td>\n",
              "      <td>8.8</td>\n",
              "      <td>20.1</td>\n",
              "      <td>0.0</td>\n",
              "      <td>5.0</td>\n",
              "      <td>110.0</td>\n",
              "      <td>50.0</td>\n",
              "    </tr>\n",
              "    <tr>\n",
              "      <th>2</th>\n",
              "      <td>10000</td>\n",
              "      <td>Seoul</td>\n",
              "      <td>2016-03-19</td>\n",
              "      <td>11.4</td>\n",
              "      <td>6.6</td>\n",
              "      <td>18.1</td>\n",
              "      <td>0.0</td>\n",
              "      <td>4.8</td>\n",
              "      <td>320.0</td>\n",
              "      <td>58.3</td>\n",
              "    </tr>\n",
              "    <tr>\n",
              "      <th>3</th>\n",
              "      <td>10000</td>\n",
              "      <td>Seoul</td>\n",
              "      <td>2016-03-20</td>\n",
              "      <td>10.6</td>\n",
              "      <td>4.9</td>\n",
              "      <td>17.5</td>\n",
              "      <td>0.0</td>\n",
              "      <td>4.6</td>\n",
              "      <td>320.0</td>\n",
              "      <td>54.0</td>\n",
              "    </tr>\n",
              "    <tr>\n",
              "      <th>4</th>\n",
              "      <td>10000</td>\n",
              "      <td>Seoul</td>\n",
              "      <td>2016-03-21</td>\n",
              "      <td>9.9</td>\n",
              "      <td>5.5</td>\n",
              "      <td>16.1</td>\n",
              "      <td>0.0</td>\n",
              "      <td>5.4</td>\n",
              "      <td>320.0</td>\n",
              "      <td>54.1</td>\n",
              "    </tr>\n",
              "  </tbody>\n",
              "</table>\n",
              "</div>"
            ],
            "text/plain": [
              "    code province  ... most_wind_direction  avg_relative_humidity\n",
              "0  10000    Seoul  ...                70.0                   40.9\n",
              "1  10000    Seoul  ...               110.0                   50.0\n",
              "2  10000    Seoul  ...               320.0                   58.3\n",
              "3  10000    Seoul  ...               320.0                   54.0\n",
              "4  10000    Seoul  ...               320.0                   54.1\n",
              "\n",
              "[5 rows x 10 columns]"
            ]
          },
          "metadata": {
            "tags": []
          },
          "execution_count": 37
        }
      ]
    },
    {
      "cell_type": "code",
      "metadata": {
        "id": "YlEvjttkn5DU",
        "colab_type": "code",
        "colab": {
          "base_uri": "https://localhost:8080/",
          "height": 545
        },
        "outputId": "46e6f071-64e4-4361-b434-c070d4fcbf7e"
      },
      "source": [
        "weather_df2=weather_df.groupby(['province'])['avg_temp'].mean()\n",
        "weather_df2=pd.DataFrame(weather_df2)\n",
        "weather_df2=weather_df2.reset_index()\n",
        "weather_df2"
      ],
      "execution_count": 39,
      "outputs": [
        {
          "output_type": "execute_result",
          "data": {
            "text/html": [
              "<div>\n",
              "<style scoped>\n",
              "    .dataframe tbody tr th:only-of-type {\n",
              "        vertical-align: middle;\n",
              "    }\n",
              "\n",
              "    .dataframe tbody tr th {\n",
              "        vertical-align: top;\n",
              "    }\n",
              "\n",
              "    .dataframe thead th {\n",
              "        text-align: right;\n",
              "    }\n",
              "</style>\n",
              "<table border=\"1\" class=\"dataframe\">\n",
              "  <thead>\n",
              "    <tr style=\"text-align: right;\">\n",
              "      <th></th>\n",
              "      <th>province</th>\n",
              "      <th>avg_temp</th>\n",
              "    </tr>\n",
              "  </thead>\n",
              "  <tbody>\n",
              "    <tr>\n",
              "      <th>0</th>\n",
              "      <td>Busan</td>\n",
              "      <td>15.571800</td>\n",
              "    </tr>\n",
              "    <tr>\n",
              "      <th>1</th>\n",
              "      <td>Chungcheongbuk-do</td>\n",
              "      <td>12.478904</td>\n",
              "    </tr>\n",
              "    <tr>\n",
              "      <th>2</th>\n",
              "      <td>Chungcheongnam-do</td>\n",
              "      <td>12.681680</td>\n",
              "    </tr>\n",
              "    <tr>\n",
              "      <th>3</th>\n",
              "      <td>Daegu</td>\n",
              "      <td>14.655685</td>\n",
              "    </tr>\n",
              "    <tr>\n",
              "      <th>4</th>\n",
              "      <td>Daejeon</td>\n",
              "      <td>13.928884</td>\n",
              "    </tr>\n",
              "    <tr>\n",
              "      <th>5</th>\n",
              "      <td>Gangwon-do</td>\n",
              "      <td>14.251061</td>\n",
              "    </tr>\n",
              "    <tr>\n",
              "      <th>6</th>\n",
              "      <td>Gwangju</td>\n",
              "      <td>14.899316</td>\n",
              "    </tr>\n",
              "    <tr>\n",
              "      <th>7</th>\n",
              "      <td>Gyeonggi-do</td>\n",
              "      <td>13.189733</td>\n",
              "    </tr>\n",
              "    <tr>\n",
              "      <th>8</th>\n",
              "      <td>Gyeongsangbuk-do</td>\n",
              "      <td>13.940316</td>\n",
              "    </tr>\n",
              "    <tr>\n",
              "      <th>9</th>\n",
              "      <td>Gyeongsangnam-do</td>\n",
              "      <td>14.793908</td>\n",
              "    </tr>\n",
              "    <tr>\n",
              "      <th>10</th>\n",
              "      <td>Incheon</td>\n",
              "      <td>13.057906</td>\n",
              "    </tr>\n",
              "    <tr>\n",
              "      <th>11</th>\n",
              "      <td>Jeju-do</td>\n",
              "      <td>16.948734</td>\n",
              "    </tr>\n",
              "    <tr>\n",
              "      <th>12</th>\n",
              "      <td>Jeollabuk-do</td>\n",
              "      <td>14.185421</td>\n",
              "    </tr>\n",
              "    <tr>\n",
              "      <th>13</th>\n",
              "      <td>Jeollanam-do</td>\n",
              "      <td>15.307461</td>\n",
              "    </tr>\n",
              "    <tr>\n",
              "      <th>14</th>\n",
              "      <td>Seoul</td>\n",
              "      <td>13.471595</td>\n",
              "    </tr>\n",
              "    <tr>\n",
              "      <th>15</th>\n",
              "      <td>Ulsan</td>\n",
              "      <td>14.799726</td>\n",
              "    </tr>\n",
              "  </tbody>\n",
              "</table>\n",
              "</div>"
            ],
            "text/plain": [
              "             province   avg_temp\n",
              "0               Busan  15.571800\n",
              "1   Chungcheongbuk-do  12.478904\n",
              "2   Chungcheongnam-do  12.681680\n",
              "3               Daegu  14.655685\n",
              "4             Daejeon  13.928884\n",
              "5          Gangwon-do  14.251061\n",
              "6             Gwangju  14.899316\n",
              "7         Gyeonggi-do  13.189733\n",
              "8    Gyeongsangbuk-do  13.940316\n",
              "9    Gyeongsangnam-do  14.793908\n",
              "10            Incheon  13.057906\n",
              "11            Jeju-do  16.948734\n",
              "12       Jeollabuk-do  14.185421\n",
              "13       Jeollanam-do  15.307461\n",
              "14              Seoul  13.471595\n",
              "15              Ulsan  14.799726"
            ]
          },
          "metadata": {
            "tags": []
          },
          "execution_count": 39
        }
      ]
    },
    {
      "cell_type": "code",
      "metadata": {
        "id": "3JVznapJo9d0",
        "colab_type": "code",
        "colab": {
          "base_uri": "https://localhost:8080/",
          "height": 633
        },
        "outputId": "504db652-4266-4707-8ca6-f1e580c34bdc"
      },
      "source": [
        "df_new=pd.merge(df_2,weather_df2,on='province')\n",
        "df_new=pd.merge(df_new,region_df2,on='province')\n",
        "df_new"
      ],
      "execution_count": 33,
      "outputs": [
        {
          "output_type": "execute_result",
          "data": {
            "text/html": [
              "<div>\n",
              "<style scoped>\n",
              "    .dataframe tbody tr th:only-of-type {\n",
              "        vertical-align: middle;\n",
              "    }\n",
              "\n",
              "    .dataframe tbody tr th {\n",
              "        vertical-align: top;\n",
              "    }\n",
              "\n",
              "    .dataframe thead th {\n",
              "        text-align: right;\n",
              "    }\n",
              "</style>\n",
              "<table border=\"1\" class=\"dataframe\">\n",
              "  <thead>\n",
              "    <tr style=\"text-align: right;\">\n",
              "      <th></th>\n",
              "      <th>province</th>\n",
              "      <th>nb_of_patients</th>\n",
              "      <th>avg_temp</th>\n",
              "      <th>elementary_school_count</th>\n",
              "      <th>kindergarten_count</th>\n",
              "      <th>university_count</th>\n",
              "      <th>academy_ratio</th>\n",
              "      <th>elderly_population_ratio</th>\n",
              "      <th>nursing_home_count</th>\n",
              "    </tr>\n",
              "  </thead>\n",
              "  <tbody>\n",
              "    <tr>\n",
              "      <th>0</th>\n",
              "      <td>Busan</td>\n",
              "      <td>101</td>\n",
              "      <td>15.571800</td>\n",
              "      <td>608</td>\n",
              "      <td>816</td>\n",
              "      <td>44</td>\n",
              "      <td>22.57</td>\n",
              "      <td>329.08</td>\n",
              "      <td>13504</td>\n",
              "    </tr>\n",
              "    <tr>\n",
              "      <th>1</th>\n",
              "      <td>Chungcheongbuk-do</td>\n",
              "      <td>28</td>\n",
              "      <td>12.478904</td>\n",
              "      <td>518</td>\n",
              "      <td>656</td>\n",
              "      <td>34</td>\n",
              "      <td>12.28</td>\n",
              "      <td>278.31</td>\n",
              "      <td>5538</td>\n",
              "    </tr>\n",
              "    <tr>\n",
              "      <th>2</th>\n",
              "      <td>Chungcheongnam-do</td>\n",
              "      <td>118</td>\n",
              "      <td>12.681680</td>\n",
              "      <td>818</td>\n",
              "      <td>998</td>\n",
              "      <td>42</td>\n",
              "      <td>17.96</td>\n",
              "      <td>381.51</td>\n",
              "      <td>7282</td>\n",
              "    </tr>\n",
              "    <tr>\n",
              "      <th>3</th>\n",
              "      <td>Daegu</td>\n",
              "      <td>63</td>\n",
              "      <td>14.655685</td>\n",
              "      <td>458</td>\n",
              "      <td>710</td>\n",
              "      <td>22</td>\n",
              "      <td>15.42</td>\n",
              "      <td>153.28</td>\n",
              "      <td>10166</td>\n",
              "    </tr>\n",
              "    <tr>\n",
              "      <th>4</th>\n",
              "      <td>Daejeon</td>\n",
              "      <td>22</td>\n",
              "      <td>13.928884</td>\n",
              "      <td>296</td>\n",
              "      <td>520</td>\n",
              "      <td>30</td>\n",
              "      <td>8.55</td>\n",
              "      <td>86.26</td>\n",
              "      <td>5968</td>\n",
              "    </tr>\n",
              "    <tr>\n",
              "      <th>5</th>\n",
              "      <td>Gangwon-do</td>\n",
              "      <td>29</td>\n",
              "      <td>14.251061</td>\n",
              "      <td>698</td>\n",
              "      <td>736</td>\n",
              "      <td>36</td>\n",
              "      <td>21.22</td>\n",
              "      <td>434.92</td>\n",
              "      <td>5038</td>\n",
              "    </tr>\n",
              "    <tr>\n",
              "      <th>6</th>\n",
              "      <td>Gwangju</td>\n",
              "      <td>19</td>\n",
              "      <td>14.899316</td>\n",
              "      <td>310</td>\n",
              "      <td>624</td>\n",
              "      <td>34</td>\n",
              "      <td>14.84</td>\n",
              "      <td>88.89</td>\n",
              "      <td>5704</td>\n",
              "    </tr>\n",
              "    <tr>\n",
              "      <th>7</th>\n",
              "      <td>Gyeonggi-do</td>\n",
              "      <td>300</td>\n",
              "      <td>13.189733</td>\n",
              "      <td>2554</td>\n",
              "      <td>4474</td>\n",
              "      <td>122</td>\n",
              "      <td>45.46</td>\n",
              "      <td>461.75</td>\n",
              "      <td>40982</td>\n",
              "    </tr>\n",
              "    <tr>\n",
              "      <th>8</th>\n",
              "      <td>Gyeongsangbuk-do</td>\n",
              "      <td>1054</td>\n",
              "      <td>13.940316</td>\n",
              "      <td>942</td>\n",
              "      <td>1414</td>\n",
              "      <td>66</td>\n",
              "      <td>22.77</td>\n",
              "      <td>661.35</td>\n",
              "      <td>8948</td>\n",
              "    </tr>\n",
              "    <tr>\n",
              "      <th>9</th>\n",
              "      <td>Gyeongsangnam-do</td>\n",
              "      <td>85</td>\n",
              "      <td>14.793908</td>\n",
              "      <td>1002</td>\n",
              "      <td>1372</td>\n",
              "      <td>42</td>\n",
              "      <td>25.90</td>\n",
              "      <td>470.24</td>\n",
              "      <td>10728</td>\n",
              "    </tr>\n",
              "    <tr>\n",
              "      <th>10</th>\n",
              "      <td>Incheon</td>\n",
              "      <td>39</td>\n",
              "      <td>13.057906</td>\n",
              "      <td>500</td>\n",
              "      <td>806</td>\n",
              "      <td>14</td>\n",
              "      <td>11.60</td>\n",
              "      <td>180.39</td>\n",
              "      <td>8994</td>\n",
              "    </tr>\n",
              "    <tr>\n",
              "      <th>11</th>\n",
              "      <td>Jeju-do</td>\n",
              "      <td>4</td>\n",
              "      <td>16.948734</td>\n",
              "      <td>113</td>\n",
              "      <td>123</td>\n",
              "      <td>4</td>\n",
              "      <td>1.53</td>\n",
              "      <td>15.10</td>\n",
              "      <td>1245</td>\n",
              "    </tr>\n",
              "    <tr>\n",
              "      <th>12</th>\n",
              "      <td>Jeollabuk-do</td>\n",
              "      <td>7</td>\n",
              "      <td>14.185421</td>\n",
              "      <td>838</td>\n",
              "      <td>1038</td>\n",
              "      <td>38</td>\n",
              "      <td>19.95</td>\n",
              "      <td>412.06</td>\n",
              "      <td>7548</td>\n",
              "    </tr>\n",
              "    <tr>\n",
              "      <th>13</th>\n",
              "      <td>Jeollanam-do</td>\n",
              "      <td>4</td>\n",
              "      <td>15.307461</td>\n",
              "      <td>858</td>\n",
              "      <td>1084</td>\n",
              "      <td>38</td>\n",
              "      <td>24.50</td>\n",
              "      <td>647.27</td>\n",
              "      <td>6778</td>\n",
              "    </tr>\n",
              "    <tr>\n",
              "      <th>14</th>\n",
              "      <td>Seoul</td>\n",
              "      <td>299</td>\n",
              "      <td>13.471595</td>\n",
              "      <td>1214</td>\n",
              "      <td>1660</td>\n",
              "      <td>96</td>\n",
              "      <td>35.36</td>\n",
              "      <td>409.19</td>\n",
              "      <td>45478</td>\n",
              "    </tr>\n",
              "    <tr>\n",
              "      <th>15</th>\n",
              "      <td>Ulsan</td>\n",
              "      <td>30</td>\n",
              "      <td>14.799726</td>\n",
              "      <td>238</td>\n",
              "      <td>400</td>\n",
              "      <td>8</td>\n",
              "      <td>12.67</td>\n",
              "      <td>70.64</td>\n",
              "      <td>3602</td>\n",
              "    </tr>\n",
              "  </tbody>\n",
              "</table>\n",
              "</div>"
            ],
            "text/plain": [
              "             province  ...  nursing_home_count\n",
              "0               Busan  ...               13504\n",
              "1   Chungcheongbuk-do  ...                5538\n",
              "2   Chungcheongnam-do  ...                7282\n",
              "3               Daegu  ...               10166\n",
              "4             Daejeon  ...                5968\n",
              "5          Gangwon-do  ...                5038\n",
              "6             Gwangju  ...                5704\n",
              "7         Gyeonggi-do  ...               40982\n",
              "8    Gyeongsangbuk-do  ...                8948\n",
              "9    Gyeongsangnam-do  ...               10728\n",
              "10            Incheon  ...                8994\n",
              "11            Jeju-do  ...                1245\n",
              "12       Jeollabuk-do  ...                7548\n",
              "13       Jeollanam-do  ...                6778\n",
              "14              Seoul  ...               45478\n",
              "15              Ulsan  ...                3602\n",
              "\n",
              "[16 rows x 9 columns]"
            ]
          },
          "metadata": {
            "tags": []
          },
          "execution_count": 33
        }
      ]
    },
    {
      "cell_type": "code",
      "metadata": {
        "id": "XBgmBb2i9oKr",
        "colab_type": "code",
        "colab": {
          "base_uri": "https://localhost:8080/",
          "height": 1000
        },
        "outputId": "49015614-65b7-4ce4-fffa-84d20242cea9"
      },
      "source": [
        "g=sb.PairGrid(data='df_new',vars = ['nb_of_patients','elementary_school_count','avg_temp','kindergarten_count','university_count','academy_ratio','elderly_population_ratio','nursing_home_count'])\n",
        "g.map_diag(plt.hist)\n",
        "g.map_offdiag(plt.scatter)"
      ],
      "execution_count": 47,
      "outputs": [
        {
          "output_type": "error",
          "ename": "TypeError",
          "evalue": "ignored",
          "traceback": [
            "\u001b[0;31m---------------------------------------------------------------------------\u001b[0m",
            "\u001b[0;31mTypeError\u001b[0m                                 Traceback (most recent call last)",
            "\u001b[0;32m<ipython-input-47-32c522925873>\u001b[0m in \u001b[0;36m<module>\u001b[0;34m()\u001b[0m\n\u001b[0;32m----> 1\u001b[0;31m \u001b[0mg\u001b[0m\u001b[0;34m=\u001b[0m\u001b[0msb\u001b[0m\u001b[0;34m.\u001b[0m\u001b[0mPairGrid\u001b[0m\u001b[0;34m(\u001b[0m\u001b[0mdata\u001b[0m\u001b[0;34m=\u001b[0m\u001b[0;34m'df_new'\u001b[0m\u001b[0;34m,\u001b[0m\u001b[0mvars\u001b[0m \u001b[0;34m=\u001b[0m \u001b[0;34m[\u001b[0m\u001b[0;34m'nb_of_patients'\u001b[0m\u001b[0;34m,\u001b[0m\u001b[0;34m'elementary_school_count'\u001b[0m\u001b[0;34m,\u001b[0m\u001b[0;34m'avg_temp'\u001b[0m\u001b[0;34m,\u001b[0m\u001b[0;34m'kindergarten_count'\u001b[0m\u001b[0;34m,\u001b[0m\u001b[0;34m'university_count'\u001b[0m\u001b[0;34m,\u001b[0m\u001b[0;34m'academy_ratio'\u001b[0m\u001b[0;34m,\u001b[0m\u001b[0;34m'elderly_population_ratio'\u001b[0m\u001b[0;34m,\u001b[0m\u001b[0;34m'nursing_home_count'\u001b[0m\u001b[0;34m]\u001b[0m\u001b[0;34m)\u001b[0m\u001b[0;34m\u001b[0m\u001b[0;34m\u001b[0m\u001b[0m\n\u001b[0m\u001b[1;32m      2\u001b[0m \u001b[0mg\u001b[0m\u001b[0;34m.\u001b[0m\u001b[0mmap_diag\u001b[0m\u001b[0;34m(\u001b[0m\u001b[0mplt\u001b[0m\u001b[0;34m.\u001b[0m\u001b[0mhist\u001b[0m\u001b[0;34m)\u001b[0m\u001b[0;34m\u001b[0m\u001b[0;34m\u001b[0m\u001b[0m\n\u001b[1;32m      3\u001b[0m \u001b[0mg\u001b[0m\u001b[0;34m.\u001b[0m\u001b[0mmap_offdiag\u001b[0m\u001b[0;34m(\u001b[0m\u001b[0mplt\u001b[0m\u001b[0;34m.\u001b[0m\u001b[0mscatter\u001b[0m\u001b[0;34m)\u001b[0m\u001b[0;34m\u001b[0m\u001b[0;34m\u001b[0m\u001b[0m\n",
            "\u001b[0;32m/usr/local/lib/python3.6/dist-packages/seaborn/axisgrid.py\u001b[0m in \u001b[0;36m__init__\u001b[0;34m(self, data, hue, hue_order, palette, hue_kws, vars, x_vars, y_vars, corner, diag_sharey, height, aspect, layout_pad, despine, dropna, size)\u001b[0m\n\u001b[1;32m   1329\u001b[0m             \u001b[0mself\u001b[0m\u001b[0;34m.\u001b[0m\u001b[0mhue_names\u001b[0m \u001b[0;34m=\u001b[0m \u001b[0;34m[\u001b[0m\u001b[0;34m\"_nolegend_\"\u001b[0m\u001b[0;34m]\u001b[0m\u001b[0;34m\u001b[0m\u001b[0;34m\u001b[0m\u001b[0m\n\u001b[1;32m   1330\u001b[0m             self.hue_vals = pd.Series([\"_nolegend_\"] * len(data),\n\u001b[0;32m-> 1331\u001b[0;31m                                       index=data.index)\n\u001b[0m\u001b[1;32m   1332\u001b[0m         \u001b[0;32melse\u001b[0m\u001b[0;34m:\u001b[0m\u001b[0;34m\u001b[0m\u001b[0;34m\u001b[0m\u001b[0m\n\u001b[1;32m   1333\u001b[0m             \u001b[0mhue_names\u001b[0m \u001b[0;34m=\u001b[0m \u001b[0mutils\u001b[0m\u001b[0;34m.\u001b[0m\u001b[0mcategorical_order\u001b[0m\u001b[0;34m(\u001b[0m\u001b[0mdata\u001b[0m\u001b[0;34m[\u001b[0m\u001b[0mhue\u001b[0m\u001b[0;34m]\u001b[0m\u001b[0;34m,\u001b[0m \u001b[0mhue_order\u001b[0m\u001b[0;34m)\u001b[0m\u001b[0;34m\u001b[0m\u001b[0;34m\u001b[0m\u001b[0m\n",
            "\u001b[0;32m/usr/local/lib/python3.6/dist-packages/pandas/core/series.py\u001b[0m in \u001b[0;36m__init__\u001b[0;34m(self, data, index, dtype, name, copy, fastpath)\u001b[0m\n\u001b[1;32m    213\u001b[0m \u001b[0;34m\u001b[0m\u001b[0m\n\u001b[1;32m    214\u001b[0m             \u001b[0;32mif\u001b[0m \u001b[0mindex\u001b[0m \u001b[0;32mis\u001b[0m \u001b[0;32mnot\u001b[0m \u001b[0;32mNone\u001b[0m\u001b[0;34m:\u001b[0m\u001b[0;34m\u001b[0m\u001b[0;34m\u001b[0m\u001b[0m\n\u001b[0;32m--> 215\u001b[0;31m                 \u001b[0mindex\u001b[0m \u001b[0;34m=\u001b[0m \u001b[0mensure_index\u001b[0m\u001b[0;34m(\u001b[0m\u001b[0mindex\u001b[0m\u001b[0;34m)\u001b[0m\u001b[0;34m\u001b[0m\u001b[0;34m\u001b[0m\u001b[0m\n\u001b[0m\u001b[1;32m    216\u001b[0m \u001b[0;34m\u001b[0m\u001b[0m\n\u001b[1;32m    217\u001b[0m             \u001b[0;32mif\u001b[0m \u001b[0mdata\u001b[0m \u001b[0;32mis\u001b[0m \u001b[0;32mNone\u001b[0m\u001b[0;34m:\u001b[0m\u001b[0;34m\u001b[0m\u001b[0;34m\u001b[0m\u001b[0m\n",
            "\u001b[0;32m/usr/local/lib/python3.6/dist-packages/pandas/core/indexes/base.py\u001b[0m in \u001b[0;36mensure_index\u001b[0;34m(index_like, copy)\u001b[0m\n\u001b[1;32m   5769\u001b[0m             \u001b[0mindex_like\u001b[0m \u001b[0;34m=\u001b[0m \u001b[0mcopy\u001b[0m\u001b[0;34m(\u001b[0m\u001b[0mindex_like\u001b[0m\u001b[0;34m)\u001b[0m\u001b[0;34m\u001b[0m\u001b[0;34m\u001b[0m\u001b[0m\n\u001b[1;32m   5770\u001b[0m \u001b[0;34m\u001b[0m\u001b[0m\n\u001b[0;32m-> 5771\u001b[0;31m     \u001b[0;32mreturn\u001b[0m \u001b[0mIndex\u001b[0m\u001b[0;34m(\u001b[0m\u001b[0mindex_like\u001b[0m\u001b[0;34m)\u001b[0m\u001b[0;34m\u001b[0m\u001b[0;34m\u001b[0m\u001b[0m\n\u001b[0m\u001b[1;32m   5772\u001b[0m \u001b[0;34m\u001b[0m\u001b[0m\n\u001b[1;32m   5773\u001b[0m \u001b[0;34m\u001b[0m\u001b[0m\n",
            "\u001b[0;32m/usr/local/lib/python3.6/dist-packages/pandas/core/indexes/base.py\u001b[0m in \u001b[0;36m__new__\u001b[0;34m(cls, data, dtype, copy, name, fastpath, tupleize_cols, **kwargs)\u001b[0m\n\u001b[1;32m    533\u001b[0m                     )\n\u001b[1;32m    534\u001b[0m             \u001b[0;31m# other iterable of some kind\u001b[0m\u001b[0;34m\u001b[0m\u001b[0;34m\u001b[0m\u001b[0;34m\u001b[0m\u001b[0m\n\u001b[0;32m--> 535\u001b[0;31m             \u001b[0msubarr\u001b[0m \u001b[0;34m=\u001b[0m \u001b[0mcom\u001b[0m\u001b[0;34m.\u001b[0m\u001b[0masarray_tuplesafe\u001b[0m\u001b[0;34m(\u001b[0m\u001b[0mdata\u001b[0m\u001b[0;34m,\u001b[0m \u001b[0mdtype\u001b[0m\u001b[0;34m=\u001b[0m\u001b[0mobject\u001b[0m\u001b[0;34m)\u001b[0m\u001b[0;34m\u001b[0m\u001b[0;34m\u001b[0m\u001b[0m\n\u001b[0m\u001b[1;32m    536\u001b[0m             \u001b[0;32mreturn\u001b[0m \u001b[0mIndex\u001b[0m\u001b[0;34m(\u001b[0m\u001b[0msubarr\u001b[0m\u001b[0;34m,\u001b[0m \u001b[0mdtype\u001b[0m\u001b[0;34m=\u001b[0m\u001b[0mdtype\u001b[0m\u001b[0;34m,\u001b[0m \u001b[0mcopy\u001b[0m\u001b[0;34m=\u001b[0m\u001b[0mcopy\u001b[0m\u001b[0;34m,\u001b[0m \u001b[0mname\u001b[0m\u001b[0;34m=\u001b[0m\u001b[0mname\u001b[0m\u001b[0;34m,\u001b[0m \u001b[0;34m**\u001b[0m\u001b[0mkwargs\u001b[0m\u001b[0;34m)\u001b[0m\u001b[0;34m\u001b[0m\u001b[0;34m\u001b[0m\u001b[0m\n\u001b[1;32m    537\u001b[0m \u001b[0;34m\u001b[0m\u001b[0m\n",
            "\u001b[0;32m/usr/local/lib/python3.6/dist-packages/pandas/core/common.py\u001b[0m in \u001b[0;36masarray_tuplesafe\u001b[0;34m(values, dtype)\u001b[0m\n\u001b[1;32m    241\u001b[0m \u001b[0;34m\u001b[0m\u001b[0m\n\u001b[1;32m    242\u001b[0m     \u001b[0;32mif\u001b[0m \u001b[0;32mnot\u001b[0m \u001b[0;34m(\u001b[0m\u001b[0misinstance\u001b[0m\u001b[0;34m(\u001b[0m\u001b[0mvalues\u001b[0m\u001b[0;34m,\u001b[0m \u001b[0;34m(\u001b[0m\u001b[0mlist\u001b[0m\u001b[0;34m,\u001b[0m \u001b[0mtuple\u001b[0m\u001b[0;34m)\u001b[0m\u001b[0;34m)\u001b[0m \u001b[0;32mor\u001b[0m \u001b[0mhasattr\u001b[0m\u001b[0;34m(\u001b[0m\u001b[0mvalues\u001b[0m\u001b[0;34m,\u001b[0m \u001b[0;34m\"__array__\"\u001b[0m\u001b[0;34m)\u001b[0m\u001b[0;34m)\u001b[0m\u001b[0;34m:\u001b[0m\u001b[0;34m\u001b[0m\u001b[0;34m\u001b[0m\u001b[0m\n\u001b[0;32m--> 243\u001b[0;31m         \u001b[0mvalues\u001b[0m \u001b[0;34m=\u001b[0m \u001b[0mlist\u001b[0m\u001b[0;34m(\u001b[0m\u001b[0mvalues\u001b[0m\u001b[0;34m)\u001b[0m\u001b[0;34m\u001b[0m\u001b[0;34m\u001b[0m\u001b[0m\n\u001b[0m\u001b[1;32m    244\u001b[0m     \u001b[0;32melif\u001b[0m \u001b[0misinstance\u001b[0m\u001b[0;34m(\u001b[0m\u001b[0mvalues\u001b[0m\u001b[0;34m,\u001b[0m \u001b[0mABCIndexClass\u001b[0m\u001b[0;34m)\u001b[0m\u001b[0;34m:\u001b[0m\u001b[0;34m\u001b[0m\u001b[0;34m\u001b[0m\u001b[0m\n\u001b[1;32m    245\u001b[0m         \u001b[0;32mreturn\u001b[0m \u001b[0mvalues\u001b[0m\u001b[0;34m.\u001b[0m\u001b[0mvalues\u001b[0m\u001b[0;34m\u001b[0m\u001b[0;34m\u001b[0m\u001b[0m\n",
            "\u001b[0;31mTypeError\u001b[0m: 'builtin_function_or_method' object is not iterable"
          ]
        },
        {
          "output_type": "display_data",
          "data": {
            "image/png": "[encoded data removed]",
            "text/plain": [
              "<Figure size 1440x1440 with 64 Axes>"
            ]
          },
          "metadata": {
            "tags": []
          }
        }
      ]
    },
    {
      "cell_type": "code",
      "metadata": {
        "id": "vl_T3MYSqgiw",
        "colab_type": "code",
        "colab": {
          "base_uri": "https://localhost:8080/",
          "height": 404
        },
        "outputId": "c1f8e234-2a48-48ed-ac30-06f25a6dbb47"
      },
      "source": [
        "sb.heatmap(df_new.corr(),annot=True,cmap='viridis_r')"
      ],
      "execution_count": 48,
      "outputs": [
        {
          "output_type": "execute_result",
          "data": {
            "text/plain": [
              "<matplotlib.axes._subplots.AxesSubplot at 0x7f6be71a9b00>"
            ]
          },
          "metadata": {
            "tags": []
          },
          "execution_count": 48
        },
        {
          "output_type": "display_data",
          "data": {
            "image/png": "[encoded data removed]",
            "text/plain": [
              "<Figure size 432x288 with 2 Axes>"
            ]
          },
          "metadata": {
            "tags": []
          }
        }
      ]
    },
    {
      "cell_type": "markdown",
      "metadata": {
        "id": "9AAdAPJ3Pdh7",
        "colab_type": "text"
      },
      "source": [
        "### What is the structure of your dataset?\n",
        "\n",
        "#### Epidemiological data of COVID-19 patients in South Korea\n",
        "* patient_id: the ID of the patient\n",
        "* patient_id(10) = region_code(5) + patient_number(5)\n",
        "You can check the region_code in 'Region.csv'\n",
        "There are two types of the patient_number\n",
        "1) local_num: The number given by the local government.\n",
        "2) global_num: The number given by the KCDC\n",
        "global_num: the number given by KCDC\n",
        "There are some patients having no global_num.\n",
        "The paitents in Busan doesn't have the global_num.\n",
        "* sex: the sex of the patient\n",
        "* birth_year: the birth year of the patient\n",
        "* age: the age of the patient\n",
        "0s: 0 ~ 9\n",
        "10s: 10 ~ 19\n",
        "...\n",
        "90s: 90 ~ 99\n",
        "100s: 100 ~ 109\n",
        "* country: the country of the patient\n",
        "* province: the province of the patient\n",
        "* city: the city of the patient\n",
        "* disease: TRUE: underlying disease / FALSE: no disease\n",
        "* infection_case: the case of infection\n",
        "* infection_order: the order of infection\n",
        "infected_by: the ID of who infected the patient\n",
        "This column refers to the 'patient_id' column.\n",
        "* contact_number: the number of contacts with people\n",
        "* symptom_onset_date: the date of symptom onset\n",
        "* confirmed_date: the date of being confirmed\n",
        "* released_date: the date of being released\n",
        "* deceased_date: the date of being deceased\n",
        "* state: isolated / released / deceased\n",
        "isolated: being isolated in the hospital\n",
        "released: being released from the hospital\n",
        "deceased: being deceased\n",
        "\n",
        "### What is/are the main feature(s) of interest in your dataset?\n",
        "\n",
        "* I am interesting in visualizing what factors could be affecting the mortality rate in patients with corona virus\n",
        "\n",
        "### What features in the dataset do you think will help support your investigation into your feature(s) of interest?\n",
        "The columns in the dataset that can help me in investigating my main interest\n",
        "* Sex\n",
        "* Age group\n",
        "* state\n",
        "* disease\n"
      ]
    },
    {
      "cell_type": "markdown",
      "metadata": {
        "id": "iF9omROZPdh-",
        "colab_type": "text"
      },
      "source": [
        "## Univariate Exploration\n",
        "\n",
        "> In this section, investigate distributions of individual variables. If\n",
        "you see unusual points or outliers, take a deeper look to clean things up\n",
        "and prepare yourself to look at relationships between variables."
      ]
    },
    {
      "cell_type": "code",
      "metadata": {
        "id": "G2zJLO-uPdiC",
        "colab_type": "code",
        "colab": {
          "base_uri": "https://localhost:8080/",
          "height": 279
        },
        "outputId": "e3be812b-17fa-4d71-96cb-6e7b2f8bad09"
      },
      "source": [
        "sb.countplot(data=df,x='sex');"
      ],
      "execution_count": 50,
      "outputs": [
        {
          "output_type": "display_data",
          "data": {
            "image/png": "[encoded data removed]",
            "text/plain": [
              "<Figure size 432x288 with 1 Axes>"
            ]
          },
          "metadata": {
            "tags": []
          }
        }
      ]
    },
    {
      "cell_type": "code",
      "metadata": {
        "id": "X2SODpSpOBxS",
        "colab_type": "code",
        "colab": {
          "base_uri": "https://localhost:8080/",
          "height": 296
        },
        "outputId": "05724580-14f3-4ef6-a2f0-ff3b6da57949"
      },
      "source": [
        "sb.countplot(data=df,x='age')"
      ],
      "execution_count": 51,
      "outputs": [
        {
          "output_type": "execute_result",
          "data": {
            "text/plain": [
              "<matplotlib.axes._subplots.AxesSubplot at 0x7f6be6e5eef0>"
            ]
          },
          "metadata": {
            "tags": []
          },
          "execution_count": 51
        },
        {
          "output_type": "display_data",
          "data": {
            "image/png": "[encoded data removed]",
            "text/plain": [
              "<Figure size 432x288 with 1 Axes>"
            ]
          },
          "metadata": {
            "tags": []
          }
        }
      ]
    },
    {
      "cell_type": "code",
      "metadata": {
        "id": "IqXaiNuEOymM",
        "colab_type": "code",
        "colab": {}
      },
      "source": [
        "df_deceased=df[df['state']=='deceased']"
      ],
      "execution_count": 0,
      "outputs": []
    },
    {
      "cell_type": "code",
      "metadata": {
        "id": "DGy1yHWiOVHe",
        "colab_type": "code",
        "colab": {
          "base_uri": "https://localhost:8080/",
          "height": 296
        },
        "outputId": "60ce9a4e-367f-4452-990e-b13b32bd063c"
      },
      "source": [
        "sb.countplot(data=df,x='state')"
      ],
      "execution_count": 52,
      "outputs": [
        {
          "output_type": "execute_result",
          "data": {
            "text/plain": [
              "<matplotlib.axes._subplots.AxesSubplot at 0x7f6be516da58>"
            ]
          },
          "metadata": {
            "tags": []
          },
          "execution_count": 52
        },
        {
          "output_type": "display_data",
          "data": {
            "image/png": "[encoded data removed]",
            "text/plain": [
              "<Figure size 432x288 with 1 Axes>"
            ]
          },
          "metadata": {
            "tags": []
          }
        }
      ]
    },
    {
      "cell_type": "markdown",
      "metadata": {
        "id": "7Hj0FuZ7PdiM",
        "colab_type": "text"
      },
      "source": [
        "> Make sure that, after every plot or related series of plots, that you\n",
        "include a Markdown cell with comments about what you observed, and what\n",
        "you plan on investigating next."
      ]
    },
    {
      "cell_type": "code",
      "metadata": {
        "id": "jan8P0xPPdiP",
        "colab_type": "code",
        "colab": {}
      },
      "source": [
        ""
      ],
      "execution_count": 0,
      "outputs": []
    },
    {
      "cell_type": "markdown",
      "metadata": {
        "id": "Xe_eaaeqPdid",
        "colab_type": "text"
      },
      "source": [
        "### Discuss the distribution(s) of your variable(s) of interest. Were there any unusual points? Did you need to perform any transformations?\n",
        "\n",
        "> Your answer here!\n",
        "\n",
        "### Of the features you investigated, were there any unusual distributions? Did you perform any operations on the data to tidy, adjust, or change the form of the data? If so, why did you do this?\n",
        "\n",
        "> Your answer here!"
      ]
    },
    {
      "cell_type": "markdown",
      "metadata": {
        "id": "TQ8-BldXPdig",
        "colab_type": "text"
      },
      "source": [
        "## Bivariate Exploration\n",
        "\n",
        "> In this section, investigate relationships between pairs of variables in your\n",
        "data. Make sure the variables that you cover here have been introduced in some\n",
        "fashion in the previous section (univariate exploration)."
      ]
    },
    {
      "cell_type": "code",
      "metadata": {
        "id": "TdZ32KHrPdiu",
        "colab_type": "code",
        "colab": {
          "base_uri": "https://localhost:8080/",
          "height": 296
        },
        "outputId": "0c8bcc33-0940-43b2-d1f9-544dcc6c9d18"
      },
      "source": [
        "sb.countplot(data=df,x='sex')"
      ],
      "execution_count": 49,
      "outputs": [
        {
          "output_type": "execute_result",
          "data": {
            "text/plain": [
              "<matplotlib.axes._subplots.AxesSubplot at 0x7f6be71a9f28>"
            ]
          },
          "metadata": {
            "tags": []
          },
          "execution_count": 49
        },
        {
          "output_type": "display_data",
          "data": {
            "image/png": "[encoded data removed]",
            "text/plain": [
              "<Figure size 432x288 with 1 Axes>"
            ]
          },
          "metadata": {
            "tags": []
          }
        }
      ]
    },
    {
      "cell_type": "markdown",
      "metadata": {
        "id": "KHjn9hkhPdi5",
        "colab_type": "text"
      },
      "source": [
        "### Talk about some of the relationships you observed in this part of the investigation. How did the feature(s) of interest vary with other features in the dataset?\n",
        "\n",
        "> Your answer here!\n",
        "\n",
        "### Did you observe any interesting relationships between the other features (not the main feature(s) of interest)?\n",
        "\n",
        "> Your answer here!"
      ]
    },
    {
      "cell_type": "markdown",
      "metadata": {
        "id": "b4GZc4pYPdi8",
        "colab_type": "text"
      },
      "source": [
        "## Multivariate Exploration\n",
        "\n",
        "> Create plots of three or more variables to investigate your data even\n",
        "further. Make sure that your investigations are justified, and follow from\n",
        "your work in the previous sections."
      ]
    },
    {
      "cell_type": "code",
      "metadata": {
        "id": "j8qhMLCtPdjC",
        "colab_type": "code",
        "colab": {}
      },
      "source": [
        ""
      ],
      "execution_count": 0,
      "outputs": []
    },
    {
      "cell_type": "markdown",
      "metadata": {
        "id": "n6jAJCDwPdjL",
        "colab_type": "text"
      },
      "source": [
        "### Talk about some of the relationships you observed in this part of the investigation. Were there features that strengthened each other in terms of looking at your feature(s) of interest?\n",
        "\n",
        "> Your answer here!\n",
        "\n",
        "### Were there any interesting or surprising interactions between features?\n",
        "\n",
        "> Your answer here!"
      ]
    },
    {
      "cell_type": "markdown",
      "metadata": {
        "id": "8fcOfA87PdjO",
        "colab_type": "text"
      },
      "source": [
        "> At the end of your report, make sure that you export the notebook as an\n",
        "html file from the `File > Download as... > HTML` menu. Make sure you keep\n",
        "track of where the exported file goes, so you can put it in the same folder\n",
        "as this notebook for project submission. Also, make sure you remove all of\n",
        "the quote-formatted guide notes like this one before you finish your report!"
      ]
    },
    {
      "cell_type": "code",
      "metadata": {
        "id": "WLBw7Oo8PdjR",
        "colab_type": "code",
        "colab": {}
      },
      "source": [
        ""
      ],
      "execution_count": 0,
      "outputs": []
    }
  ]
}