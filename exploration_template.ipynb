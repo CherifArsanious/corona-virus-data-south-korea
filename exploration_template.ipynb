{
  "nbformat": 4,
  "nbformat_minor": 0,
  "metadata": {
    "kernelspec": {
      "display_name": "Python [default]",
      "language": "python",
      "name": "python3"
    },
    "language_info": {
      "codemirror_mode": {
        "name": "ipython",
        "version": 3
      },
      "file_extension": ".py",
      "mimetype": "text/x-python",
      "name": "python",
      "nbconvert_exporter": "python",
      "pygments_lexer": "ipython3",
      "version": "3.5.3"
    },
    "colab": {
      "name": "exploration_template.ipynb",
      "provenance": []
    }
  },
  "cells": [
    {
      "cell_type": "markdown",
      "metadata": {
        "id": "d7Zkj-tnPdhV",
        "colab_type": "text"
      },
      "source": [
        "# Covid-19 (Corona Virus) Dataset in South Korea\n",
        "## by Cherif Arsanious\n",
        "\n",
        "## Preliminary Wrangling\n",
        "\n",
        "> From World Health Organization - On 31 December 2019, WHO was alerted to several cases of pneumonia in Wuhan City, Hubei Province of China. The virus did not match any other known virus. This raised concern because when a virus is new, we do not know how it affects people.\n",
        "\n",
        "So daily level information on the affected people can give some interesting insights when it is made available to the broader data science community.\n",
        "\n",
        "2019 Novel Coronavirus (2019-nCoV) is a virus (more specifically, a coronavirus) identified as the cause of an outbreak of respiratory illness first detected in Wuhan, China. Early on, many of the patients in the outbreak in Wuhan, China reportedly had some link to a large seafood and animal market, suggesting animal-to-person spread. However, a growing number of patients reportedly have not had exposure to animal markets, indicating person-to-person spread is occurring. At this time, it’s unclear how easily or sustainably this virus is spreading between people - CDC\n",
        "\n",
        "COVID-19 has infected more than 8000 people in South Korea.\n",
        "KCDC (Korea Centers for Disease Control & Prevention) announces the information of COVID-19 quickly and transparently.\n",
        "Kaggle website made a structured dataset based on the report materials of KCDC and local governments.\n",
        "Also, we analyze and visualize the data using various data mining or visualization techniques.\n",
        "\n",
        "link to Kaggle dataset https://www.kaggle.com/kimjihoo/coronavirusdataset\n"
      ]
    },
    {
      "cell_type": "code",
      "metadata": {
        "id": "R8eiFr9yPdhf",
        "colab_type": "code",
        "colab": {}
      },
      "source": [
        "# import all packages and set plots to be embedded inline\n",
        "import numpy as np\n",
        "import pandas as pd\n",
        "import matplotlib.pyplot as plt\n",
        "import seaborn as sb\n",
        "\n",
        "%matplotlib inline"
      ],
      "execution_count": 0,
      "outputs": []
    },
    {
      "cell_type": "code",
      "metadata": {
        "id": "sRFaTdXfQSBP",
        "colab_type": "code",
        "outputId": "116c11ef-7376-441f-c75c-a1158f4077d6",
        "colab": {
          "base_uri": "https://localhost:8080/",
          "height": 34
        }
      },
      "source": [
        "# importing my files from my github repository to be start working on my google colab jyputer notebooks\n",
        "! git clone https://github.com/CherifArsanious/corona-virus-data-south-korea.git"
      ],
      "execution_count": 15,
      "outputs": [
        {
          "output_type": "stream",
          "text": [
            "fatal: destination path 'corona-virus-data-south-korea' already exists and is not an empty directory.\n"
          ],
          "name": "stdout"
        }
      ]
    },
    {
      "cell_type": "markdown",
      "metadata": {
        "id": "7dae3G4ZPdht",
        "colab_type": "text"
      },
      "source": [
        "> My main dataset is PatientInfo.csv dataset. It complies with the requirements that were asked for a dataset different from the ones available on udacity platform of the project\n",
        "Dataset Requirements:\n",
        "* include at least 600 observations. (This is the number of rows after tidying your data - see the bullet point below about tidy data.) --> My dataset contains 2243 observations\n",
        "* include at least eight variables --> my dataset contains 18 variables\n",
        "* include at least one qualitative / categorical variable. (This can also be engineered / created.) --> my dataset contains more than 10 categorical variables\n",
        "* include at least one numeric variable. --> my dataset contains one numeric variable\n",
        "* be in a tidy format. In a nutshell, tidy data has each row as a single observation and each column reporting a single variable. --> The dataset was cleaned by kaggle website already and ready for analysis and visualizations\n",
        "* be in a common data format. This includes .csv, .tsv, .txt, and .xls. Basically, there should be a reasonable pandas.read_*() function to open up your data in a tidy format as a pandas DataFrame. --> the PatientInfo dataset is stored in .csv format\n",
        "\n",
        "> I included two additional small datasets Weather.csv, and Region.csv that were not required for this project but I felt they behold interesting information about the Covid-19 virus  \n"
      ]
    },
    {
      "cell_type": "markdown",
      "metadata": {
        "id": "06lek-Ig1Vvu",
        "colab_type": "text"
      },
      "source": [
        "## Loading the Datasets"
      ]
    },
    {
      "cell_type": "code",
      "metadata": {
        "id": "O-eKmrLoPdhw",
        "colab_type": "code",
        "colab": {}
      },
      "source": [
        "# loading the main dataset (PatientInfo.csv) and the two additional optional datasets (Weather.csv, Region.csv)\n",
        "patient_df = pd.read_csv('PatientInfo.csv')\n",
        "region_df = pd.read_csv('Region.csv')\n",
        "weather_df = pd.read_csv('Weather.csv')"
      ],
      "execution_count": 0,
      "outputs": []
    },
    {
      "cell_type": "markdown",
      "metadata": {
        "id": "rsqX5KZn2OtA",
        "colab_type": "text"
      },
      "source": [
        "## Detecting Structure of Main Dataset\n",
        "* Dimensions of my dataset\n",
        "* Number of observations \n",
        "* Number of variables\n",
        "* Types of variables\n",
        "* Describtion of dataset\n",
        "* Main overview"
      ]
    },
    {
      "cell_type": "code",
      "metadata": {
        "id": "wgcqECspWgm4",
        "colab_type": "code",
        "outputId": "e7228172-dffd-465f-ffd0-2b0708fc4198",
        "colab": {
          "base_uri": "https://localhost:8080/",
          "height": 292
        }
      },
      "source": [
        "# Overview of the dataset \n",
        "patient_df.head()"
      ],
      "execution_count": 17,
      "outputs": [
        {
          "output_type": "execute_result",
          "data": {
            "text/html": [
              "<div>\n",
              "<style scoped>\n",
              "    .dataframe tbody tr th:only-of-type {\n",
              "        vertical-align: middle;\n",
              "    }\n",
              "\n",
              "    .dataframe tbody tr th {\n",
              "        vertical-align: top;\n",
              "    }\n",
              "\n",
              "    .dataframe thead th {\n",
              "        text-align: right;\n",
              "    }\n",
              "</style>\n",
              "<table border=\"1\" class=\"dataframe\">\n",
              "  <thead>\n",
              "    <tr style=\"text-align: right;\">\n",
              "      <th></th>\n",
              "      <th>patient_id</th>\n",
              "      <th>global_num</th>\n",
              "      <th>sex</th>\n",
              "      <th>birth_year</th>\n",
              "      <th>age</th>\n",
              "      <th>country</th>\n",
              "      <th>province</th>\n",
              "      <th>city</th>\n",
              "      <th>disease</th>\n",
              "      <th>infection_case</th>\n",
              "      <th>infection_order</th>\n",
              "      <th>infected_by</th>\n",
              "      <th>contact_number</th>\n",
              "      <th>symptom_onset_date</th>\n",
              "      <th>confirmed_date</th>\n",
              "      <th>released_date</th>\n",
              "      <th>deceased_date</th>\n",
              "      <th>state</th>\n",
              "    </tr>\n",
              "  </thead>\n",
              "  <tbody>\n",
              "    <tr>\n",
              "      <th>0</th>\n",
              "      <td>1000000001</td>\n",
              "      <td>2.0</td>\n",
              "      <td>male</td>\n",
              "      <td>1964.0</td>\n",
              "      <td>50s</td>\n",
              "      <td>Korea</td>\n",
              "      <td>Seoul</td>\n",
              "      <td>Gangseo-gu</td>\n",
              "      <td>NaN</td>\n",
              "      <td>overseas inflow</td>\n",
              "      <td>1.0</td>\n",
              "      <td>NaN</td>\n",
              "      <td>75.0</td>\n",
              "      <td>2020-01-22</td>\n",
              "      <td>2020-01-23</td>\n",
              "      <td>2020-02-05</td>\n",
              "      <td>NaN</td>\n",
              "      <td>released</td>\n",
              "    </tr>\n",
              "    <tr>\n",
              "      <th>1</th>\n",
              "      <td>1000000002</td>\n",
              "      <td>5.0</td>\n",
              "      <td>male</td>\n",
              "      <td>1987.0</td>\n",
              "      <td>30s</td>\n",
              "      <td>Korea</td>\n",
              "      <td>Seoul</td>\n",
              "      <td>Jungnang-gu</td>\n",
              "      <td>NaN</td>\n",
              "      <td>overseas inflow</td>\n",
              "      <td>1.0</td>\n",
              "      <td>NaN</td>\n",
              "      <td>31.0</td>\n",
              "      <td>NaN</td>\n",
              "      <td>2020-01-30</td>\n",
              "      <td>2020-03-02</td>\n",
              "      <td>NaN</td>\n",
              "      <td>released</td>\n",
              "    </tr>\n",
              "    <tr>\n",
              "      <th>2</th>\n",
              "      <td>1000000003</td>\n",
              "      <td>6.0</td>\n",
              "      <td>male</td>\n",
              "      <td>1964.0</td>\n",
              "      <td>50s</td>\n",
              "      <td>Korea</td>\n",
              "      <td>Seoul</td>\n",
              "      <td>Jongno-gu</td>\n",
              "      <td>NaN</td>\n",
              "      <td>contact with patient</td>\n",
              "      <td>2.0</td>\n",
              "      <td>2.002000e+09</td>\n",
              "      <td>17.0</td>\n",
              "      <td>NaN</td>\n",
              "      <td>2020-01-30</td>\n",
              "      <td>2020-02-19</td>\n",
              "      <td>NaN</td>\n",
              "      <td>released</td>\n",
              "    </tr>\n",
              "    <tr>\n",
              "      <th>3</th>\n",
              "      <td>1000000004</td>\n",
              "      <td>7.0</td>\n",
              "      <td>male</td>\n",
              "      <td>1991.0</td>\n",
              "      <td>20s</td>\n",
              "      <td>Korea</td>\n",
              "      <td>Seoul</td>\n",
              "      <td>Mapo-gu</td>\n",
              "      <td>NaN</td>\n",
              "      <td>overseas inflow</td>\n",
              "      <td>1.0</td>\n",
              "      <td>NaN</td>\n",
              "      <td>9.0</td>\n",
              "      <td>2020-01-26</td>\n",
              "      <td>2020-01-30</td>\n",
              "      <td>2020-02-15</td>\n",
              "      <td>NaN</td>\n",
              "      <td>released</td>\n",
              "    </tr>\n",
              "    <tr>\n",
              "      <th>4</th>\n",
              "      <td>1000000005</td>\n",
              "      <td>9.0</td>\n",
              "      <td>female</td>\n",
              "      <td>1992.0</td>\n",
              "      <td>20s</td>\n",
              "      <td>Korea</td>\n",
              "      <td>Seoul</td>\n",
              "      <td>Seongbuk-gu</td>\n",
              "      <td>NaN</td>\n",
              "      <td>contact with patient</td>\n",
              "      <td>2.0</td>\n",
              "      <td>1.000000e+09</td>\n",
              "      <td>2.0</td>\n",
              "      <td>NaN</td>\n",
              "      <td>2020-01-31</td>\n",
              "      <td>2020-02-24</td>\n",
              "      <td>NaN</td>\n",
              "      <td>released</td>\n",
              "    </tr>\n",
              "  </tbody>\n",
              "</table>\n",
              "</div>"
            ],
            "text/plain": [
              "   patient_id  global_num     sex  ...  released_date deceased_date     state\n",
              "0  1000000001         2.0    male  ...     2020-02-05           NaN  released\n",
              "1  1000000002         5.0    male  ...     2020-03-02           NaN  released\n",
              "2  1000000003         6.0    male  ...     2020-02-19           NaN  released\n",
              "3  1000000004         7.0    male  ...     2020-02-15           NaN  released\n",
              "4  1000000005         9.0  female  ...     2020-02-24           NaN  released\n",
              "\n",
              "[5 rows x 18 columns]"
            ]
          },
          "metadata": {
            "tags": []
          },
          "execution_count": 17
        }
      ]
    },
    {
      "cell_type": "code",
      "metadata": {
        "id": "iPnszhuP252V",
        "colab_type": "code",
        "outputId": "05bd8d3d-4c22-482a-d798-7dfed42746bb",
        "colab": {
          "base_uri": "https://localhost:8080/",
          "height": 241
        }
      },
      "source": [
        "patient_df.tail()"
      ],
      "execution_count": 18,
      "outputs": [
        {
          "output_type": "execute_result",
          "data": {
            "text/html": [
              "<div>\n",
              "<style scoped>\n",
              "    .dataframe tbody tr th:only-of-type {\n",
              "        vertical-align: middle;\n",
              "    }\n",
              "\n",
              "    .dataframe tbody tr th {\n",
              "        vertical-align: top;\n",
              "    }\n",
              "\n",
              "    .dataframe thead th {\n",
              "        text-align: right;\n",
              "    }\n",
              "</style>\n",
              "<table border=\"1\" class=\"dataframe\">\n",
              "  <thead>\n",
              "    <tr style=\"text-align: right;\">\n",
              "      <th></th>\n",
              "      <th>patient_id</th>\n",
              "      <th>global_num</th>\n",
              "      <th>sex</th>\n",
              "      <th>birth_year</th>\n",
              "      <th>age</th>\n",
              "      <th>country</th>\n",
              "      <th>province</th>\n",
              "      <th>city</th>\n",
              "      <th>disease</th>\n",
              "      <th>infection_case</th>\n",
              "      <th>infection_order</th>\n",
              "      <th>infected_by</th>\n",
              "      <th>contact_number</th>\n",
              "      <th>symptom_onset_date</th>\n",
              "      <th>confirmed_date</th>\n",
              "      <th>released_date</th>\n",
              "      <th>deceased_date</th>\n",
              "      <th>state</th>\n",
              "    </tr>\n",
              "  </thead>\n",
              "  <tbody>\n",
              "    <tr>\n",
              "      <th>2238</th>\n",
              "      <td>6100000085</td>\n",
              "      <td>NaN</td>\n",
              "      <td>male</td>\n",
              "      <td>1990.0</td>\n",
              "      <td>30s</td>\n",
              "      <td>Korea</td>\n",
              "      <td>Gyeongsangnam-do</td>\n",
              "      <td>Changwon-si</td>\n",
              "      <td>NaN</td>\n",
              "      <td>NaN</td>\n",
              "      <td>NaN</td>\n",
              "      <td>NaN</td>\n",
              "      <td>NaN</td>\n",
              "      <td>NaN</td>\n",
              "      <td>2020-03-16</td>\n",
              "      <td>NaN</td>\n",
              "      <td>NaN</td>\n",
              "      <td>NaN</td>\n",
              "    </tr>\n",
              "    <tr>\n",
              "      <th>2239</th>\n",
              "      <td>7000000001</td>\n",
              "      <td>139.0</td>\n",
              "      <td>male</td>\n",
              "      <td>1998.0</td>\n",
              "      <td>20s</td>\n",
              "      <td>Korea</td>\n",
              "      <td>Jeju-do</td>\n",
              "      <td>Jeju-do</td>\n",
              "      <td>NaN</td>\n",
              "      <td>etc</td>\n",
              "      <td>NaN</td>\n",
              "      <td>NaN</td>\n",
              "      <td>87.0</td>\n",
              "      <td>NaN</td>\n",
              "      <td>2020-02-20</td>\n",
              "      <td>NaN</td>\n",
              "      <td>NaN</td>\n",
              "      <td>isolated</td>\n",
              "    </tr>\n",
              "    <tr>\n",
              "      <th>2240</th>\n",
              "      <td>7000000002</td>\n",
              "      <td>222.0</td>\n",
              "      <td>female</td>\n",
              "      <td>1998.0</td>\n",
              "      <td>20s</td>\n",
              "      <td>Korea</td>\n",
              "      <td>Jeju-do</td>\n",
              "      <td>Jeju-do</td>\n",
              "      <td>NaN</td>\n",
              "      <td>etc</td>\n",
              "      <td>NaN</td>\n",
              "      <td>NaN</td>\n",
              "      <td>84.0</td>\n",
              "      <td>NaN</td>\n",
              "      <td>2020-02-22</td>\n",
              "      <td>2020-03-07</td>\n",
              "      <td>NaN</td>\n",
              "      <td>released</td>\n",
              "    </tr>\n",
              "    <tr>\n",
              "      <th>2241</th>\n",
              "      <td>7000000003</td>\n",
              "      <td>4345.0</td>\n",
              "      <td>female</td>\n",
              "      <td>1972.0</td>\n",
              "      <td>40s</td>\n",
              "      <td>Korea</td>\n",
              "      <td>Jeju-do</td>\n",
              "      <td>etc</td>\n",
              "      <td>NaN</td>\n",
              "      <td>etc</td>\n",
              "      <td>NaN</td>\n",
              "      <td>NaN</td>\n",
              "      <td>21.0</td>\n",
              "      <td>NaN</td>\n",
              "      <td>2020-03-02</td>\n",
              "      <td>2020-03-15</td>\n",
              "      <td>NaN</td>\n",
              "      <td>released</td>\n",
              "    </tr>\n",
              "    <tr>\n",
              "      <th>2242</th>\n",
              "      <td>7000000004</td>\n",
              "      <td>5534.0</td>\n",
              "      <td>male</td>\n",
              "      <td>1974.0</td>\n",
              "      <td>40s</td>\n",
              "      <td>Korea</td>\n",
              "      <td>Jeju-do</td>\n",
              "      <td>Jeju-do</td>\n",
              "      <td>NaN</td>\n",
              "      <td>etc</td>\n",
              "      <td>NaN</td>\n",
              "      <td>NaN</td>\n",
              "      <td>74.0</td>\n",
              "      <td>NaN</td>\n",
              "      <td>2020-03-04</td>\n",
              "      <td>NaN</td>\n",
              "      <td>NaN</td>\n",
              "      <td>isolated</td>\n",
              "    </tr>\n",
              "  </tbody>\n",
              "</table>\n",
              "</div>"
            ],
            "text/plain": [
              "      patient_id  global_num     sex  ...  released_date deceased_date     state\n",
              "2238  6100000085         NaN    male  ...            NaN           NaN       NaN\n",
              "2239  7000000001       139.0    male  ...            NaN           NaN  isolated\n",
              "2240  7000000002       222.0  female  ...     2020-03-07           NaN  released\n",
              "2241  7000000003      4345.0  female  ...     2020-03-15           NaN  released\n",
              "2242  7000000004      5534.0    male  ...            NaN           NaN  isolated\n",
              "\n",
              "[5 rows x 18 columns]"
            ]
          },
          "metadata": {
            "tags": []
          },
          "execution_count": 18
        }
      ]
    },
    {
      "cell_type": "code",
      "metadata": {
        "id": "1Qg00HdkWsyU",
        "colab_type": "code",
        "outputId": "8192b22d-00cd-4b86-a42c-afae5b13629f",
        "colab": {
          "base_uri": "https://localhost:8080/",
          "height": 85
        }
      },
      "source": [
        "# number of rows and columns in the dataset\n",
        "print('the number of observations in this dataset is: {}'.format(patient_df.shape[0]))\n",
        "print()\n",
        "print('The number of variables in this dataset is: {}'.format(patient_df.shape[1]))\n",
        "print()"
      ],
      "execution_count": 19,
      "outputs": [
        {
          "output_type": "stream",
          "text": [
            "the number of observations in this dataset is: 2243\n",
            "\n",
            "The number of variables in this dataset is: 18\n",
            "\n"
          ],
          "name": "stdout"
        }
      ]
    },
    {
      "cell_type": "markdown",
      "metadata": {
        "id": "LUyr5Cg54EsR",
        "colab_type": "text"
      },
      "source": [
        "* I will group by patinets number by 'province' and merge the result with the two additional datasets to make them ready for visualizations"
      ]
    },
    {
      "cell_type": "code",
      "metadata": {
        "id": "MSkquVhZbeEq",
        "colab_type": "code",
        "outputId": "f1077668-dc83-4ac8-9ef3-0a3c0fdbe694",
        "colab": {
          "base_uri": "https://localhost:8080/",
          "height": 576
        }
      },
      "source": [
        "patient_df_subset = patient_df.groupby(['province'])['patient_id'].count()\n",
        "patient_df_subset = pd.DataFrame(patient_df_subset)\n",
        "patient_df_subset = patient_df_subset.reset_index()\n",
        "patient_df_subset = patient_df_subset.rename(columns={'patient_id':'nb_of_patients'})\n",
        "\n",
        "patient_df_subset"
      ],
      "execution_count": 20,
      "outputs": [
        {
          "output_type": "execute_result",
          "data": {
            "text/html": [
              "<div>\n",
              "<style scoped>\n",
              "    .dataframe tbody tr th:only-of-type {\n",
              "        vertical-align: middle;\n",
              "    }\n",
              "\n",
              "    .dataframe tbody tr th {\n",
              "        vertical-align: top;\n",
              "    }\n",
              "\n",
              "    .dataframe thead th {\n",
              "        text-align: right;\n",
              "    }\n",
              "</style>\n",
              "<table border=\"1\" class=\"dataframe\">\n",
              "  <thead>\n",
              "    <tr style=\"text-align: right;\">\n",
              "      <th></th>\n",
              "      <th>province</th>\n",
              "      <th>nb_of_patients</th>\n",
              "    </tr>\n",
              "  </thead>\n",
              "  <tbody>\n",
              "    <tr>\n",
              "      <th>0</th>\n",
              "      <td>Busan</td>\n",
              "      <td>101</td>\n",
              "    </tr>\n",
              "    <tr>\n",
              "      <th>1</th>\n",
              "      <td>Chungcheongbuk-do</td>\n",
              "      <td>28</td>\n",
              "    </tr>\n",
              "    <tr>\n",
              "      <th>2</th>\n",
              "      <td>Chungcheongnam-do</td>\n",
              "      <td>118</td>\n",
              "    </tr>\n",
              "    <tr>\n",
              "      <th>3</th>\n",
              "      <td>Daegu</td>\n",
              "      <td>63</td>\n",
              "    </tr>\n",
              "    <tr>\n",
              "      <th>4</th>\n",
              "      <td>Daejeon</td>\n",
              "      <td>22</td>\n",
              "    </tr>\n",
              "    <tr>\n",
              "      <th>5</th>\n",
              "      <td>Gangwon-do</td>\n",
              "      <td>29</td>\n",
              "    </tr>\n",
              "    <tr>\n",
              "      <th>6</th>\n",
              "      <td>Gwangju</td>\n",
              "      <td>19</td>\n",
              "    </tr>\n",
              "    <tr>\n",
              "      <th>7</th>\n",
              "      <td>Gyeonggi-do</td>\n",
              "      <td>300</td>\n",
              "    </tr>\n",
              "    <tr>\n",
              "      <th>8</th>\n",
              "      <td>Gyeongsangbuk-do</td>\n",
              "      <td>1054</td>\n",
              "    </tr>\n",
              "    <tr>\n",
              "      <th>9</th>\n",
              "      <td>Gyeongsangnam-do</td>\n",
              "      <td>85</td>\n",
              "    </tr>\n",
              "    <tr>\n",
              "      <th>10</th>\n",
              "      <td>Incheon</td>\n",
              "      <td>39</td>\n",
              "    </tr>\n",
              "    <tr>\n",
              "      <th>11</th>\n",
              "      <td>Jeju-do</td>\n",
              "      <td>4</td>\n",
              "    </tr>\n",
              "    <tr>\n",
              "      <th>12</th>\n",
              "      <td>Jeollabuk-do</td>\n",
              "      <td>7</td>\n",
              "    </tr>\n",
              "    <tr>\n",
              "      <th>13</th>\n",
              "      <td>Jeollanam-do</td>\n",
              "      <td>4</td>\n",
              "    </tr>\n",
              "    <tr>\n",
              "      <th>14</th>\n",
              "      <td>Sejong</td>\n",
              "      <td>41</td>\n",
              "    </tr>\n",
              "    <tr>\n",
              "      <th>15</th>\n",
              "      <td>Seoul</td>\n",
              "      <td>299</td>\n",
              "    </tr>\n",
              "    <tr>\n",
              "      <th>16</th>\n",
              "      <td>Ulsan</td>\n",
              "      <td>30</td>\n",
              "    </tr>\n",
              "  </tbody>\n",
              "</table>\n",
              "</div>"
            ],
            "text/plain": [
              "             province  nb_of_patients\n",
              "0               Busan             101\n",
              "1   Chungcheongbuk-do              28\n",
              "2   Chungcheongnam-do             118\n",
              "3               Daegu              63\n",
              "4             Daejeon              22\n",
              "5          Gangwon-do              29\n",
              "6             Gwangju              19\n",
              "7         Gyeonggi-do             300\n",
              "8    Gyeongsangbuk-do            1054\n",
              "9    Gyeongsangnam-do              85\n",
              "10            Incheon              39\n",
              "11            Jeju-do               4\n",
              "12       Jeollabuk-do               7\n",
              "13       Jeollanam-do               4\n",
              "14             Sejong              41\n",
              "15              Seoul             299\n",
              "16              Ulsan              30"
            ]
          },
          "metadata": {
            "tags": []
          },
          "execution_count": 20
        }
      ]
    },
    {
      "cell_type": "code",
      "metadata": {
        "id": "A2RcN0MD53Hb",
        "colab_type": "code",
        "outputId": "d0410f87-d5d2-48be-928f-dd8be835e68a",
        "colab": {
          "base_uri": "https://localhost:8080/",
          "height": 558
        }
      },
      "source": [
        "# The dataset is organized that each province is summarized in one row then it is detailed in subsequent rows to each city\n",
        "# so i only need the rows where the data of each province is summarized\n",
        "region_df"
      ],
      "execution_count": 21,
      "outputs": [
        {
          "output_type": "execute_result",
          "data": {
            "text/html": [
              "<div>\n",
              "<style scoped>\n",
              "    .dataframe tbody tr th:only-of-type {\n",
              "        vertical-align: middle;\n",
              "    }\n",
              "\n",
              "    .dataframe tbody tr th {\n",
              "        vertical-align: top;\n",
              "    }\n",
              "\n",
              "    .dataframe thead th {\n",
              "        text-align: right;\n",
              "    }\n",
              "</style>\n",
              "<table border=\"1\" class=\"dataframe\">\n",
              "  <thead>\n",
              "    <tr style=\"text-align: right;\">\n",
              "      <th></th>\n",
              "      <th>code</th>\n",
              "      <th>province</th>\n",
              "      <th>city</th>\n",
              "      <th>latitude</th>\n",
              "      <th>longitude</th>\n",
              "      <th>elementary_school_count</th>\n",
              "      <th>kindergarten_count</th>\n",
              "      <th>university_count</th>\n",
              "      <th>academy_ratio</th>\n",
              "      <th>elderly_population_ratio</th>\n",
              "      <th>elderly_alone_ratio</th>\n",
              "      <th>nursing_home_count</th>\n",
              "    </tr>\n",
              "  </thead>\n",
              "  <tbody>\n",
              "    <tr>\n",
              "      <th>0</th>\n",
              "      <td>10000</td>\n",
              "      <td>Seoul</td>\n",
              "      <td>Seoul</td>\n",
              "      <td>37.566953</td>\n",
              "      <td>126.977977</td>\n",
              "      <td>607</td>\n",
              "      <td>830</td>\n",
              "      <td>48</td>\n",
              "      <td>1.44</td>\n",
              "      <td>15.38</td>\n",
              "      <td>5.8</td>\n",
              "      <td>22739</td>\n",
              "    </tr>\n",
              "    <tr>\n",
              "      <th>1</th>\n",
              "      <td>10010</td>\n",
              "      <td>Seoul</td>\n",
              "      <td>Gangnam-gu</td>\n",
              "      <td>37.518421</td>\n",
              "      <td>127.047222</td>\n",
              "      <td>33</td>\n",
              "      <td>38</td>\n",
              "      <td>0</td>\n",
              "      <td>4.18</td>\n",
              "      <td>13.17</td>\n",
              "      <td>4.3</td>\n",
              "      <td>3088</td>\n",
              "    </tr>\n",
              "    <tr>\n",
              "      <th>2</th>\n",
              "      <td>10020</td>\n",
              "      <td>Seoul</td>\n",
              "      <td>Gangdong-gu</td>\n",
              "      <td>37.530492</td>\n",
              "      <td>127.123837</td>\n",
              "      <td>27</td>\n",
              "      <td>32</td>\n",
              "      <td>0</td>\n",
              "      <td>1.54</td>\n",
              "      <td>14.55</td>\n",
              "      <td>5.4</td>\n",
              "      <td>1023</td>\n",
              "    </tr>\n",
              "    <tr>\n",
              "      <th>3</th>\n",
              "      <td>10030</td>\n",
              "      <td>Seoul</td>\n",
              "      <td>Gangbuk-gu</td>\n",
              "      <td>37.639938</td>\n",
              "      <td>127.025508</td>\n",
              "      <td>14</td>\n",
              "      <td>21</td>\n",
              "      <td>0</td>\n",
              "      <td>0.67</td>\n",
              "      <td>19.49</td>\n",
              "      <td>8.5</td>\n",
              "      <td>628</td>\n",
              "    </tr>\n",
              "    <tr>\n",
              "      <th>4</th>\n",
              "      <td>10040</td>\n",
              "      <td>Seoul</td>\n",
              "      <td>Gangseo-gu</td>\n",
              "      <td>37.551166</td>\n",
              "      <td>126.849506</td>\n",
              "      <td>36</td>\n",
              "      <td>56</td>\n",
              "      <td>1</td>\n",
              "      <td>1.17</td>\n",
              "      <td>14.39</td>\n",
              "      <td>5.7</td>\n",
              "      <td>1080</td>\n",
              "    </tr>\n",
              "    <tr>\n",
              "      <th>...</th>\n",
              "      <td>...</td>\n",
              "      <td>...</td>\n",
              "      <td>...</td>\n",
              "      <td>...</td>\n",
              "      <td>...</td>\n",
              "      <td>...</td>\n",
              "      <td>...</td>\n",
              "      <td>...</td>\n",
              "      <td>...</td>\n",
              "      <td>...</td>\n",
              "      <td>...</td>\n",
              "      <td>...</td>\n",
              "    </tr>\n",
              "    <tr>\n",
              "      <th>239</th>\n",
              "      <td>61160</td>\n",
              "      <td>Gyeongsangnam-do</td>\n",
              "      <td>Haman-gun</td>\n",
              "      <td>35.272481</td>\n",
              "      <td>128.406540</td>\n",
              "      <td>16</td>\n",
              "      <td>20</td>\n",
              "      <td>0</td>\n",
              "      <td>1.19</td>\n",
              "      <td>23.74</td>\n",
              "      <td>14.7</td>\n",
              "      <td>94</td>\n",
              "    </tr>\n",
              "    <tr>\n",
              "      <th>240</th>\n",
              "      <td>61170</td>\n",
              "      <td>Gyeongsangnam-do</td>\n",
              "      <td>Hamyang-gun</td>\n",
              "      <td>35.520541</td>\n",
              "      <td>127.725177</td>\n",
              "      <td>13</td>\n",
              "      <td>12</td>\n",
              "      <td>0</td>\n",
              "      <td>1.01</td>\n",
              "      <td>32.65</td>\n",
              "      <td>20.9</td>\n",
              "      <td>83</td>\n",
              "    </tr>\n",
              "    <tr>\n",
              "      <th>241</th>\n",
              "      <td>61180</td>\n",
              "      <td>Gyeongsangnam-do</td>\n",
              "      <td>Hapcheon-gun</td>\n",
              "      <td>35.566702</td>\n",
              "      <td>128.165870</td>\n",
              "      <td>17</td>\n",
              "      <td>15</td>\n",
              "      <td>0</td>\n",
              "      <td>0.71</td>\n",
              "      <td>38.44</td>\n",
              "      <td>24.7</td>\n",
              "      <td>96</td>\n",
              "    </tr>\n",
              "    <tr>\n",
              "      <th>242</th>\n",
              "      <td>70000</td>\n",
              "      <td>Jeju-do</td>\n",
              "      <td>Jeju-do</td>\n",
              "      <td>33.488936</td>\n",
              "      <td>126.500423</td>\n",
              "      <td>113</td>\n",
              "      <td>123</td>\n",
              "      <td>4</td>\n",
              "      <td>1.53</td>\n",
              "      <td>15.10</td>\n",
              "      <td>6.4</td>\n",
              "      <td>1245</td>\n",
              "    </tr>\n",
              "    <tr>\n",
              "      <th>243</th>\n",
              "      <td>80000</td>\n",
              "      <td>Korea</td>\n",
              "      <td>Korea</td>\n",
              "      <td>37.566953</td>\n",
              "      <td>126.977977</td>\n",
              "      <td>6087</td>\n",
              "      <td>8837</td>\n",
              "      <td>340</td>\n",
              "      <td>1.56</td>\n",
              "      <td>15.67</td>\n",
              "      <td>7.2</td>\n",
              "      <td>94865</td>\n",
              "    </tr>\n",
              "  </tbody>\n",
              "</table>\n",
              "<p>244 rows × 12 columns</p>\n",
              "</div>"
            ],
            "text/plain": [
              "      code          province  ... elderly_alone_ratio  nursing_home_count\n",
              "0    10000             Seoul  ...                 5.8               22739\n",
              "1    10010             Seoul  ...                 4.3                3088\n",
              "2    10020             Seoul  ...                 5.4                1023\n",
              "3    10030             Seoul  ...                 8.5                 628\n",
              "4    10040             Seoul  ...                 5.7                1080\n",
              "..     ...               ...  ...                 ...                 ...\n",
              "239  61160  Gyeongsangnam-do  ...                14.7                  94\n",
              "240  61170  Gyeongsangnam-do  ...                20.9                  83\n",
              "241  61180  Gyeongsangnam-do  ...                24.7                  96\n",
              "242  70000           Jeju-do  ...                 6.4                1245\n",
              "243  80000             Korea  ...                 7.2               94865\n",
              "\n",
              "[244 rows x 12 columns]"
            ]
          },
          "metadata": {
            "tags": []
          },
          "execution_count": 21
        }
      ]
    },
    {
      "cell_type": "code",
      "metadata": {
        "id": "KuRRPapSh2Gv",
        "colab_type": "code",
        "outputId": "480c8b04-692e-4480-b332-8ebf081b7c46",
        "colab": {
          "base_uri": "https://localhost:8080/",
          "height": 664
        }
      },
      "source": [
        "region_df_subset = region_df.query('province == city')\n",
        "#drop the last row where it sums all the data of Korea\n",
        "region_df_subset = region_df_subset.drop(243)\n",
        "region_df_subset"
      ],
      "execution_count": 22,
      "outputs": [
        {
          "output_type": "execute_result",
          "data": {
            "text/html": [
              "<div>\n",
              "<style scoped>\n",
              "    .dataframe tbody tr th:only-of-type {\n",
              "        vertical-align: middle;\n",
              "    }\n",
              "\n",
              "    .dataframe tbody tr th {\n",
              "        vertical-align: top;\n",
              "    }\n",
              "\n",
              "    .dataframe thead th {\n",
              "        text-align: right;\n",
              "    }\n",
              "</style>\n",
              "<table border=\"1\" class=\"dataframe\">\n",
              "  <thead>\n",
              "    <tr style=\"text-align: right;\">\n",
              "      <th></th>\n",
              "      <th>code</th>\n",
              "      <th>province</th>\n",
              "      <th>city</th>\n",
              "      <th>latitude</th>\n",
              "      <th>longitude</th>\n",
              "      <th>elementary_school_count</th>\n",
              "      <th>kindergarten_count</th>\n",
              "      <th>university_count</th>\n",
              "      <th>academy_ratio</th>\n",
              "      <th>elderly_population_ratio</th>\n",
              "      <th>elderly_alone_ratio</th>\n",
              "      <th>nursing_home_count</th>\n",
              "    </tr>\n",
              "  </thead>\n",
              "  <tbody>\n",
              "    <tr>\n",
              "      <th>0</th>\n",
              "      <td>10000</td>\n",
              "      <td>Seoul</td>\n",
              "      <td>Seoul</td>\n",
              "      <td>37.566953</td>\n",
              "      <td>126.977977</td>\n",
              "      <td>607</td>\n",
              "      <td>830</td>\n",
              "      <td>48</td>\n",
              "      <td>1.44</td>\n",
              "      <td>15.38</td>\n",
              "      <td>5.8</td>\n",
              "      <td>22739</td>\n",
              "    </tr>\n",
              "    <tr>\n",
              "      <th>26</th>\n",
              "      <td>11000</td>\n",
              "      <td>Busan</td>\n",
              "      <td>Busan</td>\n",
              "      <td>35.179884</td>\n",
              "      <td>129.074796</td>\n",
              "      <td>304</td>\n",
              "      <td>408</td>\n",
              "      <td>22</td>\n",
              "      <td>1.40</td>\n",
              "      <td>18.41</td>\n",
              "      <td>8.6</td>\n",
              "      <td>6752</td>\n",
              "    </tr>\n",
              "    <tr>\n",
              "      <th>43</th>\n",
              "      <td>12000</td>\n",
              "      <td>Daegu</td>\n",
              "      <td>Daegu</td>\n",
              "      <td>35.872150</td>\n",
              "      <td>128.601783</td>\n",
              "      <td>229</td>\n",
              "      <td>355</td>\n",
              "      <td>11</td>\n",
              "      <td>1.62</td>\n",
              "      <td>15.78</td>\n",
              "      <td>7.5</td>\n",
              "      <td>5083</td>\n",
              "    </tr>\n",
              "    <tr>\n",
              "      <th>52</th>\n",
              "      <td>13000</td>\n",
              "      <td>Gwangju</td>\n",
              "      <td>Gwangju</td>\n",
              "      <td>35.160467</td>\n",
              "      <td>126.851392</td>\n",
              "      <td>155</td>\n",
              "      <td>312</td>\n",
              "      <td>17</td>\n",
              "      <td>2.38</td>\n",
              "      <td>13.57</td>\n",
              "      <td>6.4</td>\n",
              "      <td>2852</td>\n",
              "    </tr>\n",
              "    <tr>\n",
              "      <th>58</th>\n",
              "      <td>14000</td>\n",
              "      <td>Incheon</td>\n",
              "      <td>Incheon</td>\n",
              "      <td>37.456188</td>\n",
              "      <td>126.705920</td>\n",
              "      <td>250</td>\n",
              "      <td>403</td>\n",
              "      <td>7</td>\n",
              "      <td>1.27</td>\n",
              "      <td>13.20</td>\n",
              "      <td>5.8</td>\n",
              "      <td>4497</td>\n",
              "    </tr>\n",
              "    <tr>\n",
              "      <th>69</th>\n",
              "      <td>15000</td>\n",
              "      <td>Daejeon</td>\n",
              "      <td>Daejeon</td>\n",
              "      <td>36.350621</td>\n",
              "      <td>127.384744</td>\n",
              "      <td>148</td>\n",
              "      <td>260</td>\n",
              "      <td>15</td>\n",
              "      <td>1.49</td>\n",
              "      <td>13.65</td>\n",
              "      <td>5.8</td>\n",
              "      <td>2984</td>\n",
              "    </tr>\n",
              "    <tr>\n",
              "      <th>75</th>\n",
              "      <td>16000</td>\n",
              "      <td>Ulsan</td>\n",
              "      <td>Ulsan</td>\n",
              "      <td>35.539797</td>\n",
              "      <td>129.311538</td>\n",
              "      <td>119</td>\n",
              "      <td>200</td>\n",
              "      <td>4</td>\n",
              "      <td>2.21</td>\n",
              "      <td>11.76</td>\n",
              "      <td>5.2</td>\n",
              "      <td>1801</td>\n",
              "    </tr>\n",
              "    <tr>\n",
              "      <th>81</th>\n",
              "      <td>17000</td>\n",
              "      <td>Sejong</td>\n",
              "      <td>Sejong</td>\n",
              "      <td>36.480132</td>\n",
              "      <td>127.289021</td>\n",
              "      <td>48</td>\n",
              "      <td>60</td>\n",
              "      <td>3</td>\n",
              "      <td>1.78</td>\n",
              "      <td>9.48</td>\n",
              "      <td>3.8</td>\n",
              "      <td>491</td>\n",
              "    </tr>\n",
              "    <tr>\n",
              "      <th>82</th>\n",
              "      <td>20000</td>\n",
              "      <td>Gyeonggi-do</td>\n",
              "      <td>Gyeonggi-do</td>\n",
              "      <td>37.275119</td>\n",
              "      <td>127.009466</td>\n",
              "      <td>1277</td>\n",
              "      <td>2237</td>\n",
              "      <td>61</td>\n",
              "      <td>1.60</td>\n",
              "      <td>12.63</td>\n",
              "      <td>5.2</td>\n",
              "      <td>20491</td>\n",
              "    </tr>\n",
              "    <tr>\n",
              "      <th>114</th>\n",
              "      <td>30000</td>\n",
              "      <td>Gangwon-do</td>\n",
              "      <td>Gangwon-do</td>\n",
              "      <td>37.885369</td>\n",
              "      <td>127.729868</td>\n",
              "      <td>349</td>\n",
              "      <td>368</td>\n",
              "      <td>18</td>\n",
              "      <td>1.42</td>\n",
              "      <td>19.89</td>\n",
              "      <td>9.8</td>\n",
              "      <td>2519</td>\n",
              "    </tr>\n",
              "    <tr>\n",
              "      <th>133</th>\n",
              "      <td>40000</td>\n",
              "      <td>Chungcheongbuk-do</td>\n",
              "      <td>Chungcheongbuk-do</td>\n",
              "      <td>36.635680</td>\n",
              "      <td>127.491384</td>\n",
              "      <td>259</td>\n",
              "      <td>328</td>\n",
              "      <td>17</td>\n",
              "      <td>1.39</td>\n",
              "      <td>17.28</td>\n",
              "      <td>8.5</td>\n",
              "      <td>2769</td>\n",
              "    </tr>\n",
              "    <tr>\n",
              "      <th>145</th>\n",
              "      <td>41000</td>\n",
              "      <td>Chungcheongnam-do</td>\n",
              "      <td>Chungcheongnam-do</td>\n",
              "      <td>36.658976</td>\n",
              "      <td>126.673318</td>\n",
              "      <td>409</td>\n",
              "      <td>499</td>\n",
              "      <td>21</td>\n",
              "      <td>1.38</td>\n",
              "      <td>18.40</td>\n",
              "      <td>8.9</td>\n",
              "      <td>3641</td>\n",
              "    </tr>\n",
              "    <tr>\n",
              "      <th>161</th>\n",
              "      <td>50000</td>\n",
              "      <td>Jeollabuk-do</td>\n",
              "      <td>Jeollabuk-do</td>\n",
              "      <td>35.820308</td>\n",
              "      <td>127.108791</td>\n",
              "      <td>419</td>\n",
              "      <td>519</td>\n",
              "      <td>19</td>\n",
              "      <td>2.12</td>\n",
              "      <td>20.60</td>\n",
              "      <td>10.9</td>\n",
              "      <td>3774</td>\n",
              "    </tr>\n",
              "    <tr>\n",
              "      <th>176</th>\n",
              "      <td>51000</td>\n",
              "      <td>Jeollanam-do</td>\n",
              "      <td>Jeollanam-do</td>\n",
              "      <td>34.816095</td>\n",
              "      <td>126.463021</td>\n",
              "      <td>429</td>\n",
              "      <td>542</td>\n",
              "      <td>19</td>\n",
              "      <td>1.45</td>\n",
              "      <td>22.81</td>\n",
              "      <td>13.5</td>\n",
              "      <td>3389</td>\n",
              "    </tr>\n",
              "    <tr>\n",
              "      <th>199</th>\n",
              "      <td>60000</td>\n",
              "      <td>Gyeongsangbuk-do</td>\n",
              "      <td>Gyeongsangbuk-do</td>\n",
              "      <td>36.576032</td>\n",
              "      <td>128.505599</td>\n",
              "      <td>471</td>\n",
              "      <td>707</td>\n",
              "      <td>33</td>\n",
              "      <td>1.33</td>\n",
              "      <td>20.85</td>\n",
              "      <td>11.1</td>\n",
              "      <td>4474</td>\n",
              "    </tr>\n",
              "    <tr>\n",
              "      <th>223</th>\n",
              "      <td>61000</td>\n",
              "      <td>Gyeongsangnam-do</td>\n",
              "      <td>Gyeongsangnam-do</td>\n",
              "      <td>35.238294</td>\n",
              "      <td>128.692397</td>\n",
              "      <td>501</td>\n",
              "      <td>686</td>\n",
              "      <td>21</td>\n",
              "      <td>1.78</td>\n",
              "      <td>16.51</td>\n",
              "      <td>9.1</td>\n",
              "      <td>5364</td>\n",
              "    </tr>\n",
              "    <tr>\n",
              "      <th>242</th>\n",
              "      <td>70000</td>\n",
              "      <td>Jeju-do</td>\n",
              "      <td>Jeju-do</td>\n",
              "      <td>33.488936</td>\n",
              "      <td>126.500423</td>\n",
              "      <td>113</td>\n",
              "      <td>123</td>\n",
              "      <td>4</td>\n",
              "      <td>1.53</td>\n",
              "      <td>15.10</td>\n",
              "      <td>6.4</td>\n",
              "      <td>1245</td>\n",
              "    </tr>\n",
              "  </tbody>\n",
              "</table>\n",
              "</div>"
            ],
            "text/plain": [
              "      code           province  ... elderly_alone_ratio  nursing_home_count\n",
              "0    10000              Seoul  ...                 5.8               22739\n",
              "26   11000              Busan  ...                 8.6                6752\n",
              "43   12000              Daegu  ...                 7.5                5083\n",
              "52   13000            Gwangju  ...                 6.4                2852\n",
              "58   14000            Incheon  ...                 5.8                4497\n",
              "69   15000            Daejeon  ...                 5.8                2984\n",
              "75   16000              Ulsan  ...                 5.2                1801\n",
              "81   17000             Sejong  ...                 3.8                 491\n",
              "82   20000        Gyeonggi-do  ...                 5.2               20491\n",
              "114  30000         Gangwon-do  ...                 9.8                2519\n",
              "133  40000  Chungcheongbuk-do  ...                 8.5                2769\n",
              "145  41000  Chungcheongnam-do  ...                 8.9                3641\n",
              "161  50000       Jeollabuk-do  ...                10.9                3774\n",
              "176  51000       Jeollanam-do  ...                13.5                3389\n",
              "199  60000   Gyeongsangbuk-do  ...                11.1                4474\n",
              "223  61000   Gyeongsangnam-do  ...                 9.1                5364\n",
              "242  70000            Jeju-do  ...                 6.4                1245\n",
              "\n",
              "[17 rows x 12 columns]"
            ]
          },
          "metadata": {
            "tags": []
          },
          "execution_count": 22
        }
      ]
    },
    {
      "cell_type": "code",
      "metadata": {
        "id": "ffQOOKGongh-",
        "colab_type": "code",
        "outputId": "e3a3a747-8cce-43b2-a116-ac49eff86ffa",
        "colab": {
          "base_uri": "https://localhost:8080/",
          "height": 204
        }
      },
      "source": [
        "weather_df.head()"
      ],
      "execution_count": 23,
      "outputs": [
        {
          "output_type": "execute_result",
          "data": {
            "text/html": [
              "<div>\n",
              "<style scoped>\n",
              "    .dataframe tbody tr th:only-of-type {\n",
              "        vertical-align: middle;\n",
              "    }\n",
              "\n",
              "    .dataframe tbody tr th {\n",
              "        vertical-align: top;\n",
              "    }\n",
              "\n",
              "    .dataframe thead th {\n",
              "        text-align: right;\n",
              "    }\n",
              "</style>\n",
              "<table border=\"1\" class=\"dataframe\">\n",
              "  <thead>\n",
              "    <tr style=\"text-align: right;\">\n",
              "      <th></th>\n",
              "      <th>code</th>\n",
              "      <th>province</th>\n",
              "      <th>date</th>\n",
              "      <th>avg_temp</th>\n",
              "      <th>min_temp</th>\n",
              "      <th>max_temp</th>\n",
              "      <th>precipitation</th>\n",
              "      <th>max_wind_speed</th>\n",
              "      <th>most_wind_direction</th>\n",
              "      <th>avg_relative_humidity</th>\n",
              "    </tr>\n",
              "  </thead>\n",
              "  <tbody>\n",
              "    <tr>\n",
              "      <th>0</th>\n",
              "      <td>10000</td>\n",
              "      <td>Seoul</td>\n",
              "      <td>2016-03-17</td>\n",
              "      <td>9.3</td>\n",
              "      <td>2.0</td>\n",
              "      <td>14.7</td>\n",
              "      <td>0.0</td>\n",
              "      <td>3.2</td>\n",
              "      <td>70.0</td>\n",
              "      <td>40.9</td>\n",
              "    </tr>\n",
              "    <tr>\n",
              "      <th>1</th>\n",
              "      <td>10000</td>\n",
              "      <td>Seoul</td>\n",
              "      <td>2016-03-18</td>\n",
              "      <td>13.4</td>\n",
              "      <td>8.8</td>\n",
              "      <td>20.1</td>\n",
              "      <td>0.0</td>\n",
              "      <td>5.0</td>\n",
              "      <td>110.0</td>\n",
              "      <td>50.0</td>\n",
              "    </tr>\n",
              "    <tr>\n",
              "      <th>2</th>\n",
              "      <td>10000</td>\n",
              "      <td>Seoul</td>\n",
              "      <td>2016-03-19</td>\n",
              "      <td>11.4</td>\n",
              "      <td>6.6</td>\n",
              "      <td>18.1</td>\n",
              "      <td>0.0</td>\n",
              "      <td>4.8</td>\n",
              "      <td>320.0</td>\n",
              "      <td>58.3</td>\n",
              "    </tr>\n",
              "    <tr>\n",
              "      <th>3</th>\n",
              "      <td>10000</td>\n",
              "      <td>Seoul</td>\n",
              "      <td>2016-03-20</td>\n",
              "      <td>10.6</td>\n",
              "      <td>4.9</td>\n",
              "      <td>17.5</td>\n",
              "      <td>0.0</td>\n",
              "      <td>4.6</td>\n",
              "      <td>320.0</td>\n",
              "      <td>54.0</td>\n",
              "    </tr>\n",
              "    <tr>\n",
              "      <th>4</th>\n",
              "      <td>10000</td>\n",
              "      <td>Seoul</td>\n",
              "      <td>2016-03-21</td>\n",
              "      <td>9.9</td>\n",
              "      <td>5.5</td>\n",
              "      <td>16.1</td>\n",
              "      <td>0.0</td>\n",
              "      <td>5.4</td>\n",
              "      <td>320.0</td>\n",
              "      <td>54.1</td>\n",
              "    </tr>\n",
              "  </tbody>\n",
              "</table>\n",
              "</div>"
            ],
            "text/plain": [
              "    code province  ... most_wind_direction  avg_relative_humidity\n",
              "0  10000    Seoul  ...                70.0                   40.9\n",
              "1  10000    Seoul  ...               110.0                   50.0\n",
              "2  10000    Seoul  ...               320.0                   58.3\n",
              "3  10000    Seoul  ...               320.0                   54.0\n",
              "4  10000    Seoul  ...               320.0                   54.1\n",
              "\n",
              "[5 rows x 10 columns]"
            ]
          },
          "metadata": {
            "tags": []
          },
          "execution_count": 23
        }
      ]
    },
    {
      "cell_type": "code",
      "metadata": {
        "id": "YlEvjttkn5DU",
        "colab_type": "code",
        "outputId": "281d2486-9ef9-457b-9e18-5a4a273083fb",
        "colab": {
          "base_uri": "https://localhost:8080/",
          "height": 545
        }
      },
      "source": [
        "weather_df_subset = weather_df.groupby(['province'])['avg_temp','max_wind_speed','avg_relative_humidity'].mean()\n",
        "weather_df_subset = weather_df_subset.reset_index()\n",
        "weather_df_subset"
      ],
      "execution_count": 24,
      "outputs": [
        {
          "output_type": "execute_result",
          "data": {
            "text/html": [
              "<div>\n",
              "<style scoped>\n",
              "    .dataframe tbody tr th:only-of-type {\n",
              "        vertical-align: middle;\n",
              "    }\n",
              "\n",
              "    .dataframe tbody tr th {\n",
              "        vertical-align: top;\n",
              "    }\n",
              "\n",
              "    .dataframe thead th {\n",
              "        text-align: right;\n",
              "    }\n",
              "</style>\n",
              "<table border=\"1\" class=\"dataframe\">\n",
              "  <thead>\n",
              "    <tr style=\"text-align: right;\">\n",
              "      <th></th>\n",
              "      <th>province</th>\n",
              "      <th>avg_temp</th>\n",
              "      <th>max_wind_speed</th>\n",
              "      <th>avg_relative_humidity</th>\n",
              "    </tr>\n",
              "  </thead>\n",
              "  <tbody>\n",
              "    <tr>\n",
              "      <th>0</th>\n",
              "      <td>Busan</td>\n",
              "      <td>15.571800</td>\n",
              "      <td>6.330048</td>\n",
              "      <td>63.289665</td>\n",
              "    </tr>\n",
              "    <tr>\n",
              "      <th>1</th>\n",
              "      <td>Chungcheongbuk-do</td>\n",
              "      <td>12.478904</td>\n",
              "      <td>3.873032</td>\n",
              "      <td>65.641575</td>\n",
              "    </tr>\n",
              "    <tr>\n",
              "      <th>2</th>\n",
              "      <td>Chungcheongnam-do</td>\n",
              "      <td>12.681680</td>\n",
              "      <td>4.737971</td>\n",
              "      <td>75.756749</td>\n",
              "    </tr>\n",
              "    <tr>\n",
              "      <th>3</th>\n",
              "      <td>Daegu</td>\n",
              "      <td>14.655685</td>\n",
              "      <td>4.951677</td>\n",
              "      <td>60.638398</td>\n",
              "    </tr>\n",
              "    <tr>\n",
              "      <th>4</th>\n",
              "      <td>Daejeon</td>\n",
              "      <td>13.928884</td>\n",
              "      <td>3.861259</td>\n",
              "      <td>68.958932</td>\n",
              "    </tr>\n",
              "    <tr>\n",
              "      <th>5</th>\n",
              "      <td>Gangwon-do</td>\n",
              "      <td>14.251061</td>\n",
              "      <td>5.011157</td>\n",
              "      <td>55.924435</td>\n",
              "    </tr>\n",
              "    <tr>\n",
              "      <th>6</th>\n",
              "      <td>Gwangju</td>\n",
              "      <td>14.899316</td>\n",
              "      <td>4.102806</td>\n",
              "      <td>70.166530</td>\n",
              "    </tr>\n",
              "    <tr>\n",
              "      <th>7</th>\n",
              "      <td>Gyeonggi-do</td>\n",
              "      <td>13.189733</td>\n",
              "      <td>4.434771</td>\n",
              "      <td>69.031280</td>\n",
              "    </tr>\n",
              "    <tr>\n",
              "      <th>8</th>\n",
              "      <td>Gyeongsangbuk-do</td>\n",
              "      <td>13.940316</td>\n",
              "      <td>6.049418</td>\n",
              "      <td>63.094693</td>\n",
              "    </tr>\n",
              "    <tr>\n",
              "      <th>9</th>\n",
              "      <td>Gyeongsangnam-do</td>\n",
              "      <td>14.793908</td>\n",
              "      <td>4.468446</td>\n",
              "      <td>65.258658</td>\n",
              "    </tr>\n",
              "    <tr>\n",
              "      <th>10</th>\n",
              "      <td>Incheon</td>\n",
              "      <td>13.057906</td>\n",
              "      <td>5.718288</td>\n",
              "      <td>67.740246</td>\n",
              "    </tr>\n",
              "    <tr>\n",
              "      <th>11</th>\n",
              "      <td>Jeju-do</td>\n",
              "      <td>16.948734</td>\n",
              "      <td>6.165503</td>\n",
              "      <td>70.145243</td>\n",
              "    </tr>\n",
              "    <tr>\n",
              "      <th>12</th>\n",
              "      <td>Jeollabuk-do</td>\n",
              "      <td>14.185421</td>\n",
              "      <td>4.263723</td>\n",
              "      <td>72.540589</td>\n",
              "    </tr>\n",
              "    <tr>\n",
              "      <th>13</th>\n",
              "      <td>Jeollanam-do</td>\n",
              "      <td>15.307461</td>\n",
              "      <td>7.905426</td>\n",
              "      <td>65.933425</td>\n",
              "    </tr>\n",
              "    <tr>\n",
              "      <th>14</th>\n",
              "      <td>Seoul</td>\n",
              "      <td>13.471595</td>\n",
              "      <td>4.442563</td>\n",
              "      <td>57.932033</td>\n",
              "    </tr>\n",
              "    <tr>\n",
              "      <th>15</th>\n",
              "      <td>Ulsan</td>\n",
              "      <td>14.799726</td>\n",
              "      <td>4.666393</td>\n",
              "      <td>67.014168</td>\n",
              "    </tr>\n",
              "  </tbody>\n",
              "</table>\n",
              "</div>"
            ],
            "text/plain": [
              "             province   avg_temp  max_wind_speed  avg_relative_humidity\n",
              "0               Busan  15.571800        6.330048              63.289665\n",
              "1   Chungcheongbuk-do  12.478904        3.873032              65.641575\n",
              "2   Chungcheongnam-do  12.681680        4.737971              75.756749\n",
              "3               Daegu  14.655685        4.951677              60.638398\n",
              "4             Daejeon  13.928884        3.861259              68.958932\n",
              "5          Gangwon-do  14.251061        5.011157              55.924435\n",
              "6             Gwangju  14.899316        4.102806              70.166530\n",
              "7         Gyeonggi-do  13.189733        4.434771              69.031280\n",
              "8    Gyeongsangbuk-do  13.940316        6.049418              63.094693\n",
              "9    Gyeongsangnam-do  14.793908        4.468446              65.258658\n",
              "10            Incheon  13.057906        5.718288              67.740246\n",
              "11            Jeju-do  16.948734        6.165503              70.145243\n",
              "12       Jeollabuk-do  14.185421        4.263723              72.540589\n",
              "13       Jeollanam-do  15.307461        7.905426              65.933425\n",
              "14              Seoul  13.471595        4.442563              57.932033\n",
              "15              Ulsan  14.799726        4.666393              67.014168"
            ]
          },
          "metadata": {
            "tags": []
          },
          "execution_count": 24
        }
      ]
    },
    {
      "cell_type": "markdown",
      "metadata": {
        "id": "0Tv3bq9Y_2dC",
        "colab_type": "text"
      },
      "source": [
        "* Now i will merge the three subsets together "
      ]
    },
    {
      "cell_type": "code",
      "metadata": {
        "id": "3JVznapJo9d0",
        "colab_type": "code",
        "outputId": "d1d45810-1ca5-4420-d69a-ab6a9b7becf7",
        "colab": {
          "base_uri": "https://localhost:8080/",
          "height": 633
        }
      },
      "source": [
        "# merging the patient_df_subset with the weather_df_subset\n",
        "# then merging this new subset with the region_df_subset\n",
        "df_subset = pd.merge(patient_df_subset,weather_df_subset,on='province')\n",
        "df_subset = pd.merge(df_subset,region_df_subset,on='province')\n",
        "df_subset"
      ],
      "execution_count": 25,
      "outputs": [
        {
          "output_type": "execute_result",
          "data": {
            "text/html": [
              "<div>\n",
              "<style scoped>\n",
              "    .dataframe tbody tr th:only-of-type {\n",
              "        vertical-align: middle;\n",
              "    }\n",
              "\n",
              "    .dataframe tbody tr th {\n",
              "        vertical-align: top;\n",
              "    }\n",
              "\n",
              "    .dataframe thead th {\n",
              "        text-align: right;\n",
              "    }\n",
              "</style>\n",
              "<table border=\"1\" class=\"dataframe\">\n",
              "  <thead>\n",
              "    <tr style=\"text-align: right;\">\n",
              "      <th></th>\n",
              "      <th>province</th>\n",
              "      <th>nb_of_patients</th>\n",
              "      <th>avg_temp</th>\n",
              "      <th>max_wind_speed</th>\n",
              "      <th>avg_relative_humidity</th>\n",
              "      <th>code</th>\n",
              "      <th>city</th>\n",
              "      <th>latitude</th>\n",
              "      <th>longitude</th>\n",
              "      <th>elementary_school_count</th>\n",
              "      <th>kindergarten_count</th>\n",
              "      <th>university_count</th>\n",
              "      <th>academy_ratio</th>\n",
              "      <th>elderly_population_ratio</th>\n",
              "      <th>elderly_alone_ratio</th>\n",
              "      <th>nursing_home_count</th>\n",
              "    </tr>\n",
              "  </thead>\n",
              "  <tbody>\n",
              "    <tr>\n",
              "      <th>0</th>\n",
              "      <td>Busan</td>\n",
              "      <td>101</td>\n",
              "      <td>15.571800</td>\n",
              "      <td>6.330048</td>\n",
              "      <td>63.289665</td>\n",
              "      <td>11000</td>\n",
              "      <td>Busan</td>\n",
              "      <td>35.179884</td>\n",
              "      <td>129.074796</td>\n",
              "      <td>304</td>\n",
              "      <td>408</td>\n",
              "      <td>22</td>\n",
              "      <td>1.40</td>\n",
              "      <td>18.41</td>\n",
              "      <td>8.6</td>\n",
              "      <td>6752</td>\n",
              "    </tr>\n",
              "    <tr>\n",
              "      <th>1</th>\n",
              "      <td>Chungcheongbuk-do</td>\n",
              "      <td>28</td>\n",
              "      <td>12.478904</td>\n",
              "      <td>3.873032</td>\n",
              "      <td>65.641575</td>\n",
              "      <td>40000</td>\n",
              "      <td>Chungcheongbuk-do</td>\n",
              "      <td>36.635680</td>\n",
              "      <td>127.491384</td>\n",
              "      <td>259</td>\n",
              "      <td>328</td>\n",
              "      <td>17</td>\n",
              "      <td>1.39</td>\n",
              "      <td>17.28</td>\n",
              "      <td>8.5</td>\n",
              "      <td>2769</td>\n",
              "    </tr>\n",
              "    <tr>\n",
              "      <th>2</th>\n",
              "      <td>Chungcheongnam-do</td>\n",
              "      <td>118</td>\n",
              "      <td>12.681680</td>\n",
              "      <td>4.737971</td>\n",
              "      <td>75.756749</td>\n",
              "      <td>41000</td>\n",
              "      <td>Chungcheongnam-do</td>\n",
              "      <td>36.658976</td>\n",
              "      <td>126.673318</td>\n",
              "      <td>409</td>\n",
              "      <td>499</td>\n",
              "      <td>21</td>\n",
              "      <td>1.38</td>\n",
              "      <td>18.40</td>\n",
              "      <td>8.9</td>\n",
              "      <td>3641</td>\n",
              "    </tr>\n",
              "    <tr>\n",
              "      <th>3</th>\n",
              "      <td>Daegu</td>\n",
              "      <td>63</td>\n",
              "      <td>14.655685</td>\n",
              "      <td>4.951677</td>\n",
              "      <td>60.638398</td>\n",
              "      <td>12000</td>\n",
              "      <td>Daegu</td>\n",
              "      <td>35.872150</td>\n",
              "      <td>128.601783</td>\n",
              "      <td>229</td>\n",
              "      <td>355</td>\n",
              "      <td>11</td>\n",
              "      <td>1.62</td>\n",
              "      <td>15.78</td>\n",
              "      <td>7.5</td>\n",
              "      <td>5083</td>\n",
              "    </tr>\n",
              "    <tr>\n",
              "      <th>4</th>\n",
              "      <td>Daejeon</td>\n",
              "      <td>22</td>\n",
              "      <td>13.928884</td>\n",
              "      <td>3.861259</td>\n",
              "      <td>68.958932</td>\n",
              "      <td>15000</td>\n",
              "      <td>Daejeon</td>\n",
              "      <td>36.350621</td>\n",
              "      <td>127.384744</td>\n",
              "      <td>148</td>\n",
              "      <td>260</td>\n",
              "      <td>15</td>\n",
              "      <td>1.49</td>\n",
              "      <td>13.65</td>\n",
              "      <td>5.8</td>\n",
              "      <td>2984</td>\n",
              "    </tr>\n",
              "    <tr>\n",
              "      <th>5</th>\n",
              "      <td>Gangwon-do</td>\n",
              "      <td>29</td>\n",
              "      <td>14.251061</td>\n",
              "      <td>5.011157</td>\n",
              "      <td>55.924435</td>\n",
              "      <td>30000</td>\n",
              "      <td>Gangwon-do</td>\n",
              "      <td>37.885369</td>\n",
              "      <td>127.729868</td>\n",
              "      <td>349</td>\n",
              "      <td>368</td>\n",
              "      <td>18</td>\n",
              "      <td>1.42</td>\n",
              "      <td>19.89</td>\n",
              "      <td>9.8</td>\n",
              "      <td>2519</td>\n",
              "    </tr>\n",
              "    <tr>\n",
              "      <th>6</th>\n",
              "      <td>Gwangju</td>\n",
              "      <td>19</td>\n",
              "      <td>14.899316</td>\n",
              "      <td>4.102806</td>\n",
              "      <td>70.166530</td>\n",
              "      <td>13000</td>\n",
              "      <td>Gwangju</td>\n",
              "      <td>35.160467</td>\n",
              "      <td>126.851392</td>\n",
              "      <td>155</td>\n",
              "      <td>312</td>\n",
              "      <td>17</td>\n",
              "      <td>2.38</td>\n",
              "      <td>13.57</td>\n",
              "      <td>6.4</td>\n",
              "      <td>2852</td>\n",
              "    </tr>\n",
              "    <tr>\n",
              "      <th>7</th>\n",
              "      <td>Gyeonggi-do</td>\n",
              "      <td>300</td>\n",
              "      <td>13.189733</td>\n",
              "      <td>4.434771</td>\n",
              "      <td>69.031280</td>\n",
              "      <td>20000</td>\n",
              "      <td>Gyeonggi-do</td>\n",
              "      <td>37.275119</td>\n",
              "      <td>127.009466</td>\n",
              "      <td>1277</td>\n",
              "      <td>2237</td>\n",
              "      <td>61</td>\n",
              "      <td>1.60</td>\n",
              "      <td>12.63</td>\n",
              "      <td>5.2</td>\n",
              "      <td>20491</td>\n",
              "    </tr>\n",
              "    <tr>\n",
              "      <th>8</th>\n",
              "      <td>Gyeongsangbuk-do</td>\n",
              "      <td>1054</td>\n",
              "      <td>13.940316</td>\n",
              "      <td>6.049418</td>\n",
              "      <td>63.094693</td>\n",
              "      <td>60000</td>\n",
              "      <td>Gyeongsangbuk-do</td>\n",
              "      <td>36.576032</td>\n",
              "      <td>128.505599</td>\n",
              "      <td>471</td>\n",
              "      <td>707</td>\n",
              "      <td>33</td>\n",
              "      <td>1.33</td>\n",
              "      <td>20.85</td>\n",
              "      <td>11.1</td>\n",
              "      <td>4474</td>\n",
              "    </tr>\n",
              "    <tr>\n",
              "      <th>9</th>\n",
              "      <td>Gyeongsangnam-do</td>\n",
              "      <td>85</td>\n",
              "      <td>14.793908</td>\n",
              "      <td>4.468446</td>\n",
              "      <td>65.258658</td>\n",
              "      <td>61000</td>\n",
              "      <td>Gyeongsangnam-do</td>\n",
              "      <td>35.238294</td>\n",
              "      <td>128.692397</td>\n",
              "      <td>501</td>\n",
              "      <td>686</td>\n",
              "      <td>21</td>\n",
              "      <td>1.78</td>\n",
              "      <td>16.51</td>\n",
              "      <td>9.1</td>\n",
              "      <td>5364</td>\n",
              "    </tr>\n",
              "    <tr>\n",
              "      <th>10</th>\n",
              "      <td>Incheon</td>\n",
              "      <td>39</td>\n",
              "      <td>13.057906</td>\n",
              "      <td>5.718288</td>\n",
              "      <td>67.740246</td>\n",
              "      <td>14000</td>\n",
              "      <td>Incheon</td>\n",
              "      <td>37.456188</td>\n",
              "      <td>126.705920</td>\n",
              "      <td>250</td>\n",
              "      <td>403</td>\n",
              "      <td>7</td>\n",
              "      <td>1.27</td>\n",
              "      <td>13.20</td>\n",
              "      <td>5.8</td>\n",
              "      <td>4497</td>\n",
              "    </tr>\n",
              "    <tr>\n",
              "      <th>11</th>\n",
              "      <td>Jeju-do</td>\n",
              "      <td>4</td>\n",
              "      <td>16.948734</td>\n",
              "      <td>6.165503</td>\n",
              "      <td>70.145243</td>\n",
              "      <td>70000</td>\n",
              "      <td>Jeju-do</td>\n",
              "      <td>33.488936</td>\n",
              "      <td>126.500423</td>\n",
              "      <td>113</td>\n",
              "      <td>123</td>\n",
              "      <td>4</td>\n",
              "      <td>1.53</td>\n",
              "      <td>15.10</td>\n",
              "      <td>6.4</td>\n",
              "      <td>1245</td>\n",
              "    </tr>\n",
              "    <tr>\n",
              "      <th>12</th>\n",
              "      <td>Jeollabuk-do</td>\n",
              "      <td>7</td>\n",
              "      <td>14.185421</td>\n",
              "      <td>4.263723</td>\n",
              "      <td>72.540589</td>\n",
              "      <td>50000</td>\n",
              "      <td>Jeollabuk-do</td>\n",
              "      <td>35.820308</td>\n",
              "      <td>127.108791</td>\n",
              "      <td>419</td>\n",
              "      <td>519</td>\n",
              "      <td>19</td>\n",
              "      <td>2.12</td>\n",
              "      <td>20.60</td>\n",
              "      <td>10.9</td>\n",
              "      <td>3774</td>\n",
              "    </tr>\n",
              "    <tr>\n",
              "      <th>13</th>\n",
              "      <td>Jeollanam-do</td>\n",
              "      <td>4</td>\n",
              "      <td>15.307461</td>\n",
              "      <td>7.905426</td>\n",
              "      <td>65.933425</td>\n",
              "      <td>51000</td>\n",
              "      <td>Jeollanam-do</td>\n",
              "      <td>34.816095</td>\n",
              "      <td>126.463021</td>\n",
              "      <td>429</td>\n",
              "      <td>542</td>\n",
              "      <td>19</td>\n",
              "      <td>1.45</td>\n",
              "      <td>22.81</td>\n",
              "      <td>13.5</td>\n",
              "      <td>3389</td>\n",
              "    </tr>\n",
              "    <tr>\n",
              "      <th>14</th>\n",
              "      <td>Seoul</td>\n",
              "      <td>299</td>\n",
              "      <td>13.471595</td>\n",
              "      <td>4.442563</td>\n",
              "      <td>57.932033</td>\n",
              "      <td>10000</td>\n",
              "      <td>Seoul</td>\n",
              "      <td>37.566953</td>\n",
              "      <td>126.977977</td>\n",
              "      <td>607</td>\n",
              "      <td>830</td>\n",
              "      <td>48</td>\n",
              "      <td>1.44</td>\n",
              "      <td>15.38</td>\n",
              "      <td>5.8</td>\n",
              "      <td>22739</td>\n",
              "    </tr>\n",
              "    <tr>\n",
              "      <th>15</th>\n",
              "      <td>Ulsan</td>\n",
              "      <td>30</td>\n",
              "      <td>14.799726</td>\n",
              "      <td>4.666393</td>\n",
              "      <td>67.014168</td>\n",
              "      <td>16000</td>\n",
              "      <td>Ulsan</td>\n",
              "      <td>35.539797</td>\n",
              "      <td>129.311538</td>\n",
              "      <td>119</td>\n",
              "      <td>200</td>\n",
              "      <td>4</td>\n",
              "      <td>2.21</td>\n",
              "      <td>11.76</td>\n",
              "      <td>5.2</td>\n",
              "      <td>1801</td>\n",
              "    </tr>\n",
              "  </tbody>\n",
              "</table>\n",
              "</div>"
            ],
            "text/plain": [
              "             province  nb_of_patients  ...  elderly_alone_ratio  nursing_home_count\n",
              "0               Busan             101  ...                  8.6                6752\n",
              "1   Chungcheongbuk-do              28  ...                  8.5                2769\n",
              "2   Chungcheongnam-do             118  ...                  8.9                3641\n",
              "3               Daegu              63  ...                  7.5                5083\n",
              "4             Daejeon              22  ...                  5.8                2984\n",
              "5          Gangwon-do              29  ...                  9.8                2519\n",
              "6             Gwangju              19  ...                  6.4                2852\n",
              "7         Gyeonggi-do             300  ...                  5.2               20491\n",
              "8    Gyeongsangbuk-do            1054  ...                 11.1                4474\n",
              "9    Gyeongsangnam-do              85  ...                  9.1                5364\n",
              "10            Incheon              39  ...                  5.8                4497\n",
              "11            Jeju-do               4  ...                  6.4                1245\n",
              "12       Jeollabuk-do               7  ...                 10.9                3774\n",
              "13       Jeollanam-do               4  ...                 13.5                3389\n",
              "14              Seoul             299  ...                  5.8               22739\n",
              "15              Ulsan              30  ...                  5.2                1801\n",
              "\n",
              "[16 rows x 16 columns]"
            ]
          },
          "metadata": {
            "tags": []
          },
          "execution_count": 25
        }
      ]
    },
    {
      "cell_type": "markdown",
      "metadata": {
        "id": "9AAdAPJ3Pdh7",
        "colab_type": "text"
      },
      "source": [
        "### What is the structure of your dataset?\n",
        "\n",
        "#### Epidemiological data of COVID-19 patients in South Korea\n",
        "* patient_id: the ID of the patient\n",
        "* patient_id(10) = region_code(5) + patient_number(5)\n",
        "You can check the region_code in 'Region.csv'\n",
        "There are two types of the patient_number\n",
        "1) local_num: The number given by the local government.\n",
        "2) global_num: The number given by the KCDC\n",
        "global_num: the number given by KCDC\n",
        "There are some patients having no global_num.\n",
        "The paitents in Busan doesn't have the global_num.\n",
        "* sex: the sex of the patient\n",
        "* birth_year: the birth year of the patient\n",
        "* age: the age of the patient\n",
        "0s: 0 ~ 9\n",
        "10s: 10 ~ 19\n",
        "...\n",
        "90s: 90 ~ 99\n",
        "100s: 100 ~ 109\n",
        "* country: the country of the patient\n",
        "* province: the province of the patient\n",
        "* city: the city of the patient\n",
        "* disease: TRUE: underlying disease / FALSE: no disease\n",
        "* infection_case: the case of infection\n",
        "* infection_order: the order of infection\n",
        "infected_by: the ID of who infected the patient\n",
        "This column refers to the 'patient_id' column.\n",
        "* contact_number: the number of contacts with people\n",
        "* symptom_onset_date: the date of symptom onset\n",
        "* confirmed_date: the date of being confirmed\n",
        "* released_date: the date of being released\n",
        "* deceased_date: the date of being deceased\n",
        "* state: isolated / released / deceased\n",
        "isolated: being isolated in the hospital\n",
        "released: being released from the hospital\n",
        "deceased: being deceased\n",
        "\n",
        "### What is/are the main feature(s) of interest in your dataset?\n",
        "\n",
        "* I am interesting in visualizing what factors could be affecting the mortality rate in patients with corona virus\n",
        "\n",
        "### What features in the dataset do you think will help support your investigation into your feature(s) of interest?\n",
        "The columns in the dataset that can help me in investigating my main interest\n",
        "* Sex\n",
        "* Age group\n",
        "* state\n",
        "* disease\n"
      ]
    },
    {
      "cell_type": "markdown",
      "metadata": {
        "id": "iF9omROZPdh-",
        "colab_type": "text"
      },
      "source": [
        "## Univariate Exploration\n",
        "\n",
        "> In this section, investigate distributions of individual variables. If\n",
        "you see unusual points or outliers, take a deeper look to clean things up\n",
        "and prepare yourself to look at relationships between variables."
      ]
    },
    {
      "cell_type": "code",
      "metadata": {
        "id": "tX7aeBGbMM_P",
        "colab_type": "code",
        "outputId": "ff759b6a-4824-4fb2-bf90-1f4c8223589a",
        "colab": {
          "base_uri": "https://localhost:8080/",
          "height": 69
        }
      },
      "source": [
        "patient_df.head(0)"
      ],
      "execution_count": 26,
      "outputs": [
        {
          "output_type": "execute_result",
          "data": {
            "text/html": [
              "<div>\n",
              "<style scoped>\n",
              "    .dataframe tbody tr th:only-of-type {\n",
              "        vertical-align: middle;\n",
              "    }\n",
              "\n",
              "    .dataframe tbody tr th {\n",
              "        vertical-align: top;\n",
              "    }\n",
              "\n",
              "    .dataframe thead th {\n",
              "        text-align: right;\n",
              "    }\n",
              "</style>\n",
              "<table border=\"1\" class=\"dataframe\">\n",
              "  <thead>\n",
              "    <tr style=\"text-align: right;\">\n",
              "      <th></th>\n",
              "      <th>patient_id</th>\n",
              "      <th>global_num</th>\n",
              "      <th>sex</th>\n",
              "      <th>birth_year</th>\n",
              "      <th>age</th>\n",
              "      <th>country</th>\n",
              "      <th>province</th>\n",
              "      <th>city</th>\n",
              "      <th>disease</th>\n",
              "      <th>infection_case</th>\n",
              "      <th>infection_order</th>\n",
              "      <th>infected_by</th>\n",
              "      <th>contact_number</th>\n",
              "      <th>symptom_onset_date</th>\n",
              "      <th>confirmed_date</th>\n",
              "      <th>released_date</th>\n",
              "      <th>deceased_date</th>\n",
              "      <th>state</th>\n",
              "    </tr>\n",
              "  </thead>\n",
              "  <tbody>\n",
              "  </tbody>\n",
              "</table>\n",
              "</div>"
            ],
            "text/plain": [
              "Empty DataFrame\n",
              "Columns: [patient_id, global_num, sex, birth_year, age, country, province, city, disease, infection_case, infection_order, infected_by, contact_number, symptom_onset_date, confirmed_date, released_date, deceased_date, state]\n",
              "Index: []"
            ]
          },
          "metadata": {
            "tags": []
          },
          "execution_count": 26
        }
      ]
    },
    {
      "cell_type": "code",
      "metadata": {
        "id": "51zAjCrVMSwY",
        "colab_type": "code",
        "outputId": "14dfb883-9c01-4641-c727-7bcb8a9b0bad",
        "colab": {
          "base_uri": "https://localhost:8080/",
          "height": 340
        }
      },
      "source": [
        "patient_df.dtypes"
      ],
      "execution_count": 27,
      "outputs": [
        {
          "output_type": "execute_result",
          "data": {
            "text/plain": [
              "patient_id              int64\n",
              "global_num            float64\n",
              "sex                    object\n",
              "birth_year            float64\n",
              "age                    object\n",
              "country                object\n",
              "province               object\n",
              "city                   object\n",
              "disease                object\n",
              "infection_case         object\n",
              "infection_order       float64\n",
              "infected_by           float64\n",
              "contact_number        float64\n",
              "symptom_onset_date     object\n",
              "confirmed_date         object\n",
              "released_date          object\n",
              "deceased_date          object\n",
              "state                  object\n",
              "dtype: object"
            ]
          },
          "metadata": {
            "tags": []
          },
          "execution_count": 27
        }
      ]
    },
    {
      "cell_type": "code",
      "metadata": {
        "id": "epwN0MVYMopr",
        "colab_type": "code",
        "outputId": "df0cf755-da8a-46d8-a1e1-8f2b8787f4e8",
        "colab": {
          "base_uri": "https://localhost:8080/",
          "height": 297
        }
      },
      "source": [
        "patient_df.describe()"
      ],
      "execution_count": 28,
      "outputs": [
        {
          "output_type": "execute_result",
          "data": {
            "text/html": [
              "<div>\n",
              "<style scoped>\n",
              "    .dataframe tbody tr th:only-of-type {\n",
              "        vertical-align: middle;\n",
              "    }\n",
              "\n",
              "    .dataframe tbody tr th {\n",
              "        vertical-align: top;\n",
              "    }\n",
              "\n",
              "    .dataframe thead th {\n",
              "        text-align: right;\n",
              "    }\n",
              "</style>\n",
              "<table border=\"1\" class=\"dataframe\">\n",
              "  <thead>\n",
              "    <tr style=\"text-align: right;\">\n",
              "      <th></th>\n",
              "      <th>patient_id</th>\n",
              "      <th>global_num</th>\n",
              "      <th>birth_year</th>\n",
              "      <th>infection_order</th>\n",
              "      <th>infected_by</th>\n",
              "      <th>contact_number</th>\n",
              "    </tr>\n",
              "  </thead>\n",
              "  <tbody>\n",
              "    <tr>\n",
              "      <th>count</th>\n",
              "      <td>2.243000e+03</td>\n",
              "      <td>1337.000000</td>\n",
              "      <td>1789.000000</td>\n",
              "      <td>42.000000</td>\n",
              "      <td>4.750000e+02</td>\n",
              "      <td>413.000000</td>\n",
              "    </tr>\n",
              "    <tr>\n",
              "      <th>mean</th>\n",
              "      <td>3.982459e+09</td>\n",
              "      <td>4695.880329</td>\n",
              "      <td>1974.958636</td>\n",
              "      <td>2.285714</td>\n",
              "      <td>2.582253e+09</td>\n",
              "      <td>24.019370</td>\n",
              "    </tr>\n",
              "    <tr>\n",
              "      <th>std</th>\n",
              "      <td>2.201274e+09</td>\n",
              "      <td>2897.824187</td>\n",
              "      <td>19.394569</td>\n",
              "      <td>1.254955</td>\n",
              "      <td>1.569408e+09</td>\n",
              "      <td>90.881148</td>\n",
              "    </tr>\n",
              "    <tr>\n",
              "      <th>min</th>\n",
              "      <td>1.000000e+09</td>\n",
              "      <td>1.000000</td>\n",
              "      <td>1916.000000</td>\n",
              "      <td>1.000000</td>\n",
              "      <td>1.000000e+09</td>\n",
              "      <td>0.000000</td>\n",
              "    </tr>\n",
              "    <tr>\n",
              "      <th>25%</th>\n",
              "      <td>1.600000e+09</td>\n",
              "      <td>1907.000000</td>\n",
              "      <td>1962.000000</td>\n",
              "      <td>1.250000</td>\n",
              "      <td>1.200000e+09</td>\n",
              "      <td>2.000000</td>\n",
              "    </tr>\n",
              "    <tr>\n",
              "      <th>50%</th>\n",
              "      <td>6.001000e+09</td>\n",
              "      <td>5233.000000</td>\n",
              "      <td>1974.000000</td>\n",
              "      <td>2.000000</td>\n",
              "      <td>2.000000e+09</td>\n",
              "      <td>5.000000</td>\n",
              "    </tr>\n",
              "    <tr>\n",
              "      <th>75%</th>\n",
              "      <td>6.004000e+09</td>\n",
              "      <td>7520.000000</td>\n",
              "      <td>1993.000000</td>\n",
              "      <td>3.000000</td>\n",
              "      <td>4.100000e+09</td>\n",
              "      <td>16.000000</td>\n",
              "    </tr>\n",
              "    <tr>\n",
              "      <th>max</th>\n",
              "      <td>7.000000e+09</td>\n",
              "      <td>8717.000000</td>\n",
              "      <td>2020.000000</td>\n",
              "      <td>6.000000</td>\n",
              "      <td>6.113000e+09</td>\n",
              "      <td>1160.000000</td>\n",
              "    </tr>\n",
              "  </tbody>\n",
              "</table>\n",
              "</div>"
            ],
            "text/plain": [
              "         patient_id   global_num  ...   infected_by  contact_number\n",
              "count  2.243000e+03  1337.000000  ...  4.750000e+02      413.000000\n",
              "mean   3.982459e+09  4695.880329  ...  2.582253e+09       24.019370\n",
              "std    2.201274e+09  2897.824187  ...  1.569408e+09       90.881148\n",
              "min    1.000000e+09     1.000000  ...  1.000000e+09        0.000000\n",
              "25%    1.600000e+09  1907.000000  ...  1.200000e+09        2.000000\n",
              "50%    6.001000e+09  5233.000000  ...  2.000000e+09        5.000000\n",
              "75%    6.004000e+09  7520.000000  ...  4.100000e+09       16.000000\n",
              "max    7.000000e+09  8717.000000  ...  6.113000e+09     1160.000000\n",
              "\n",
              "[8 rows x 6 columns]"
            ]
          },
          "metadata": {
            "tags": []
          },
          "execution_count": 28
        }
      ]
    },
    {
      "cell_type": "markdown",
      "metadata": {
        "id": "NMG5rya_Aoie",
        "colab_type": "text"
      },
      "source": [
        "## Checking the distribuation of patients based on sex"
      ]
    },
    {
      "cell_type": "code",
      "metadata": {
        "id": "G2zJLO-uPdiC",
        "colab_type": "code",
        "outputId": "4ad9371c-3670-45bb-ec90-756945be5b18",
        "colab": {
          "base_uri": "https://localhost:8080/",
          "height": 279
        }
      },
      "source": [
        "# checking the distribuation of patients based on sex\n",
        "base_color = sb.color_palette()[0]\n",
        "sb.countplot(data=patient_df,x='sex',color= base_color)\n",
        "# I will add the relative frequency to get more insights\n",
        "n_points = patient_df.shape[0]\n",
        "sex_counts = patient_df['sex'].value_counts()\n",
        "locs, labels = plt.xticks()\n",
        "for loc, label in zip(locs, labels):\n",
        "    count = sex_counts[label.get_text()]\n",
        "    pct_string = '{:0.1f}%'.format(100*count/n_points)\n",
        "    plt.text(loc, count-100, pct_string, ha='center',color='w')\n"
      ],
      "execution_count": 29,
      "outputs": [
        {
          "output_type": "display_data",
          "data": {
            "image/png": "[encoded data removed]",
            "text/plain": [
              "<Figure size 432x288 with 1 Axes>"
            ]
          },
          "metadata": {
            "tags": []
          }
        }
      ]
    },
    {
      "cell_type": "markdown",
      "metadata": {
        "id": "7NB6LnvDCedK",
        "colab_type": "text"
      },
      "source": [
        "> The number of female infected by the coronavirus is higher than the number of male infected. From the data gathered, 53.9% of patients were females where 41.8% where males"
      ]
    },
    {
      "cell_type": "markdown",
      "metadata": {
        "id": "jRuJFjMeC9VZ",
        "colab_type": "text"
      },
      "source": [
        "## Checking the distribution of patients based on ages"
      ]
    },
    {
      "cell_type": "markdown",
      "metadata": {
        "id": "FyB71SXQDOqL",
        "colab_type": "text"
      },
      "source": [
        "* Ages variable is an ordinal categorical variables so i need to change the type of it to categorical"
      ]
    },
    {
      "cell_type": "code",
      "metadata": {
        "id": "cPlWBiIdDaLl",
        "colab_type": "code",
        "colab": {}
      },
      "source": [
        "ages_order = ['0s','10s','20s','30s','40s','50s','60s','70s','80s','90s','100s']\n",
        "ages = pd.api.types.CategoricalDtype(ordered=True, categories = ages_order)\n",
        "patient_df['age']=patient_df['age'].astype(ages)"
      ],
      "execution_count": 0,
      "outputs": []
    },
    {
      "cell_type": "code",
      "metadata": {
        "id": "X2SODpSpOBxS",
        "colab_type": "code",
        "outputId": "69b9e135-313a-479d-dd99-ce75f7b0baa2",
        "colab": {
          "base_uri": "https://localhost:8080/",
          "height": 511
        }
      },
      "source": [
        "plt.figure(figsize=[12,8])\n",
        "sb.countplot(data=patient_df,x='age',color=base_color)\n",
        "n_points=patient_df.shape[0]\n",
        "age_counts = patient_df['age'].value_counts()\n",
        "locs,labels = plt.xticks()\n",
        "for loc, label in zip(locs,labels):\n",
        "    count = age_counts[label.get_text()]\n",
        "    pct_string = '{:0.1f}%'.format(100*count/n_points)\n",
        "    plt.text(loc,count-50,pct_string,ha='center',color='w')"
      ],
      "execution_count": 31,
      "outputs": [
        {
          "output_type": "display_data",
          "data": {
            "image/png": "[encoded data removed]",
            "text/plain": [
              "<Figure size 864x576 with 1 Axes>"
            ]
          },
          "metadata": {
            "tags": []
          }
        }
      ]
    },
    {
      "cell_type": "markdown",
      "metadata": {
        "id": "rqCXlB9qFsUJ",
        "colab_type": "text"
      },
      "source": [
        "**This quiet interesting, because the media was propaganding that youth are almost protected from infection but the data of South Korea is showing other wise. The higher patient age ratio infected were the 20s with 21% of the whole patients, the second age range is the 50s with 17.6%. The myth that kids are among the least infected is still valid here with only 3.4% of the patients**"
      ]
    },
    {
      "cell_type": "code",
      "metadata": {
        "id": "IqXaiNuEOymM",
        "colab_type": "code",
        "colab": {}
      },
      "source": [
        "patient_df_deceased=patient_df[patient_df['state']=='deceased']"
      ],
      "execution_count": 0,
      "outputs": []
    },
    {
      "cell_type": "code",
      "metadata": {
        "id": "DGy1yHWiOVHe",
        "colab_type": "code",
        "outputId": "1ee3b73a-5b62-40c7-a5a7-9e5ff348ade1",
        "colab": {
          "base_uri": "https://localhost:8080/",
          "height": 571
        }
      },
      "source": [
        "plt.figure(figsize=[12,8])\n",
        "sb.countplot(data=patient_df_deceased,x='age',color=base_color)\n",
        "n_points = patient_df_deceased.shape[0]\n",
        "age_counts = patient_df_deceased['age'].value_counts()\n",
        "locs, labels = plt.xticks()\n",
        "for loc, label in zip(locs, labels):\n",
        "    count = age_counts[label.get_text()]\n",
        "    pct_string = '{:0.1f}%'.format(100*count/n_points) \n",
        "    plt.text(loc,count-2,pct_string,ha='center',color='w')"
      ],
      "execution_count": 33,
      "outputs": [
        {
          "output_type": "display_data",
          "data": {
            "image/png": "[encoded data removed]",
            "text/plain": [
              "<Figure size 864x576 with 1 Axes>"
            ]
          },
          "metadata": {
            "tags": []
          }
        }
      ]
    },
    {
      "cell_type": "markdown",
      "metadata": {
        "id": "96dLX1x8JAlA",
        "colab_type": "text"
      },
      "source": [
        "**This plot implies that also the age range 20s where infected the highest but the mortality rate is 0%. More than 60% of deceased patients where older than their 40s**"
      ]
    },
    {
      "cell_type": "markdown",
      "metadata": {
        "id": "Z_umWGDvPRfw",
        "colab_type": "text"
      },
      "source": [
        "## Checking the distribution of number of people contacted"
      ]
    },
    {
      "cell_type": "code",
      "metadata": {
        "id": "-0X2sbhQQtw0",
        "colab_type": "code",
        "outputId": "f7d145ae-371e-4afb-d549-56d66df4786e",
        "colab": {
          "base_uri": "https://localhost:8080/",
          "height": 299
        }
      },
      "source": [
        "bin_edges = 10**np.arange(0.8,np.log10(patient_df['contact_number'].max())+0.1,0.1)\n",
        "plt.hist(data= patient_df, x='contact_number',bins=bin_edges)\n",
        "plt.xscale('log')\n",
        "tick_locs = [1,2,5,10,20,50,100,200,500,1000,2000,5000]\n",
        "plt.xticks(tick_locs,tick_locs);\n",
        "plt.xlim(4,2000)\n",
        "plt.xlabel('number of people contacted')\n",
        "plt.ylabel('frequency')"
      ],
      "execution_count": 34,
      "outputs": [
        {
          "output_type": "execute_result",
          "data": {
            "text/plain": [
              "Text(0, 0.5, 'frequency')"
            ]
          },
          "metadata": {
            "tags": []
          },
          "execution_count": 34
        },
        {
          "output_type": "display_data",
          "data": {
            "image/png": "[encoded data removed]",
            "text/plain": [
              "<Figure size 432x288 with 1 Axes>"
            ]
          },
          "metadata": {
            "tags": []
          }
        }
      ]
    },
    {
      "cell_type": "markdown",
      "metadata": {
        "id": "qHip5XkV8fYc",
        "colab_type": "text"
      },
      "source": [
        "**The majority of patients contacted between 10 and 25 persons before being diagnosed with the coronavirus, and that probably explains why it is has a wide spread and transmission, specially the virus has an incubation period of 14 days.**"
      ]
    },
    {
      "cell_type": "markdown",
      "metadata": {
        "id": "4-Nh215u957y",
        "colab_type": "text"
      },
      "source": [
        "## Checking the distribuation of patients across different provinces of South Korea"
      ]
    },
    {
      "cell_type": "code",
      "metadata": {
        "id": "XhE5swGT-FOr",
        "colab_type": "code",
        "outputId": "166f8398-289b-4b76-ea74-ab3061464b5e",
        "colab": {
          "base_uri": "https://localhost:8080/",
          "height": 594
        }
      },
      "source": [
        "plt.figure(figsize=[15,8])\n",
        "sb.countplot(data = patient_df, x = 'province',color=base_color)\n",
        "n_points= patient_df.shape[0]\n",
        "province_counts = patient_df['province'].value_counts()\n",
        "locs,labels = plt.xticks()\n",
        "for loc, label in zip(locs,labels):\n",
        "    count = province_counts[label.get_text()]\n",
        "    pct_string = '{:0.1f}%'.format(count*100/n_points)\n",
        "    plt.text(loc, count-25,pct_string,ha='center',color='w');\n",
        "plt.xticks(rotation=90);"
      ],
      "execution_count": 35,
      "outputs": [
        {
          "output_type": "display_data",
          "data": {
            "image/png": "[encoded data removed]",
            "text/plain": [
              "<Figure size 1080x576 with 1 Axes>"
            ]
          },
          "metadata": {
            "tags": []
          }
        }
      ]
    },
    {
      "cell_type": "markdown",
      "metadata": {
        "id": "UQi7tG9zFGnm",
        "colab_type": "text"
      },
      "source": [
        "The province with the highest number of infections is Gyeonigsangbuk-do with more than 1000 cases which represent about 47% of cases in South Korea"
      ]
    },
    {
      "cell_type": "markdown",
      "metadata": {
        "id": "KHjn9hkhPdi5",
        "colab_type": "text"
      },
      "source": [
        "### Talk about some of the relationships you observed in this part of the investigation. How did the feature(s) of interest vary with other features in the dataset?\n",
        "\n",
        "> Your answer here!\n",
        "\n",
        "### Did you observe any interesting relationships between the other features (not the main feature(s) of interest)?\n",
        "\n",
        "> Your answer here!"
      ]
    },
    {
      "cell_type": "markdown",
      "metadata": {
        "id": "TQ8-BldXPdig",
        "colab_type": "text"
      },
      "source": [
        "## Bivariate Exploration\n",
        "\n",
        "> In this section, investigate relationships between pairs of variables in your\n",
        "data. Make sure the variables that you cover here have been introduced in some\n",
        "fashion in the previous section (univariate exploration)."
      ]
    },
    {
      "cell_type": "markdown",
      "metadata": {
        "id": "xU8UQEClRoAx",
        "colab_type": "text"
      },
      "source": [
        "### Investigating the age variable as a categorical variable under the sex variable"
      ]
    },
    {
      "cell_type": "code",
      "metadata": {
        "id": "r0jI51l5RFmo",
        "colab_type": "code",
        "outputId": "8aa789be-906d-4f71-85ee-2b6d143f9f9b",
        "colab": {
          "base_uri": "https://localhost:8080/",
          "height": 514
        }
      },
      "source": [
        "plt.figure(figsize=[15,8])\n",
        "sb.countplot(data= patient_df, x='sex',hue='age',hue_order=['0s','10s','20s','30s','40s','50s','60s','70s','80s','90s','100s'])"
      ],
      "execution_count": 36,
      "outputs": [
        {
          "output_type": "execute_result",
          "data": {
            "text/plain": [
              "<matplotlib.axes._subplots.AxesSubplot at 0x7ff172b7e630>"
            ]
          },
          "metadata": {
            "tags": []
          },
          "execution_count": 36
        },
        {
          "output_type": "display_data",
          "data": {
            "image/png": "[encoded data removed]",
            "text/plain": [
              "<Figure size 1080x576 with 1 Axes>"
            ]
          },
          "metadata": {
            "tags": []
          }
        }
      ]
    },
    {
      "cell_type": "code",
      "metadata": {
        "id": "6OIBoAd_vza3",
        "colab_type": "code",
        "outputId": "a65f6a3e-e101-480a-c8c9-1a01ecc63f44",
        "colab": {
          "base_uri": "https://localhost:8080/",
          "height": 497
        }
      },
      "source": [
        "plt.figure(figsize=[12,8])\n",
        "sex_age_counts = patient_df.groupby(['sex','age']).size()\n",
        "sex_age_counts = sex_age_counts.reset_index(name='count')\n",
        "sex_age_counts = sex_age_counts.pivot(index='age',columns='sex',values='count')\n",
        "sb.heatmap(sex_age_counts,annot=True,fmt='0.0f',cmap='viridis_r');"
      ],
      "execution_count": 37,
      "outputs": [
        {
          "output_type": "display_data",
          "data": {
            "image/png": "[encoded data removed]",
            "text/plain": [
              "<Figure size 864x576 with 2 Axes>"
            ]
          },
          "metadata": {
            "tags": []
          }
        }
      ]
    },
    {
      "cell_type": "markdown",
      "metadata": {
        "id": "oXyy0T0JR3kj",
        "colab_type": "text"
      },
      "source": [
        "from inspecting sex and age variables by clustered barchart and heatmapping, the people in their 20s are still the highest in getting infectied by the coronavirus wether female or male, and after them are people in their 50s as as noted before in the univariate exploaration of sex, female are more suceptible to get infected in almost every age ranges except in young patients below 20s where more male patients than female patients. "
      ]
    },
    {
      "cell_type": "code",
      "metadata": {
        "id": "45WFfvXHS94M",
        "colab_type": "code",
        "outputId": "c0f96a6a-cc98-4388-dfa0-5b2b94837927",
        "colab": {
          "base_uri": "https://localhost:8080/",
          "height": 514
        }
      },
      "source": [
        "plt.figure(figsize=[15,8])\n",
        "sb.countplot(data= patient_df, x='state',hue='age',hue_order=['0s','10s','20s','30s','40s','50s','60s','70s','80s','90s','100s'])"
      ],
      "execution_count": 38,
      "outputs": [
        {
          "output_type": "execute_result",
          "data": {
            "text/plain": [
              "<matplotlib.axes._subplots.AxesSubplot at 0x7ff1730e62b0>"
            ]
          },
          "metadata": {
            "tags": []
          },
          "execution_count": 38
        },
        {
          "output_type": "display_data",
          "data": {
            "image/png": "[encoded data removed]",
            "text/plain": [
              "<Figure size 1080x576 with 1 Axes>"
            ]
          },
          "metadata": {
            "tags": []
          }
        }
      ]
    },
    {
      "cell_type": "code",
      "metadata": {
        "id": "d2oXdey-rGQP",
        "colab_type": "code",
        "outputId": "79484b30-e0da-441f-bd9e-65dae68e9f7f",
        "colab": {
          "base_uri": "https://localhost:8080/",
          "height": 514
        }
      },
      "source": [
        "plt.figure(figsize=[12,8])\n",
        "ct_counts = patient_df.groupby(['state','age']).size()\n",
        "ct_counts = ct_counts.reset_index(name='count')\n",
        "ct_counts = ct_counts.pivot(index = 'age', columns = 'state', values='count')\n",
        "sb.heatmap(ct_counts, annot=True, fmt ='0.0f',cmap='viridis_r')"
      ],
      "execution_count": 39,
      "outputs": [
        {
          "output_type": "execute_result",
          "data": {
            "text/plain": [
              "<matplotlib.axes._subplots.AxesSubplot at 0x7ff16ff2ab00>"
            ]
          },
          "metadata": {
            "tags": []
          },
          "execution_count": 39
        },
        {
          "output_type": "display_data",
          "data": {
            "image/png": "[encoded data removed]",
            "text/plain": [
              "<Figure size 864x576 with 2 Axes>"
            ]
          },
          "metadata": {
            "tags": []
          }
        }
      ]
    },
    {
      "cell_type": "markdown",
      "metadata": {
        "id": "EjnzoXauS-Fv",
        "colab_type": "text"
      },
      "source": [
        "By visual inspecting both the state variable and the age range variable through clustered bar chart and heat mapping, it appears that although the people in their 20s were the  highest in getting infected but it appears here that they recorded zero deathes and patinets under 30s in general did not record any death in this dataset, and all the deathes occured for people above 30s with the majority hapening for patients between 50s till 80s. "
      ]
    },
    {
      "cell_type": "markdown",
      "metadata": {
        "id": "5DX6aeNXiFJg",
        "colab_type": "text"
      },
      "source": [
        "### Inspecting the state variable with sex variable "
      ]
    },
    {
      "cell_type": "code",
      "metadata": {
        "id": "Cja6DiEzTI-c",
        "colab_type": "code",
        "outputId": "6d6c510a-aaa8-4f95-9b11-be780bafbba7",
        "colab": {
          "base_uri": "https://localhost:8080/",
          "height": 497
        }
      },
      "source": [
        "plt.figure(figsize=[15,8])\n",
        "sb.countplot(data= patient_df, x='sex',hue='state');"
      ],
      "execution_count": 40,
      "outputs": [
        {
          "output_type": "display_data",
          "data": {
            "image/png": "[encoded data removed]",
            "text/plain": [
              "<Figure size 1080x576 with 1 Axes>"
            ]
          },
          "metadata": {
            "tags": []
          }
        }
      ]
    },
    {
      "cell_type": "code",
      "metadata": {
        "id": "oc18GNibixSJ",
        "colab_type": "code",
        "outputId": "ddfd05c5-dbb9-4734-d9b0-086d9444ff13",
        "colab": {
          "base_uri": "https://localhost:8080/",
          "height": 153
        }
      },
      "source": [
        "patient_df.groupby(['sex','state']).size()"
      ],
      "execution_count": 41,
      "outputs": [
        {
          "output_type": "execute_result",
          "data": {
            "text/plain": [
              "sex     state   \n",
              "female  deceased      9\n",
              "        isolated    972\n",
              "        released    176\n",
              "male    deceased     22\n",
              "        isolated    736\n",
              "        released    136\n",
              "dtype: int64"
            ]
          },
          "metadata": {
            "tags": []
          },
          "execution_count": 41
        }
      ]
    },
    {
      "cell_type": "code",
      "metadata": {
        "id": "7RlyIKbam5U7",
        "colab_type": "code",
        "outputId": "27b5bbb7-30f8-4301-8438-2a4e8e0f2ac1",
        "colab": {
          "base_uri": "https://localhost:8080/",
          "height": 497
        }
      },
      "source": [
        "plt.figure(figsize=[12,8])\n",
        "ct_counts = patient_df.groupby(['sex','state']).size()\n",
        "ct_counts = ct_counts.reset_index(name='count')\n",
        "ct_counts = ct_counts.pivot(index = 'state', columns = 'sex', values='count')\n",
        "sb.heatmap(ct_counts, annot=True, fmt ='d',cmap='viridis_r');"
      ],
      "execution_count": 42,
      "outputs": [
        {
          "output_type": "display_data",
          "data": {
            "image/png": "[encoded data removed]",
            "text/plain": [
              "<Figure size 864x576 with 2 Axes>"
            ]
          },
          "metadata": {
            "tags": []
          }
        }
      ]
    },
    {
      "cell_type": "markdown",
      "metadata": {
        "id": "fJ26llWpiYwj",
        "colab_type": "text"
      },
      "source": [
        "by visual inspecting the two categorical variable sex and state, i notice that although female being more suceptible to get infected but here it appears that the deathes in female is lower than in males and that female are faster to be released and so they are healing faster."
      ]
    },
    {
      "cell_type": "markdown",
      "metadata": {
        "id": "r79p0TeLN5ZK",
        "colab_type": "text"
      },
      "source": [
        "### Inspecting both contact variable and age variable together"
      ]
    },
    {
      "cell_type": "code",
      "metadata": {
        "id": "WZRVc6HnT5Qb",
        "colab_type": "code",
        "outputId": "49a61305-6997-4f2d-936d-173653ca297f",
        "colab": {
          "base_uri": "https://localhost:8080/",
          "height": 890
        }
      },
      "source": [
        "bin_edges = 10**np.arange(0.8,np.log10(patient_df['contact_number'].max())+0.1,0.1)\n",
        "g=sb.FacetGrid(data=patient_df,col='age',col_wrap=3)\n",
        "g.map(plt.hist,'contact_number',bins=bin_edges)\n",
        "g.set_titles('{col_name}')\n",
        "plt.xscale('log')\n",
        "tick_locs = [1,2,5,10,20,50,100,200,500,1000,2000,5000]\n",
        "plt.xticks(tick_locs,tick_locs);\n",
        "plt.xlim(4,2000)\n",
        "plt.xlabel('number of people contacted')\n",
        "plt.ylabel('frequency')"
      ],
      "execution_count": 43,
      "outputs": [
        {
          "output_type": "execute_result",
          "data": {
            "text/plain": [
              "Text(238.11666666666667, 0.5, 'frequency')"
            ]
          },
          "metadata": {
            "tags": []
          },
          "execution_count": 43
        },
        {
          "output_type": "display_data",
          "data": {
            "image/png": "[encoded data removed]",
            "text/plain": [
              "<Figure size 648x864 with 11 Axes>"
            ]
          },
          "metadata": {
            "tags": []
          }
        }
      ]
    },
    {
      "cell_type": "markdown",
      "metadata": {
        "id": "jgPLqcvhOCkC",
        "colab_type": "text"
      },
      "source": [
        "from inspecting the contact number variable with age variable by faceting, it becomes apparant that one possible cause that the 20s has the hishgest infection proportion is that they widest and highest histogram spread which means that the people in their 20s come in contact with many people so they most susceptible to get infected and same wise they are also most risk to spread the virus to many people before manifesting symptoms of virus or being diagnosed positive in the coronavirus test."
      ]
    },
    {
      "cell_type": "markdown",
      "metadata": {
        "id": "KA2QekKXFkxN",
        "colab_type": "text"
      },
      "source": [
        "## Inspecting pairs of numerical variables of (number of patients, average temperature, humidity, wind speed, number of (kinergartens, schools and universities), and elderly ratio across the different provinces in South Korea"
      ]
    },
    {
      "cell_type": "code",
      "metadata": {
        "id": "1Qoi26EYFqgd",
        "colab_type": "code",
        "outputId": "a5010a8b-207f-49c3-cdca-e68364cd544d",
        "colab": {
          "base_uri": "https://localhost:8080/",
          "height": 258
        }
      },
      "source": [
        "df_subset.head()"
      ],
      "execution_count": 44,
      "outputs": [
        {
          "output_type": "execute_result",
          "data": {
            "text/html": [
              "<div>\n",
              "<style scoped>\n",
              "    .dataframe tbody tr th:only-of-type {\n",
              "        vertical-align: middle;\n",
              "    }\n",
              "\n",
              "    .dataframe tbody tr th {\n",
              "        vertical-align: top;\n",
              "    }\n",
              "\n",
              "    .dataframe thead th {\n",
              "        text-align: right;\n",
              "    }\n",
              "</style>\n",
              "<table border=\"1\" class=\"dataframe\">\n",
              "  <thead>\n",
              "    <tr style=\"text-align: right;\">\n",
              "      <th></th>\n",
              "      <th>province</th>\n",
              "      <th>nb_of_patients</th>\n",
              "      <th>avg_temp</th>\n",
              "      <th>max_wind_speed</th>\n",
              "      <th>avg_relative_humidity</th>\n",
              "      <th>code</th>\n",
              "      <th>city</th>\n",
              "      <th>latitude</th>\n",
              "      <th>longitude</th>\n",
              "      <th>elementary_school_count</th>\n",
              "      <th>kindergarten_count</th>\n",
              "      <th>university_count</th>\n",
              "      <th>academy_ratio</th>\n",
              "      <th>elderly_population_ratio</th>\n",
              "      <th>elderly_alone_ratio</th>\n",
              "      <th>nursing_home_count</th>\n",
              "    </tr>\n",
              "  </thead>\n",
              "  <tbody>\n",
              "    <tr>\n",
              "      <th>0</th>\n",
              "      <td>Busan</td>\n",
              "      <td>101</td>\n",
              "      <td>15.571800</td>\n",
              "      <td>6.330048</td>\n",
              "      <td>63.289665</td>\n",
              "      <td>11000</td>\n",
              "      <td>Busan</td>\n",
              "      <td>35.179884</td>\n",
              "      <td>129.074796</td>\n",
              "      <td>304</td>\n",
              "      <td>408</td>\n",
              "      <td>22</td>\n",
              "      <td>1.40</td>\n",
              "      <td>18.41</td>\n",
              "      <td>8.6</td>\n",
              "      <td>6752</td>\n",
              "    </tr>\n",
              "    <tr>\n",
              "      <th>1</th>\n",
              "      <td>Chungcheongbuk-do</td>\n",
              "      <td>28</td>\n",
              "      <td>12.478904</td>\n",
              "      <td>3.873032</td>\n",
              "      <td>65.641575</td>\n",
              "      <td>40000</td>\n",
              "      <td>Chungcheongbuk-do</td>\n",
              "      <td>36.635680</td>\n",
              "      <td>127.491384</td>\n",
              "      <td>259</td>\n",
              "      <td>328</td>\n",
              "      <td>17</td>\n",
              "      <td>1.39</td>\n",
              "      <td>17.28</td>\n",
              "      <td>8.5</td>\n",
              "      <td>2769</td>\n",
              "    </tr>\n",
              "    <tr>\n",
              "      <th>2</th>\n",
              "      <td>Chungcheongnam-do</td>\n",
              "      <td>118</td>\n",
              "      <td>12.681680</td>\n",
              "      <td>4.737971</td>\n",
              "      <td>75.756749</td>\n",
              "      <td>41000</td>\n",
              "      <td>Chungcheongnam-do</td>\n",
              "      <td>36.658976</td>\n",
              "      <td>126.673318</td>\n",
              "      <td>409</td>\n",
              "      <td>499</td>\n",
              "      <td>21</td>\n",
              "      <td>1.38</td>\n",
              "      <td>18.40</td>\n",
              "      <td>8.9</td>\n",
              "      <td>3641</td>\n",
              "    </tr>\n",
              "    <tr>\n",
              "      <th>3</th>\n",
              "      <td>Daegu</td>\n",
              "      <td>63</td>\n",
              "      <td>14.655685</td>\n",
              "      <td>4.951677</td>\n",
              "      <td>60.638398</td>\n",
              "      <td>12000</td>\n",
              "      <td>Daegu</td>\n",
              "      <td>35.872150</td>\n",
              "      <td>128.601783</td>\n",
              "      <td>229</td>\n",
              "      <td>355</td>\n",
              "      <td>11</td>\n",
              "      <td>1.62</td>\n",
              "      <td>15.78</td>\n",
              "      <td>7.5</td>\n",
              "      <td>5083</td>\n",
              "    </tr>\n",
              "    <tr>\n",
              "      <th>4</th>\n",
              "      <td>Daejeon</td>\n",
              "      <td>22</td>\n",
              "      <td>13.928884</td>\n",
              "      <td>3.861259</td>\n",
              "      <td>68.958932</td>\n",
              "      <td>15000</td>\n",
              "      <td>Daejeon</td>\n",
              "      <td>36.350621</td>\n",
              "      <td>127.384744</td>\n",
              "      <td>148</td>\n",
              "      <td>260</td>\n",
              "      <td>15</td>\n",
              "      <td>1.49</td>\n",
              "      <td>13.65</td>\n",
              "      <td>5.8</td>\n",
              "      <td>2984</td>\n",
              "    </tr>\n",
              "  </tbody>\n",
              "</table>\n",
              "</div>"
            ],
            "text/plain": [
              "            province  nb_of_patients  ...  elderly_alone_ratio  nursing_home_count\n",
              "0              Busan             101  ...                  8.6                6752\n",
              "1  Chungcheongbuk-do              28  ...                  8.5                2769\n",
              "2  Chungcheongnam-do             118  ...                  8.9                3641\n",
              "3              Daegu              63  ...                  7.5                5083\n",
              "4            Daejeon              22  ...                  5.8                2984\n",
              "\n",
              "[5 rows x 16 columns]"
            ]
          },
          "metadata": {
            "tags": []
          },
          "execution_count": 44
        }
      ]
    },
    {
      "cell_type": "code",
      "metadata": {
        "id": "Zg_NHz5BF0fX",
        "colab_type": "code",
        "outputId": "da8a2476-c770-4d1a-9de6-db8ce850294b",
        "colab": {
          "base_uri": "https://localhost:8080/",
          "height": 317
        }
      },
      "source": [
        "df_subset.describe()"
      ],
      "execution_count": 45,
      "outputs": [
        {
          "output_type": "execute_result",
          "data": {
            "text/html": [
              "<div>\n",
              "<style scoped>\n",
              "    .dataframe tbody tr th:only-of-type {\n",
              "        vertical-align: middle;\n",
              "    }\n",
              "\n",
              "    .dataframe tbody tr th {\n",
              "        vertical-align: top;\n",
              "    }\n",
              "\n",
              "    .dataframe thead th {\n",
              "        text-align: right;\n",
              "    }\n",
              "</style>\n",
              "<table border=\"1\" class=\"dataframe\">\n",
              "  <thead>\n",
              "    <tr style=\"text-align: right;\">\n",
              "      <th></th>\n",
              "      <th>nb_of_patients</th>\n",
              "      <th>avg_temp</th>\n",
              "      <th>max_wind_speed</th>\n",
              "      <th>avg_relative_humidity</th>\n",
              "      <th>code</th>\n",
              "      <th>latitude</th>\n",
              "      <th>longitude</th>\n",
              "      <th>elementary_school_count</th>\n",
              "      <th>kindergarten_count</th>\n",
              "      <th>university_count</th>\n",
              "      <th>academy_ratio</th>\n",
              "      <th>elderly_population_ratio</th>\n",
              "      <th>elderly_alone_ratio</th>\n",
              "      <th>nursing_home_count</th>\n",
              "    </tr>\n",
              "  </thead>\n",
              "  <tbody>\n",
              "    <tr>\n",
              "      <th>count</th>\n",
              "      <td>16.000000</td>\n",
              "      <td>16.000000</td>\n",
              "      <td>16.000000</td>\n",
              "      <td>16.000000</td>\n",
              "      <td>16.000000</td>\n",
              "      <td>16.000000</td>\n",
              "      <td>16.000000</td>\n",
              "      <td>16.000000</td>\n",
              "      <td>16.000000</td>\n",
              "      <td>16.000000</td>\n",
              "      <td>16.000000</td>\n",
              "      <td>16.000000</td>\n",
              "      <td>16.000000</td>\n",
              "      <td>16.000000</td>\n",
              "    </tr>\n",
              "    <tr>\n",
              "      <th>mean</th>\n",
              "      <td>137.625000</td>\n",
              "      <td>14.260133</td>\n",
              "      <td>5.061405</td>\n",
              "      <td>66.191664</td>\n",
              "      <td>32125.000000</td>\n",
              "      <td>36.095054</td>\n",
              "      <td>127.567651</td>\n",
              "      <td>377.437500</td>\n",
              "      <td>548.562500</td>\n",
              "      <td>21.062500</td>\n",
              "      <td>1.613125</td>\n",
              "      <td>16.613750</td>\n",
              "      <td>8.031250</td>\n",
              "      <td>5898.375000</td>\n",
              "    </tr>\n",
              "    <tr>\n",
              "      <th>std</th>\n",
              "      <td>261.732402</td>\n",
              "      <td>1.162810</td>\n",
              "      <td>1.099540</td>\n",
              "      <td>5.200992</td>\n",
              "      <td>20978.957712</td>\n",
              "      <td>1.178417</td>\n",
              "      <td>0.961835</td>\n",
              "      <td>281.502627</td>\n",
              "      <td>488.459206</td>\n",
              "      <td>15.128202</td>\n",
              "      <td>0.335931</td>\n",
              "      <td>3.301262</td>\n",
              "      <td>2.445327</td>\n",
              "      <td>6301.102124</td>\n",
              "    </tr>\n",
              "    <tr>\n",
              "      <th>min</th>\n",
              "      <td>4.000000</td>\n",
              "      <td>12.478904</td>\n",
              "      <td>3.861259</td>\n",
              "      <td>55.924435</td>\n",
              "      <td>10000.000000</td>\n",
              "      <td>33.488936</td>\n",
              "      <td>126.463021</td>\n",
              "      <td>113.000000</td>\n",
              "      <td>123.000000</td>\n",
              "      <td>4.000000</td>\n",
              "      <td>1.270000</td>\n",
              "      <td>11.760000</td>\n",
              "      <td>5.200000</td>\n",
              "      <td>1245.000000</td>\n",
              "    </tr>\n",
              "    <tr>\n",
              "      <th>25%</th>\n",
              "      <td>21.250000</td>\n",
              "      <td>13.401129</td>\n",
              "      <td>4.392009</td>\n",
              "      <td>63.240922</td>\n",
              "      <td>13750.000000</td>\n",
              "      <td>35.223692</td>\n",
              "      <td>126.815024</td>\n",
              "      <td>210.500000</td>\n",
              "      <td>324.000000</td>\n",
              "      <td>14.000000</td>\n",
              "      <td>1.397500</td>\n",
              "      <td>13.630000</td>\n",
              "      <td>5.800000</td>\n",
              "      <td>2831.250000</td>\n",
              "    </tr>\n",
              "    <tr>\n",
              "      <th>50%</th>\n",
              "      <td>34.500000</td>\n",
              "      <td>14.218241</td>\n",
              "      <td>4.702182</td>\n",
              "      <td>66.473797</td>\n",
              "      <td>25000.000000</td>\n",
              "      <td>36.111385</td>\n",
              "      <td>127.246768</td>\n",
              "      <td>326.500000</td>\n",
              "      <td>405.500000</td>\n",
              "      <td>18.500000</td>\n",
              "      <td>1.470000</td>\n",
              "      <td>16.145000</td>\n",
              "      <td>8.000000</td>\n",
              "      <td>3707.500000</td>\n",
              "    </tr>\n",
              "    <tr>\n",
              "      <th>75%</th>\n",
              "      <td>105.250000</td>\n",
              "      <td>14.824624</td>\n",
              "      <td>5.801070</td>\n",
              "      <td>69.309771</td>\n",
              "      <td>50250.000000</td>\n",
              "      <td>36.813012</td>\n",
              "      <td>128.529645</td>\n",
              "      <td>439.500000</td>\n",
              "      <td>578.000000</td>\n",
              "      <td>21.250000</td>\n",
              "      <td>1.660000</td>\n",
              "      <td>18.780000</td>\n",
              "      <td>9.275000</td>\n",
              "      <td>5153.250000</td>\n",
              "    </tr>\n",
              "    <tr>\n",
              "      <th>max</th>\n",
              "      <td>1054.000000</td>\n",
              "      <td>16.948734</td>\n",
              "      <td>7.905426</td>\n",
              "      <td>75.756749</td>\n",
              "      <td>70000.000000</td>\n",
              "      <td>37.885369</td>\n",
              "      <td>129.311538</td>\n",
              "      <td>1277.000000</td>\n",
              "      <td>2237.000000</td>\n",
              "      <td>61.000000</td>\n",
              "      <td>2.380000</td>\n",
              "      <td>22.810000</td>\n",
              "      <td>13.500000</td>\n",
              "      <td>22739.000000</td>\n",
              "    </tr>\n",
              "  </tbody>\n",
              "</table>\n",
              "</div>"
            ],
            "text/plain": [
              "       nb_of_patients   avg_temp  ...  elderly_alone_ratio  nursing_home_count\n",
              "count       16.000000  16.000000  ...            16.000000           16.000000\n",
              "mean       137.625000  14.260133  ...             8.031250         5898.375000\n",
              "std        261.732402   1.162810  ...             2.445327         6301.102124\n",
              "min          4.000000  12.478904  ...             5.200000         1245.000000\n",
              "25%         21.250000  13.401129  ...             5.800000         2831.250000\n",
              "50%         34.500000  14.218241  ...             8.000000         3707.500000\n",
              "75%        105.250000  14.824624  ...             9.275000         5153.250000\n",
              "max       1054.000000  16.948734  ...            13.500000        22739.000000\n",
              "\n",
              "[8 rows x 14 columns]"
            ]
          },
          "metadata": {
            "tags": []
          },
          "execution_count": 45
        }
      ]
    },
    {
      "cell_type": "code",
      "metadata": {
        "id": "knxoAuFxH15m",
        "colab_type": "code",
        "colab": {
          "base_uri": "https://localhost:8080/",
          "height": 119
        },
        "outputId": "d759493c-83b8-4cf3-c7af-bfbba9cd0fac"
      },
      "source": [
        "df_subset.columns"
      ],
      "execution_count": 46,
      "outputs": [
        {
          "output_type": "execute_result",
          "data": {
            "text/plain": [
              "Index(['province', 'nb_of_patients', 'avg_temp', 'max_wind_speed',\n",
              "       'avg_relative_humidity', 'code', 'city', 'latitude', 'longitude',\n",
              "       'elementary_school_count', 'kindergarten_count', 'university_count',\n",
              "       'academy_ratio', 'elderly_population_ratio', 'elderly_alone_ratio',\n",
              "       'nursing_home_count'],\n",
              "      dtype='object')"
            ]
          },
          "metadata": {
            "tags": []
          },
          "execution_count": 46
        }
      ]
    },
    {
      "cell_type": "code",
      "metadata": {
        "id": "3cKMK3y5Gh9G",
        "colab_type": "code",
        "colab": {
          "base_uri": "https://localhost:8080/",
          "height": 621
        },
        "outputId": "c6c1f3c0-b704-4e1d-8699-5afc0990353d"
      },
      "source": [
        "plt.figure(figsize=[15,8])\n",
        "sb.heatmap(df_subset.corr(),cmap='viridis_r',annot=True)"
      ],
      "execution_count": 47,
      "outputs": [
        {
          "output_type": "execute_result",
          "data": {
            "text/plain": [
              "<matplotlib.axes._subplots.AxesSubplot at 0x7ff16f501160>"
            ]
          },
          "metadata": {
            "tags": []
          },
          "execution_count": 47
        },
        {
          "output_type": "display_data",
          "data": {
            "image/png": "[encoded data removed]",
            "text/plain": [
              "<Figure size 1080x576 with 2 Axes>"
            ]
          },
          "metadata": {
            "tags": []
          }
        }
      ]
    },
    {
      "cell_type": "code",
      "metadata": {
        "id": "SjEe2VzEF4xh",
        "colab_type": "code",
        "colab": {
          "base_uri": "https://localhost:8080/",
          "height": 1000
        },
        "outputId": "16621d57-05d6-40a5-ab13-08bb938d9c1f"
      },
      "source": [
        "plt.figure(figsize=[15,8])\n",
        "g= sb.PairGrid(data = df_subset, vars = ['nb_of_patients', 'avg_temp', 'max_wind_speed','avg_relative_humidity','elementary_school_count', 'kindergarten_count', 'university_count',\n",
        "'elderly_population_ratio','nursing_home_count'])\n",
        "g.map_diag(plt.hist)\n",
        "g.map_offdiag(plt.scatter)"
      ],
      "execution_count": 48,
      "outputs": [
        {
          "output_type": "execute_result",
          "data": {
            "text/plain": [
              "<seaborn.axisgrid.PairGrid at 0x7ff173144438>"
            ]
          },
          "metadata": {
            "tags": []
          },
          "execution_count": 48
        },
        {
          "output_type": "display_data",
          "data": {
            "text/plain": [
              "<Figure size 1080x576 with 0 Axes>"
            ]
          },
          "metadata": {
            "tags": []
          }
        },
        {
          "output_type": "display_data",
          "data": {
            "image/png": "[encoded data removed]",
            "text/plain": [
              "<Figure size 1620x1620 with 90 Axes>"
            ]
          },
          "metadata": {
            "tags": []
          }
        }
      ]
    },
    {
      "cell_type": "markdown",
      "metadata": {
        "id": "ckMPUFuCR45e",
        "colab_type": "text"
      },
      "source": [
        "All Observations made here are merly visual observations made through the different plottings that actually require more in depth analysis and more availability of big data and model building before confirming any of them. \n",
        "By plotting pair grid of several numerical variables (['nb_of_patients', 'avg_temp', 'max_wind_speed','avg_relative_humidity','elementary_school_count', 'kindergarten_count', 'university_count',\n",
        "'elderly_population_ratio','nursing_home_count']), several observations are made:\n",
        "\n",
        "* There is a weak positive pearson correlation between the number of kindergarten, schools in any province and the number of coronavirus patients. In the case of count of universities, the relation is moderate positive with a value of 0.51. This could be due to the high density of these places and that makes sense why most countries closed the premissies of their schools and universities. We see earlier on previous visualizations that 20s age  people are most susceptible to get infected by coronavirus and that observation here comes to support the previous observation so provinces with high number of active universities will have higher risk of having higher number of patients.\n",
        "\n",
        "* there is a weak negative relationship between the average temperature and humidity on one hand and the number of patients on the other hand in the provinces. This could weakly suggest the assumption that the Covid 19 does not spread highly in high temperatured humid regions. The previous known strains of coronaviruses were weak in high temperatures but we still don't enough information to sustain that in the new Covid-19. Some researchers are already investigating the temperature effect https://www.accuweather.com/en/health-wellness/higher-temperatures-affect-survival-of-new-coronavirus-pathologist-says/700800\n",
        "\n",
        "* There is a weak positive pearson correltion between the ratio of elderly in the province and the number of its coronavirus patients. We see eralier on previous visualization that elderly people are highly susceptible to get infected by coronavirus and that observation here comes to support the previous pbservation so provinces with high elederly ratio will have higher risk of having higher number of patients."
      ]
    },
    {
      "cell_type": "markdown",
      "metadata": {
        "id": "7Hj0FuZ7PdiM",
        "colab_type": "text"
      },
      "source": [
        "> Make sure that, after every plot or related series of plots, that you\n",
        "include a Markdown cell with comments about what you observed, and what\n",
        "you plan on investigating next."
      ]
    },
    {
      "cell_type": "code",
      "metadata": {
        "id": "jan8P0xPPdiP",
        "colab_type": "code",
        "colab": {}
      },
      "source": [
        ""
      ],
      "execution_count": 0,
      "outputs": []
    },
    {
      "cell_type": "markdown",
      "metadata": {
        "id": "b4GZc4pYPdi8",
        "colab_type": "text"
      },
      "source": [
        "## Multivariate Exploration"
      ]
    },
    {
      "cell_type": "markdown",
      "metadata": {
        "id": "waDeA-xyaiEc",
        "colab_type": "text"
      },
      "source": [
        "### Investigating the relation between age, sex, contact number variables"
      ]
    },
    {
      "cell_type": "code",
      "metadata": {
        "id": "j8qhMLCtPdjC",
        "colab_type": "code",
        "colab": {
          "base_uri": "https://localhost:8080/",
          "height": 512
        },
        "outputId": "88fa139f-81ca-4774-d958-d4a203315ed6"
      },
      "source": [
        "# plotting a FacetGrid to investigate the relation between two categorical variables (age,sex) with one numerical variable (contact_number)\n",
        "g = sb.FacetGrid( data = patient_df, col = 'sex',height=6,ylim=(0,150))\n",
        "g.map(sb.boxplot,'age','contact_number')"
      ],
      "execution_count": 88,
      "outputs": [
        {
          "output_type": "stream",
          "text": [
            "/usr/local/lib/python3.6/dist-packages/seaborn/axisgrid.py:728: UserWarning: Using the boxplot function without specifying `order` is likely to produce an incorrect plot.\n",
            "  warnings.warn(warning)\n"
          ],
          "name": "stderr"
        },
        {
          "output_type": "execute_result",
          "data": {
            "text/plain": [
              "<seaborn.axisgrid.FacetGrid at 0x7ff16cfe2ba8>"
            ]
          },
          "metadata": {
            "tags": []
          },
          "execution_count": 88
        },
        {
          "output_type": "display_data",
          "data": {
            "image/png": "[encoded data removed]",
            "text/plain": [
              "<Figure size 864x432 with 2 Axes>"
            ]
          },
          "metadata": {
            "tags": []
          }
        }
      ]
    },
    {
      "cell_type": "markdown",
      "metadata": {
        "id": "bAocUy22oDFj",
        "colab_type": "text"
      },
      "source": [
        "by investigating the age, sex and contact variables together by a facet grid using boxplot, I noticed that in age ranges (20s, 30s, 40s, 50s) male gender has more contact than female gender. In other age ranges they pretty similar. This observation may suggest that male in different age ranges contact more people than female before being diagnosed with coronavirus. This fact may be due to the gender inequality issue in South Korea where men have higher proportions in education enviroment and work enviroment. https://en.wikipedia.org/wiki/Gender_inequality_in_South_Korea "
      ]
    },
    {
      "cell_type": "code",
      "metadata": {
        "id": "_-xBA4T3i1yY",
        "colab_type": "code",
        "colab": {
          "base_uri": "https://localhost:8080/",
          "height": 102
        },
        "outputId": "a8bb826c-bfa8-401b-99f6-031431810dc5"
      },
      "source": [
        "province_count = patient_df['province'].value_counts()\n",
        "province_count.index"
      ],
      "execution_count": 99,
      "outputs": [
        {
          "output_type": "execute_result",
          "data": {
            "text/plain": [
              "Index(['Gyeongsangbuk-do', 'Gyeonggi-do', 'Seoul', 'Chungcheongnam-do',\n",
              "       'Busan', 'Gyeongsangnam-do', 'Daegu', 'Sejong', 'Incheon', 'Ulsan',\n",
              "       'Gangwon-do', 'Chungcheongbuk-do', 'Daejeon', 'Gwangju', 'Jeollabuk-do',\n",
              "       'Jeollanam-do', 'Jeju-do'],\n",
              "      dtype='object')"
            ]
          },
          "metadata": {
            "tags": []
          },
          "execution_count": 99
        }
      ]
    },
    {
      "cell_type": "code",
      "metadata": {
        "id": "WLBw7Oo8PdjR",
        "colab_type": "code",
        "colab": {
          "base_uri": "https://localhost:8080/",
          "height": 1000
        },
        "outputId": "eb3ec21d-f3a3-4a45-969c-5f2c4502ef9d"
      },
      "source": [
        "g = sb.FacetGrid( data = patient_df, col = 'province',col_wrap=3,height=6,ylim=(0,100),col_order=province_count.index)\n",
        "g.map(sb.boxplot,'age','contact_number');\n"
      ],
      "execution_count": 110,
      "outputs": [
        {
          "output_type": "stream",
          "text": [
            "/usr/local/lib/python3.6/dist-packages/seaborn/axisgrid.py:728: UserWarning: Using the boxplot function without specifying `order` is likely to produce an incorrect plot.\n",
            "  warnings.warn(warning)\n"
          ],
          "name": "stderr"
        },
        {
          "output_type": "display_data",
          "data": {
            "image/png": "[encoded data removed]",
            "text/plain": [
              "<Figure size 1296x2592 with 17 Axes>"
            ]
          },
          "metadata": {
            "tags": []
          }
        }
      ]
    },
    {
      "cell_type": "markdown",
      "metadata": {
        "id": "Kvo6WGojrYO_",
        "colab_type": "text"
      },
      "source": [
        "by plotting provinces, age ranges and contacted people together through FacetGrid, I noticed that in general the provinces that has the highest number of patients has also the highest distribution in contact number and highest contact number.  "
      ]
    }
  ]
}